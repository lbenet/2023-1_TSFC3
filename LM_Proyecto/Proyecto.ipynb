{
 "cells": [
  {
   "cell_type": "markdown",
   "id": "e9da597f",
   "metadata": {},
   "source": [
    "# Proyecto: Implementación del concepto de ''caja''"
   ]
  },
  {
   "cell_type": "markdown",
   "id": "e7cf65a6",
   "metadata": {},
   "source": [
    "$\\textbf{Descripción}$: En este proyecto se busca implementar el concepto de \"caja\", \n",
    "el cual se refiere al producto carteriano de n intervalos.\n",
    "Además, se pretende extender el concepto a n-dimensiones\n",
    "\n",
    "Por otro lado, se pretende que esta estructura sea lo suficientmente\n",
    "adecuada para poderla utilizar en alguna aplcación, por ejemplo, en \n",
    "la busqueda de ceros de sistemas de ecuaciones."
   ]
  },
  {
   "cell_type": "markdown",
   "id": "70866197",
   "metadata": {},
   "source": [
    "## Introducción\n",
    "\n",
    "Un n-dimensional vector de intervalos: Este se refiere a un vector cuyos \n",
    "elementos son intervalos. En el caso de un vector de intervalos 2-Dimensional\n",
    "se tiene algo como X=(Intervalo(x1,X1),Intervalo(x2,X2)).\n",
    "\n",
    "Luego, este vector de intervalos (2-dimensional) se puede visualizar en el plano \n",
    "cartesiano como el rectangulo que contine el conjunto de puntos que cumplen que\n",
    "x1<x<X1 y x2<y<X2. Vemos que esto corresponde justamente al producto cartesiano \n",
    "de los intervalos dentro del vector de intervalos y más aún, si pensamos en un \n",
    "vector de intervalos 3-dimensional podemos ver que lo que se representa en el plano\n",
    "cartesiano es el conjunto de puntos contenidos en una \"caja\".\n"
   ]
  },
  {
   "attachments": {
    "image.png": {
     "image/png": "[encoded data removed]"
    }
   },
   "cell_type": "markdown",
   "id": "8b2be074",
   "metadata": {},
   "source": [
    "![image.png](attachment:image.png)"
   ]
  },
  {
   "cell_type": "markdown",
   "id": "61f69fb1",
   "metadata": {},
   "source": [
    "## Propiedades\n",
    "\n",
    "1. Si x=(x1,x2,...,xn) es un conjunto de valores reales y X=(X1,...Xn) es n vector de\n",
    "intervalos, entonces decimos que x está contenido en X si xi pertenece a Xi para i=1,..,n.\n",
    "\n",
    "$x \\in X ~si~ x_i \\in X_i ~para~ i=1,\\cdots,n$\n",
    "\n",
    "2. La intersección de dos vectores de intervalos es vacía si cualqueira de las \n",
    "intersecciones Xi ∩ Yi, i=1,..n, es vacía. Dr otra forma se tiene que la intersección\n",
    "entre los vectores de intervalos corresponde al vector de intervalos cuyas entradas\n",
    "son Xi ∩ Yi, i=1,..n.\n",
    "\n",
    "$X_i \\cap Y_i=(X_1 \\cap Y_1,X_2 \\cap Y_2,\\cdots,X_n \\cap Y_n)$\n",
    "\n",
    "3. Si X=(X1,...Xn) y Y=(Y1,...Yn) son vectores de interavalos entonces se dice que X \n",
    "está contenido en Y si Xi está contenido en Yi, i=1,..,n.\n",
    "\n",
    "$X \\subset Y~ si~  X_i \\subset Y_i~ para~ i=1,\\cdots,n$\n",
    "\n",
    "4. El ancho de un vector de intervalos X=(X1,...Xn) se define como el ancho\n",
    "más grande de sus componentes.\n",
    "\n",
    "$diam(X)=max(diam(X_i)), ~i=1,\\cdots, n$\n",
    "\n",
    "5. El punto medio de un vector de intervalos X=(X1,...Xn) se define como el vector\n",
    "cuyas entradas son los puntos medios de cada Xi.\n",
    "\n",
    "$mid(X)=(mid(X1),mid(X2),...,mid(X3))$\n",
    "\n",
    "6. La norma de un vector de intervalos X=(X1,...Xn) se define como el máximo de los valores\n",
    "absolutos de las componentes de cada intervalo.\n",
    "\n",
    "$||X||=max(max(abs(X_i))), ~i=1,...,n$"
   ]
  },
  {
   "cell_type": "markdown",
   "id": "9357e88a",
   "metadata": {},
   "source": [
    "##  Funciones a implementar\n",
    "\n",
    "Por cada una de las propiedades habrá que implementar una función."
   ]
  },
  {
   "cell_type": "code",
   "execution_count": 1,
   "id": "e2cfdd70",
   "metadata": {
    "ExecuteTime": {
     "end_time": "2022-12-07T11:57:48.354000-06:00",
     "start_time": "2022-12-07T17:57:45.160Z"
    }
   },
   "outputs": [
    {
     "data": {
      "text/plain": [
       "esmonotona (generic function with 1 method)"
      ]
     },
     "execution_count": 1,
     "metadata": {},
     "output_type": "execute_result"
    }
   ],
   "source": [
    "include(\"intervalos.jl\")"
   ]
  },
  {
   "cell_type": "markdown",
   "id": "c80cae6e",
   "metadata": {},
   "source": [
    " ### Estructura"
   ]
  },
  {
   "cell_type": "code",
   "execution_count": 2,
   "id": "0e9224f2",
   "metadata": {
    "ExecuteTime": {
     "end_time": "2022-12-07T11:57:48.443000-06:00",
     "start_time": "2022-12-07T17:57:46.802Z"
    }
   },
   "outputs": [],
   "source": [
    "#Definimos una estructura para un vector de intervalos\n",
    "\n",
    "struct V_Intervalos{T} \n",
    "    intervalos::T\n",
    "    function V_Intervalos(a::Intervalo{S}) where {S<:Real}\n",
    "        \n",
    "        new{typeof(a)}(a)\n",
    "    end\n",
    "end"
   ]
  },
  {
   "cell_type": "code",
   "execution_count": 3,
   "id": "f1242f68",
   "metadata": {
    "ExecuteTime": {
     "end_time": "2022-12-07T11:57:50.102000-06:00",
     "start_time": "2022-12-07T17:57:48.854Z"
    }
   },
   "outputs": [
    {
     "data": {
      "text/plain": [
       "V_Intervalos"
      ]
     },
     "execution_count": 3,
     "metadata": {},
     "output_type": "execute_result"
    }
   ],
   "source": [
    "#Como el vector de intervalos puede ser n-dimensional entonces lo creamos con argumentos variables\n",
    "V_Intervalos(a::Intervalo,b::Intervalo...)= (a,b...)"
   ]
  },
  {
   "cell_type": "markdown",
   "id": "3f6e5356",
   "metadata": {},
   "source": [
    "### Propiedad 1:"
   ]
  },
  {
   "cell_type": "code",
   "execution_count": 5,
   "id": "8b127f65",
   "metadata": {
    "ExecuteTime": {
     "end_time": "2022-12-07T11:58:09.693000-06:00",
     "start_time": "2022-12-07T17:58:09.690Z"
    }
   },
   "outputs": [],
   "source": [
    "import Base: ∈"
   ]
  },
  {
   "cell_type": "code",
   "execution_count": 6,
   "id": "ec210e88",
   "metadata": {
    "ExecuteTime": {
     "end_time": "2022-12-07T11:58:10.726000-06:00",
     "start_time": "2022-12-07T17:58:10.488Z"
    }
   },
   "outputs": [
    {
     "data": {
      "text/plain": [
       "in (generic function with 38 methods)"
      ]
     },
     "execution_count": 6,
     "metadata": {},
     "output_type": "execute_result"
    }
   ],
   "source": [
    "function ∈(a::Tuple, b::Tuple)\n",
    "    length(a)!=length(b) && error(\"Dimensiones distintas\")\n",
    "    bol=true\n",
    "    num=1\n",
    "   while bol && num ≤ length(a)\n",
    "        if a[num] ∈ b[num]\n",
    "        else\n",
    "            bol=!bol\n",
    "        end\n",
    "        num+=1\n",
    "   end\n",
    "    return bol\n",
    "end"
   ]
  },
  {
   "cell_type": "code",
   "execution_count": 8,
   "id": "642b327d",
   "metadata": {
    "ExecuteTime": {
     "end_time": "2022-12-07T11:58:17.828000-06:00",
     "start_time": "2022-12-07T17:58:16.856Z"
    }
   },
   "outputs": [
    {
     "data": {
      "text/plain": [
       "false"
      ]
     },
     "execution_count": 8,
     "metadata": {},
     "output_type": "execute_result"
    }
   ],
   "source": [
    "(-1,0.5,3) ∈ V_Intervalos(a,b,Intervalo(1,3)) "
   ]
  },
  {
   "cell_type": "code",
   "execution_count": 9,
   "id": "dbc9265d",
   "metadata": {
    "ExecuteTime": {
     "end_time": "2022-12-07T11:58:17.893000-06:00",
     "start_time": "2022-12-07T17:58:17.623Z"
    }
   },
   "outputs": [
    {
     "data": {
      "text/plain": [
       "true"
      ]
     },
     "execution_count": 9,
     "metadata": {},
     "output_type": "execute_result"
    }
   ],
   "source": [
    "(1,0.5,3,4) ∈ V_Intervalos(a,b,c,d) "
   ]
  },
  {
   "cell_type": "code",
   "execution_count": 62,
   "id": "ad28a81d",
   "metadata": {
    "ExecuteTime": {
     "end_time": "2022-12-07T14:22:03.654000-06:00",
     "start_time": "2022-12-07T20:22:03.647Z"
    }
   },
   "outputs": [
    {
     "data": {
      "text/plain": [
       "Intervalo{Float64}(3.0, 9.0)"
      ]
     },
     "execution_count": 62,
     "metadata": {},
     "output_type": "execute_result"
    }
   ],
   "source": [
    "a=Intervalo(1,2)\n",
    "b=Intervalo(big(0.1),1)\n",
    "c=Intervalo(1,3)\n",
    "d=Intervalo(3,9)"
   ]
  },
  {
   "cell_type": "markdown",
   "id": "1704fee4",
   "metadata": {},
   "source": [
    "### Propiedad 2"
   ]
  },
  {
   "cell_type": "code",
   "execution_count": 10,
   "id": "5df90f58",
   "metadata": {
    "ExecuteTime": {
     "end_time": "2022-12-07T11:58:20.463000-06:00",
     "start_time": "2022-12-07T17:58:20.458Z"
    }
   },
   "outputs": [],
   "source": [
    "import Base: ∩"
   ]
  },
  {
   "cell_type": "code",
   "execution_count": 11,
   "id": "fe6975b2",
   "metadata": {
    "ExecuteTime": {
     "end_time": "2022-12-07T11:58:21.038000-06:00",
     "start_time": "2022-12-07T17:58:21.030Z"
    }
   },
   "outputs": [
    {
     "data": {
      "text/plain": [
       "in (generic function with 39 methods)"
      ]
     },
     "execution_count": 11,
     "metadata": {},
     "output_type": "execute_result"
    }
   ],
   "source": [
    "function ∈(a::Intervalo,b::Tuple)\n",
    "    num=1\n",
    "    while num ≤ length(b)\n",
    "        if a==b[num]\n",
    "            return true\n",
    "            break\n",
    "        end\n",
    "        num+=1\n",
    "    end\n",
    "    return false\n",
    "end\n",
    "        "
   ]
  },
  {
   "cell_type": "code",
   "execution_count": 12,
   "id": "c53bbe73",
   "metadata": {
    "ExecuteTime": {
     "end_time": "2022-12-07T11:58:23.394000-06:00",
     "start_time": "2022-12-07T17:58:23.296Z"
    }
   },
   "outputs": [
    {
     "data": {
      "text/plain": [
       "false"
      ]
     },
     "execution_count": 12,
     "metadata": {},
     "output_type": "execute_result"
    }
   ],
   "source": [
    "a ∈ V_Intervalos(b,c,d) "
   ]
  },
  {
   "cell_type": "code",
   "execution_count": 13,
   "id": "33e85974",
   "metadata": {
    "ExecuteTime": {
     "end_time": "2022-12-07T11:58:24.279000-06:00",
     "start_time": "2022-12-07T17:58:24.124Z"
    }
   },
   "outputs": [
    {
     "data": {
      "text/plain": [
       "true"
      ]
     },
     "execution_count": 13,
     "metadata": {},
     "output_type": "execute_result"
    }
   ],
   "source": [
    "intervalo_vacio(b) ∈ V_Intervalos(intervalo_vacio(Real),b,c,d)"
   ]
  },
  {
   "cell_type": "code",
   "execution_count": 14,
   "id": "66a1c72d",
   "metadata": {
    "ExecuteTime": {
     "end_time": "2022-12-07T11:58:26.348000-06:00",
     "start_time": "2022-12-07T17:58:26.135Z"
    }
   },
   "outputs": [
    {
     "data": {
      "text/plain": [
       "intersect (generic function with 24 methods)"
      ]
     },
     "execution_count": 14,
     "metadata": {},
     "output_type": "execute_result"
    }
   ],
   "source": [
    "function ∩(a::Tuple, b::Tuple)\n",
    "    length(a)!=length(b) && error(\"Dimensiones distintas\")\n",
    "    if intervalo_vacio(Real) ∈ a || intervalo_vacio(Real) ∈ b\n",
    "        return intervalo_vacio(Real)\n",
    "    end\n",
    "    num=1\n",
    "    intersecciones=[]\n",
    "    while num ≤ length(b)\n",
    "        inter=a[num] ∩ b[num]\n",
    "        if inter == intervalo_vacio(Real)\n",
    "            return intervalo_vacio(Real)\n",
    "            break\n",
    "        end\n",
    "        append!(intersecciones,inter)\n",
    "        num+=1\n",
    "    end\n",
    "    return V_Intervalos.(intersecciones...)\n",
    "end"
   ]
  },
  {
   "cell_type": "code",
   "execution_count": 15,
   "id": "d2536769",
   "metadata": {
    "ExecuteTime": {
     "end_time": "2022-12-07T11:58:28.516000-06:00",
     "start_time": "2022-12-07T17:58:28.208Z"
    }
   },
   "outputs": [
    {
     "data": {
      "text/plain": [
       "Intervalo{Float64}(NaN, NaN)"
      ]
     },
     "execution_count": 15,
     "metadata": {},
     "output_type": "execute_result"
    }
   ],
   "source": [
    "V_Intervalos(a,b,c,d) ∩ V_Intervalos(intervalo_vacio(Real),b,c,d)"
   ]
  },
  {
   "cell_type": "code",
   "execution_count": 16,
   "id": "effa3533",
   "metadata": {
    "ExecuteTime": {
     "end_time": "2022-12-07T11:58:29.963000-06:00",
     "start_time": "2022-12-07T17:58:28.973Z"
    }
   },
   "outputs": [
    {
     "data": {
      "text/plain": [
       "(Intervalo{Float64}(1.0, 2.0), Intervalo{BigFloat}(0.1000000000000000055511151231257827021181583404541015625, 1.0), Intervalo{Float64}(1.0, 3.0), Intervalo{Float64}(3.0, 9.0))"
      ]
     },
     "execution_count": 16,
     "metadata": {},
     "output_type": "execute_result"
    }
   ],
   "source": [
    "V_Intervalos(a,b,c,d) ∩ V_Intervalos(a,b,c,d)"
   ]
  },
  {
   "cell_type": "code",
   "execution_count": 17,
   "id": "ecd24311",
   "metadata": {
    "ExecuteTime": {
     "end_time": "2022-12-07T11:58:30.686000-06:00",
     "start_time": "2022-12-07T17:58:30.526Z"
    }
   },
   "outputs": [
    {
     "data": {
      "text/plain": [
       "Intervalo{Float64}(NaN, NaN)"
      ]
     },
     "execution_count": 17,
     "metadata": {},
     "output_type": "execute_result"
    }
   ],
   "source": [
    "V_Intervalos(a,b,c,d) ∩ V_Intervalos(d,c,b,a)"
   ]
  },
  {
   "cell_type": "markdown",
   "id": "d93bbcc7",
   "metadata": {
    "ExecuteTime": {
     "end_time": "2022-12-07T01:10:48.402000-06:00",
     "start_time": "2022-12-07T07:10:48.398Z"
    }
   },
   "source": [
    "### Propiedad 3"
   ]
  },
  {
   "cell_type": "code",
   "execution_count": 18,
   "id": "7377c901",
   "metadata": {
    "ExecuteTime": {
     "end_time": "2022-12-07T11:58:33.267000-06:00",
     "start_time": "2022-12-07T17:58:33.262Z"
    }
   },
   "outputs": [],
   "source": [
    "import Base: ⊆"
   ]
  },
  {
   "cell_type": "code",
   "execution_count": 21,
   "id": "c38ddf46",
   "metadata": {
    "ExecuteTime": {
     "end_time": "2022-12-07T11:58:41.637000-06:00",
     "start_time": "2022-12-07T17:58:41.630Z"
    }
   },
   "outputs": [
    {
     "data": {
      "text/plain": [
       "issubset (generic function with 6 methods)"
      ]
     },
     "execution_count": 21,
     "metadata": {},
     "output_type": "execute_result"
    }
   ],
   "source": [
    "function ⊆(a::Tuple,b::Tuple)\n",
    "    length(a)!=length(b) && error(\"Dimensiones distintas\")\n",
    "    num=1\n",
    "    bol=true\n",
    "    while bol && num ≤ length(b)\n",
    "        if a[num] ⊆ b[num]\n",
    "        else\n",
    "            bol=false\n",
    "            break\n",
    "        end\n",
    "        num+=1\n",
    "    end\n",
    "    return bol\n",
    "end"
   ]
  },
  {
   "cell_type": "code",
   "execution_count": 23,
   "id": "30225fc8",
   "metadata": {
    "ExecuteTime": {
     "end_time": "2022-12-07T11:58:52.924000-06:00",
     "start_time": "2022-12-07T17:58:52.919Z"
    }
   },
   "outputs": [
    {
     "data": {
      "text/plain": [
       "false"
      ]
     },
     "execution_count": 23,
     "metadata": {},
     "output_type": "execute_result"
    }
   ],
   "source": [
    "V_Intervalos(Intervalo(-1,1),b,c,d) ⊆ V_Intervalos(a,b,c,d)"
   ]
  },
  {
   "cell_type": "code",
   "execution_count": 24,
   "id": "6d9ce0dd",
   "metadata": {
    "ExecuteTime": {
     "end_time": "2022-12-07T11:59:12.018000-06:00",
     "start_time": "2022-12-07T17:59:12.012Z"
    }
   },
   "outputs": [
    {
     "data": {
      "text/plain": [
       "true"
      ]
     },
     "execution_count": 24,
     "metadata": {},
     "output_type": "execute_result"
    }
   ],
   "source": [
    "V_Intervalos(Intervalo(-1,1),b,c,d) ⊆ V_Intervalos(Intervalo(-2,5),b,c,d)"
   ]
  },
  {
   "cell_type": "markdown",
   "id": "b2724c7a",
   "metadata": {},
   "source": [
    "### Propiedad 4"
   ]
  },
  {
   "cell_type": "code",
   "execution_count": 52,
   "id": "a4b67b64",
   "metadata": {
    "ExecuteTime": {
     "end_time": "2022-12-07T14:17:15.485000-06:00",
     "start_time": "2022-12-07T20:17:15.470Z"
    }
   },
   "outputs": [
    {
     "data": {
      "text/plain": [
       "(Intervalo{Float64}(-2.0, 5.0), Intervalo{BigFloat}(0.1000000000000000055511151231257827021181583404541015625, 1.0), Intervalo{Float64}(1.0, 3.0), Intervalo{Float64}(3.0, 9.0))"
      ]
     },
     "execution_count": 52,
     "metadata": {},
     "output_type": "execute_result"
    }
   ],
   "source": [
    "A=V_Intervalos(Intervalo(-2,5),b,c,d)"
   ]
  },
  {
   "cell_type": "code",
   "execution_count": 26,
   "id": "74aa065b",
   "metadata": {
    "ExecuteTime": {
     "end_time": "2022-12-07T14:07:47.624000-06:00",
     "start_time": "2022-12-07T20:07:47.309Z"
    }
   },
   "outputs": [
    {
     "data": {
      "text/plain": [
       "diam (generic function with 1 method)"
      ]
     },
     "execution_count": 26,
     "metadata": {},
     "output_type": "execute_result"
    }
   ],
   "source": [
    "function diam(a::Intervalo)\n",
    "    return a.supremo-a.infimo\n",
    "end"
   ]
  },
  {
   "cell_type": "code",
   "execution_count": 33,
   "id": "decc622a",
   "metadata": {
    "ExecuteTime": {
     "end_time": "2022-12-07T14:11:49.507000-06:00",
     "start_time": "2022-12-07T20:11:49.500Z"
    }
   },
   "outputs": [
    {
     "data": {
      "text/plain": [
       "Diam (generic function with 1 method)"
      ]
     },
     "execution_count": 33,
     "metadata": {},
     "output_type": "execute_result"
    }
   ],
   "source": [
    "function Diam(a::Tuple)\n",
    "    diametros=[]\n",
    "    for i in range(1,length(a))\n",
    "        append!(diametros,diam(a[i]))\n",
    "    end\n",
    "    return maximum(diametros)\n",
    "end"
   ]
  },
  {
   "cell_type": "code",
   "execution_count": 39,
   "id": "da472e07",
   "metadata": {
    "ExecuteTime": {
     "end_time": "2022-12-07T14:12:29.391000-06:00",
     "start_time": "2022-12-07T20:12:29.379Z"
    }
   },
   "outputs": [
    {
     "data": {
      "text/plain": [
       "7.0"
      ]
     },
     "execution_count": 39,
     "metadata": {},
     "output_type": "execute_result"
    }
   ],
   "source": [
    "Diam(A)"
   ]
  },
  {
   "cell_type": "markdown",
   "id": "6eeed373",
   "metadata": {},
   "source": [
    "### Propiedad 5"
   ]
  },
  {
   "cell_type": "code",
   "execution_count": 64,
   "id": "27e85dd4",
   "metadata": {
    "ExecuteTime": {
     "end_time": "2022-12-07T14:23:09.009000-06:00",
     "start_time": "2022-12-07T20:23:09.003Z"
    }
   },
   "outputs": [
    {
     "data": {
      "text/plain": [
       "mid (generic function with 1 method)"
      ]
     },
     "execution_count": 64,
     "metadata": {},
     "output_type": "execute_result"
    }
   ],
   "source": [
    "function mid(a::Intervalo)\n",
    "    return (a.supremo+a.infimo)/2\n",
    "end"
   ]
  },
  {
   "cell_type": "code",
   "execution_count": 69,
   "id": "ce3ba98e",
   "metadata": {
    "ExecuteTime": {
     "end_time": "2022-12-07T14:25:00.252000-06:00",
     "start_time": "2022-12-07T20:25:00.244Z"
    }
   },
   "outputs": [
    {
     "data": {
      "text/plain": [
       "Mid (generic function with 1 method)"
      ]
     },
     "execution_count": 69,
     "metadata": {},
     "output_type": "execute_result"
    }
   ],
   "source": [
    "function Mid(a::Tuple)\n",
    "    medios=[]\n",
    "    for i in range(1,length(a))\n",
    "#         print(mid(a[i]))\n",
    "        append!(medios,mid(a[i]))\n",
    "    end\n",
    "    return medios\n",
    "end"
   ]
  },
  {
   "cell_type": "code",
   "execution_count": 66,
   "id": "0bb4f8af",
   "metadata": {
    "ExecuteTime": {
     "end_time": "2022-12-07T14:23:11.690000-06:00",
     "start_time": "2022-12-07T20:23:11.636Z"
    }
   },
   "outputs": [
    {
     "name": "stdout",
     "output_type": "stream",
     "text": [
      "1.50.550000000000000002775557561562891351059079170227050781252.06.0"
     ]
    },
    {
     "data": {
      "text/plain": [
       "4-element Vector{Any}:\n",
       " 1.5\n",
       " 0.55000000000000000277555756156289135105907917022705078125\n",
       " 2.0\n",
       " 6.0"
      ]
     },
     "execution_count": 66,
     "metadata": {},
     "output_type": "execute_result"
    }
   ],
   "source": [
    "Mid(A)"
   ]
  },
  {
   "cell_type": "markdown",
   "id": "03538ada",
   "metadata": {},
   "source": [
    "### Propiedad 6"
   ]
  },
  {
   "cell_type": "code",
   "execution_count": null,
   "id": "7f47cb83",
   "metadata": {},
   "outputs": [],
   "source": [
    "function norma(a::Tuple)\n",
    "    maximos=[]\n",
    "    for i in range(1,length(a))\n",
    "        "
   ]
  }
 ],
 "metadata": {
  "kernelspec": {
   "display_name": "Julia 1.8.0",
   "language": "julia",
   "name": "julia-1.8"
  },
  "language_info": {
   "file_extension": ".jl",
   "mimetype": "application/julia",
   "name": "julia",
   "version": "1.8.0"
  },
  "toc": {
   "base_numbering": 1,
   "nav_menu": {},
   "number_sections": false,
   "sideBar": true,
   "skip_h1_title": false,
   "title_cell": "Table of Contents",
   "title_sidebar": "Contents",
   "toc_cell": false,
   "toc_position": {},
   "toc_section_display": true,
   "toc_window_display": true
  }
 },
 "nbformat": 4,
 "nbformat_minor": 5
}
