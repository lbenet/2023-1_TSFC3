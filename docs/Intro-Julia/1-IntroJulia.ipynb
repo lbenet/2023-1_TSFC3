{
 "cells": [
  {
   "cell_type": "markdown",
   "metadata": {},
   "source": [
    "# Introducción a Julia\n",
    "\n",
    "El texto canónico de referencia para cualquier cosa (duda o discusión) relacionada con Julia es la propia [documentación oficial de Julia](https://docs.julialang.org/en/v1/).\n",
    "\n",
    "## Asignación de variables"
   ]
  },
  {
   "cell_type": "code",
   "execution_count": 1,
   "metadata": {},
   "outputs": [
    {
     "data": {
      "text/plain": [
       "1.6"
      ]
     },
     "execution_count": 1,
     "metadata": {},
     "output_type": "execute_result"
    }
   ],
   "source": [
    "r = 1.6"
   ]
  },
  {
   "cell_type": "code",
   "execution_count": 2,
   "metadata": {},
   "outputs": [
    {
     "data": {
      "text/plain": [
       "10.053096491487338"
      ]
     },
     "execution_count": 2,
     "metadata": {},
     "output_type": "execute_result"
    }
   ],
   "source": [
    "circunf = 2pi * r"
   ]
  },
  {
   "cell_type": "code",
   "execution_count": 3,
   "metadata": {},
   "outputs": [
    {
     "data": {
      "text/plain": [
       "π = 3.1415926535897..."
      ]
     },
     "execution_count": 3,
     "metadata": {},
     "output_type": "execute_result"
    }
   ],
   "source": [
    "π   # `\\pi<TAB>`"
   ]
  },
  {
   "cell_type": "code",
   "execution_count": 4,
   "metadata": {},
   "outputs": [
    {
     "data": {
      "text/plain": [
       "17.15728467880506"
      ]
     },
     "execution_count": 4,
     "metadata": {},
     "output_type": "execute_result"
    }
   ],
   "source": [
    "vol_circ = (4/3) * π * r^3"
   ]
  },
  {
   "cell_type": "code",
   "execution_count": 5,
   "metadata": {},
   "outputs": [
    {
     "data": {
      "text/plain": [
       "1.706666666666667"
      ]
     },
     "execution_count": 5,
     "metadata": {},
     "output_type": "execute_result"
    }
   ],
   "source": [
    "vol_circ / circunf"
   ]
  },
  {
   "cell_type": "code",
   "execution_count": 6,
   "metadata": {},
   "outputs": [
    {
     "data": {
      "text/plain": [
       "\"Temas Selectos Física Computacional 1\""
      ]
     },
     "execution_count": 6,
     "metadata": {},
     "output_type": "execute_result"
    }
   ],
   "source": [
    "esta_clase = \"Temas Selectos Física Computacional 1\""
   ]
  },
  {
   "cell_type": "code",
   "execution_count": 7,
   "metadata": {},
   "outputs": [
    {
     "data": {
      "text/plain": [
       "1.6"
      ]
     },
     "execution_count": 7,
     "metadata": {},
     "output_type": "execute_result"
    }
   ],
   "source": [
    "r"
   ]
  },
  {
   "cell_type": "code",
   "execution_count": 8,
   "metadata": {},
   "outputs": [
    {
     "data": {
      "text/plain": [
       "1.0"
      ]
     },
     "execution_count": 8,
     "metadata": {},
     "output_type": "execute_result"
    }
   ],
   "source": [
    "r = 1.0"
   ]
  },
  {
   "cell_type": "code",
   "execution_count": 9,
   "metadata": {},
   "outputs": [
    {
     "data": {
      "text/plain": [
       "10.053096491487338"
      ]
     },
     "execution_count": 9,
     "metadata": {},
     "output_type": "execute_result"
    }
   ],
   "source": [
    "circunf"
   ]
  },
  {
   "cell_type": "code",
   "execution_count": 11,
   "metadata": {},
   "outputs": [
    {
     "data": {
      "text/plain": [
       "1 + 2im"
      ]
     },
     "execution_count": 11,
     "metadata": {},
     "output_type": "execute_result"
    }
   ],
   "source": [
    "1+2im"
   ]
  },
  {
   "cell_type": "code",
   "execution_count": 10,
   "metadata": {},
   "outputs": [
    {
     "data": {
      "text/plain": [
       "-1 + 0im"
      ]
     },
     "execution_count": 10,
     "metadata": {},
     "output_type": "execute_result"
    }
   ],
   "source": [
    "(1im)^2"
   ]
  },
  {
   "cell_type": "code",
   "execution_count": 12,
   "metadata": {},
   "outputs": [
    {
     "data": {
      "text/plain": [
       "5//6"
      ]
     },
     "execution_count": 12,
     "metadata": {},
     "output_type": "execute_result"
    }
   ],
   "source": [
    "1//2 + 1//3"
   ]
  },
  {
   "cell_type": "code",
   "execution_count": 13,
   "metadata": {},
   "outputs": [
    {
     "data": {
      "text/plain": [
       "3.141592653589793"
      ]
     },
     "execution_count": 13,
     "metadata": {},
     "output_type": "execute_result"
    }
   ],
   "source": [
    "1 * pi"
   ]
  },
  {
   "cell_type": "code",
   "execution_count": 14,
   "metadata": {},
   "outputs": [
    {
     "data": {
      "text/plain": [
       "3.141592653589793238462643383279502884197169399375105820974944592307816406286198"
      ]
     },
     "execution_count": 14,
     "metadata": {},
     "output_type": "execute_result"
    }
   ],
   "source": [
    "big(1) * pi"
   ]
  },
  {
   "cell_type": "code",
   "execution_count": 15,
   "metadata": {},
   "outputs": [
    {
     "data": {
      "text/plain": [
       "4-element Vector{Int64}:\n",
       " 1\n",
       " 2\n",
       " 3\n",
       " 4"
      ]
     },
     "execution_count": 15,
     "metadata": {},
     "output_type": "execute_result"
    }
   ],
   "source": [
    "un_vector = [1,2,3,4]"
   ]
  },
  {
   "cell_type": "code",
   "execution_count": 16,
   "metadata": {},
   "outputs": [
    {
     "data": {
      "text/plain": [
       "(1, 2, 3, 4)"
      ]
     },
     "execution_count": 16,
     "metadata": {},
     "output_type": "execute_result"
    }
   ],
   "source": [
    "una_tupla = (1, 2, 3, 4)"
   ]
  },
  {
   "cell_type": "markdown",
   "metadata": {},
   "source": [
    "La diferencia entre una tupla y un vector, es que la tupla es *inmutable*, mientras que el vector es mutable, es decir, sus elemntos pueden ser cambiados de manera individual.\n",
    "\n",
    "## Tipos/estructuras\n",
    "\n",
    "En Julia, **todos** los objetos tienen asignado un tipo (*type*) o estructura. Esto permite, por un lado, entender el amacenamiento en memoria, y por otro lado, especificar el comportamiento bajo operaciones/funciones."
   ]
  },
  {
   "cell_type": "code",
   "execution_count": 17,
   "metadata": {},
   "outputs": [
    {
     "data": {
      "text/plain": [
       "Float64"
      ]
     },
     "execution_count": 17,
     "metadata": {},
     "output_type": "execute_result"
    }
   ],
   "source": [
    "typeof(r)"
   ]
  },
  {
   "cell_type": "code",
   "execution_count": 18,
   "metadata": {},
   "outputs": [
    {
     "data": {
      "text/plain": [
       "Irrational{:π}"
      ]
     },
     "execution_count": 18,
     "metadata": {},
     "output_type": "execute_result"
    }
   ],
   "source": [
    "typeof(pi)"
   ]
  },
  {
   "cell_type": "code",
   "execution_count": 19,
   "metadata": {},
   "outputs": [
    {
     "data": {
      "text/plain": [
       "String"
      ]
     },
     "execution_count": 19,
     "metadata": {},
     "output_type": "execute_result"
    }
   ],
   "source": [
    "typeof(esta_clase)"
   ]
  },
  {
   "cell_type": "code",
   "execution_count": 20,
   "metadata": {},
   "outputs": [
    {
     "data": {
      "text/plain": [
       "Int64"
      ]
     },
     "execution_count": 20,
     "metadata": {},
     "output_type": "execute_result"
    }
   ],
   "source": [
    "typeof(3)"
   ]
  },
  {
   "cell_type": "code",
   "execution_count": 21,
   "metadata": {},
   "outputs": [
    {
     "data": {
      "text/plain": [
       "Float64"
      ]
     },
     "execution_count": 21,
     "metadata": {},
     "output_type": "execute_result"
    }
   ],
   "source": [
    "typeof(3.0)"
   ]
  },
  {
   "cell_type": "code",
   "execution_count": 25,
   "metadata": {},
   "outputs": [
    {
     "data": {
      "text/plain": [
       "Complex{BigFloat}"
      ]
     },
     "execution_count": 25,
     "metadata": {},
     "output_type": "execute_result"
    }
   ],
   "source": [
    "typeof(big(1)+1.0im)"
   ]
  },
  {
   "cell_type": "code",
   "execution_count": 26,
   "metadata": {},
   "outputs": [
    {
     "data": {
      "text/plain": [
       "Rational{Int64}"
      ]
     },
     "execution_count": 26,
     "metadata": {},
     "output_type": "execute_result"
    }
   ],
   "source": [
    "typeof(1//2)"
   ]
  },
  {
   "cell_type": "markdown",
   "metadata": {},
   "source": [
    "Uno puede explorar la estructura del *árbol* de tipos en Julia usando `supertype` y `subtype`."
   ]
  },
  {
   "cell_type": "code",
   "execution_count": 27,
   "metadata": {},
   "outputs": [
    {
     "data": {
      "text/plain": [
       "AbstractFloat"
      ]
     },
     "execution_count": 27,
     "metadata": {},
     "output_type": "execute_result"
    }
   ],
   "source": [
    "supertype(Float64)"
   ]
  },
  {
   "cell_type": "code",
   "execution_count": 28,
   "metadata": {},
   "outputs": [
    {
     "data": {
      "text/plain": [
       "true"
      ]
     },
     "execution_count": 28,
     "metadata": {},
     "output_type": "execute_result"
    }
   ],
   "source": [
    "Float64 <: AbstractFloat"
   ]
  },
  {
   "cell_type": "code",
   "execution_count": 29,
   "metadata": {},
   "outputs": [
    {
     "data": {
      "text/plain": [
       "Real"
      ]
     },
     "execution_count": 29,
     "metadata": {},
     "output_type": "execute_result"
    }
   ],
   "source": [
    "supertype(AbstractFloat)"
   ]
  },
  {
   "cell_type": "code",
   "execution_count": 30,
   "metadata": {},
   "outputs": [
    {
     "data": {
      "text/plain": [
       "4-element Vector{Any}:\n",
       " AbstractFloat\n",
       " AbstractIrrational\n",
       " Integer\n",
       " Rational"
      ]
     },
     "execution_count": 30,
     "metadata": {},
     "output_type": "execute_result"
    }
   ],
   "source": [
    "subtypes(ans)   # `ans` corresponde al último resultado obtenido"
   ]
  },
  {
   "cell_type": "code",
   "execution_count": 31,
   "metadata": {},
   "outputs": [
    {
     "data": {
      "text/plain": [
       "true"
      ]
     },
     "execution_count": 31,
     "metadata": {},
     "output_type": "execute_result"
    }
   ],
   "source": [
    "3.0 isa Float64"
   ]
  },
  {
   "cell_type": "markdown",
   "metadata": {},
   "source": [
    "Los tipos pueden ser \"concretos\" o \"abstractos\". La diferencia tiene que ver con la manera en que la estructura de datos es almacenada en memoria, y esto es importante para el desempeño (*performance*)."
   ]
  },
  {
   "cell_type": "code",
   "execution_count": 36,
   "metadata": {},
   "outputs": [
    {
     "data": {
      "text/plain": [
       "false"
      ]
     },
     "execution_count": 36,
     "metadata": {},
     "output_type": "execute_result"
    }
   ],
   "source": [
    "isconcretetype(big)"
   ]
  },
  {
   "cell_type": "code",
   "execution_count": 33,
   "metadata": {},
   "outputs": [
    {
     "data": {
      "text/plain": [
       "false"
      ]
     },
     "execution_count": 33,
     "metadata": {},
     "output_type": "execute_result"
    }
   ],
   "source": [
    "isconcretetype(AbstractFloat)"
   ]
  },
  {
   "cell_type": "code",
   "execution_count": 34,
   "metadata": {},
   "outputs": [
    {
     "data": {
      "text/plain": [
       "true"
      ]
     },
     "execution_count": 34,
     "metadata": {},
     "output_type": "execute_result"
    }
   ],
   "source": [
    "isabstracttype(AbstractFloat)"
   ]
  },
  {
   "cell_type": "markdown",
   "metadata": {},
   "source": [
    "En el árbol de los tipos, todos los tipos son subtipos de `Any`."
   ]
  },
  {
   "cell_type": "code",
   "execution_count": 37,
   "metadata": {},
   "outputs": [
    {
     "data": {
      "text/plain": [
       "true"
      ]
     },
     "execution_count": 37,
     "metadata": {},
     "output_type": "execute_result"
    }
   ],
   "source": [
    "Float64 <: Any"
   ]
  },
  {
   "cell_type": "code",
   "execution_count": 38,
   "metadata": {},
   "outputs": [
    {
     "data": {
      "text/plain": [
       "true"
      ]
     },
     "execution_count": 38,
     "metadata": {},
     "output_type": "execute_result"
    }
   ],
   "source": [
    "Any <: Any"
   ]
  },
  {
   "cell_type": "markdown",
   "metadata": {},
   "source": [
    "Un tipo especial es `Nothing` y justamente indica la ausencia del tipo."
   ]
  },
  {
   "cell_type": "code",
   "execution_count": 39,
   "metadata": {},
   "outputs": [
    {
     "data": {
      "text/plain": [
       "true"
      ]
     },
     "execution_count": 39,
     "metadata": {},
     "output_type": "execute_result"
    }
   ],
   "source": [
    "Nothing <: Nothing"
   ]
  },
  {
   "cell_type": "code",
   "execution_count": 40,
   "metadata": {},
   "outputs": [
    {
     "data": {
      "text/plain": [
       "Any"
      ]
     },
     "execution_count": 40,
     "metadata": {},
     "output_type": "execute_result"
    }
   ],
   "source": [
    "supertype(Nothing)"
   ]
  },
  {
   "cell_type": "markdown",
   "metadata": {},
   "source": [
    "### Ejercicios 1\n",
    "\n",
    "1. ¿Qué tipo tiene el vector `[1, 2, 3, 4.5]`?\n",
    "\n",
    "- ¿Qué tipo tiene el vector `[1//5, 2//5, 3//5]`?\n",
    "\n",
    "- ¿Qué tipo tiene el vector `[1+2.5im, \"clase\"]`?\n",
    "\n",
    "- ¿Qué tipo tiene la tupla `(1, 2, 3, 4.5)`?\n",
    "\n",
    "- ¿Qué tipo tiene el tupla `(1//5, 2//5, 3//5)`?\n",
    "\n",
    "- ¿Qué tipo tiene el tupla `(1+2.5im, \"clase\")`?\n",
    "\n",
    "- ¿Qué representa `Int64` en el tipo de `1//8`?\n",
    "\n",
    "- Construyan un ejemplo de una variable cuyo tipo sea `Complex{BigFloat}`"
   ]
  },
  {
   "cell_type": "code",
   "execution_count": 49,
   "metadata": {},
   "outputs": [
    {
     "data": {
      "text/plain": [
       "Complex{BigFloat}"
      ]
     },
     "execution_count": 49,
     "metadata": {},
     "output_type": "execute_result"
    }
   ],
   "source": [
    "typeof(1+big(0.0)im)"
   ]
  },
  {
   "cell_type": "markdown",
   "metadata": {},
   "source": [
    "## Funciones\n",
    "\n",
    "Las funciones son **fundamentales** para Julia, ya que permiten la abstracción del código (*code abstraction*) y su reutilización.\n",
    "\n",
    "Para tener buen desempeño en Julia, se **deben** escribir funciones.\n",
    "\n",
    "Es convencional escribir los nombres de las funciones en minúsculas.\n",
    "\n",
    "Una función puede tener un comportamiento *distinto* para tipos distintos de sus argumentos. Esto es la base de lo que se llama \"despachamiento múltiple\" (*multiple dispatch*), y es fundamental en la manera en que Julia funciona."
   ]
  },
  {
   "cell_type": "code",
   "execution_count": 50,
   "metadata": {},
   "outputs": [
    {
     "data": {
      "text/plain": [
       "42"
      ]
     },
     "execution_count": 50,
     "metadata": {},
     "output_type": "execute_result"
    }
   ],
   "source": [
    "6 * 7"
   ]
  },
  {
   "cell_type": "code",
   "execution_count": 54,
   "metadata": {},
   "outputs": [
    {
     "data": {
      "text/plain": [
       "7"
      ]
     },
     "execution_count": 54,
     "metadata": {},
     "output_type": "execute_result"
    }
   ],
   "source": [
    "0+ 7"
   ]
  },
  {
   "cell_type": "markdown",
   "metadata": {},
   "source": [
    "Las funciones pueden ser declaradas de varias maneras.\n",
    "\n",
    "- Sintaxis corta: funciones sencillas que es posible escribir en una línea."
   ]
  },
  {
   "cell_type": "code",
   "execution_count": 76,
   "metadata": {},
   "outputs": [
    {
     "data": {
      "text/plain": [
       "area_circ_5 (generic function with 2 methods)"
      ]
     },
     "execution_count": 76,
     "metadata": {},
     "output_type": "execute_result"
    }
   ],
   "source": [
    "area_circ_5(r::Int64) = 0\n",
    "area_circ_5(r::Float64) = 2"
   ]
  },
  {
   "cell_type": "code",
   "execution_count": 79,
   "metadata": {},
   "outputs": [
    {
     "data": {
      "text/plain": [
       "2"
      ]
     },
     "execution_count": 79,
     "metadata": {},
     "output_type": "execute_result"
    }
   ],
   "source": [
    "area_circ_5(8.0)"
   ]
  },
  {
   "cell_type": "markdown",
   "metadata": {},
   "source": [
    "- Sintaxis larga: funciones más complejas. Requiere de la combinación/sintaxis `function ... end`. En principio, no es necesario ningún tipo de formato específico (e.g., sangría), aunque imponer un formato puede ser útil para la claridad y lectura del código.\n",
    "\n",
    "    No es necesario el uso de `return`; la última instrucción ejectutada será el resultado de la función."
   ]
  },
  {
   "cell_type": "code",
   "execution_count": 21,
   "metadata": {},
   "outputs": [
    {
     "data": {
      "text/plain": [
       "area_circ_2"
      ]
     },
     "execution_count": 21,
     "metadata": {},
     "output_type": "execute_result"
    }
   ],
   "source": [
    "\"\"\"\n",
    "    area_circa\n",
    "\n",
    "(r)\n",
    "\n",
    "Calcula el área de un círculo de radio `r`.\n",
    "\"\"\"\n",
    "function area_circ_2(r::Int64) pi * r^2; return 0\n",
    "    end "
   ]
  },
  {
   "cell_type": "code",
   "execution_count": 23,
   "metadata": {},
   "outputs": [
    {
     "ename": "LoadError",
     "evalue": "MethodError: no method matching area_circ_2(::String)\n\u001b[0mClosest candidates are:\n\u001b[0m  area_circ_2(\u001b[91m::Int64\u001b[39m) at In[21]:6",
     "output_type": "error",
     "traceback": [
      "MethodError: no method matching area_circ_2(::String)\n\u001b[0mClosest candidates are:\n\u001b[0m  area_circ_2(\u001b[91m::Int64\u001b[39m) at In[21]:6",
      "",
      "Stacktrace:",
      " [1] top-level scope",
      "   @ In[23]:1",
      " [2] eval",
      "   @ ./boot.jl:368 [inlined]",
      " [3] include_string(mapexpr::typeof(REPL.softscope), mod::Module, code::String, filename::String)",
      "   @ Base ./loading.jl:1428"
     ]
    }
   ],
   "source": [
    "area_circ_2(\"1\")"
   ]
  },
  {
   "cell_type": "markdown",
   "metadata": {},
   "source": [
    "NOTA: la variable `a` es una variable interna a la función; el argumento `r` se comporta como una variable interna."
   ]
  },
  {
   "cell_type": "code",
   "execution_count": null,
   "metadata": {},
   "outputs": [],
   "source": [
    "area_circ(1.0)"
   ]
  },
  {
   "cell_type": "code",
   "execution_count": null,
   "metadata": {},
   "outputs": [],
   "source": [
    "a"
   ]
  },
  {
   "cell_type": "code",
   "execution_count": null,
   "metadata": {},
   "outputs": [],
   "source": [
    "area_circ(big(1.0))"
   ]
  },
  {
   "cell_type": "code",
   "execution_count": null,
   "metadata": {},
   "outputs": [],
   "source": [
    "typeof(ans)"
   ]
  },
  {
   "cell_type": "markdown",
   "metadata": {},
   "source": [
    "La documentación de la función (\"docstrings\") se puede especificar, lo que es altamente recomendable. El uso de las comillas triples (`\"\"\"`) es porque la cadena ocupa más de una línea. Lo importante es que la documentación va inmediatamente antes de la función que se documenta.\n",
    "\n",
    "Para acceder a la documentación se usa `?` y el comando o nombre de la función."
   ]
  },
  {
   "cell_type": "code",
   "execution_count": 28,
   "metadata": {},
   "outputs": [
    {
     "name": "stdout",
     "output_type": "stream",
     "text": [
      "search: \u001b[0m\u001b[1m*\u001b[22m\n",
      "\n"
     ]
    },
    {
     "data": {
      "text/latex": [
       "\\begin{verbatim}\n",
       "*(s::Union{AbstractString, AbstractChar}, t::Union{AbstractString, AbstractChar}...) -> AbstractString\n",
       "\\end{verbatim}\n",
       "Concatenate strings and/or characters, producing a \\href{@ref}{\\texttt{String}}. This is equivalent to calling the \\href{@ref}{\\texttt{string}} function on the arguments. Concatenation of built-in string types always produces a value of type \\texttt{String} but other string types may choose to return a string of a different type as appropriate.\n",
       "\n",
       "\\section{Examples}\n",
       "\\begin{verbatim}\n",
       "julia> \"Hello \" * \"world\"\n",
       "\"Hello world\"\n",
       "\n",
       "julia> 'j' * \"ulia\"\n",
       "\"julia\"\n",
       "\\end{verbatim}\n",
       "\\rule{\\textwidth}{1pt}\n",
       "\\begin{verbatim}\n",
       "*(s::Regex, t::Union{Regex,AbstractString,AbstractChar}) -> Regex\n",
       "*(s::Union{Regex,AbstractString,AbstractChar}, t::Regex) -> Regex\n",
       "\\end{verbatim}\n",
       "Concatenate regexes, strings and/or characters, producing a \\href{@ref}{\\texttt{Regex}}. String and character arguments must be matched exactly in the resulting regex, meaning that the contained characters are devoid of any special meaning (they are quoted with \"{\\textbackslash}Q\" and \"{\\textbackslash}E\").\n",
       "\n",
       "\\begin{quote}\n",
       "\\textbf{compat}\n",
       "\n",
       "Julia 1.3\n",
       "\n",
       "This method requires at least Julia 1.3.\n",
       "\n",
       "\\end{quote}\n",
       "\\section{Examples}\n",
       "\\begin{verbatim}\n",
       "julia> match(r\"Hello|Good bye\" * ' ' * \"world\", \"Hello world\")\n",
       "RegexMatch(\"Hello world\")\n",
       "\n",
       "julia> r = r\"a|b\" * \"c|d\"\n",
       "r\"(?:a|b)\\Qc|d\\E\"\n",
       "\n",
       "julia> match(r, \"ac\") == nothing\n",
       "true\n",
       "\n",
       "julia> match(r, \"ac|d\")\n",
       "RegexMatch(\"ac|d\")\n",
       "\\end{verbatim}\n",
       "\\rule{\\textwidth}{1pt}\n",
       "\\begin{verbatim}\n",
       "*(x, y...)\n",
       "\\end{verbatim}\n",
       "Multiplication operator. \\texttt{x*y*z*...} calls this function with all arguments, i.e. \\texttt{*(x, y, z, ...)}.\n",
       "\n",
       "\\section{Examples}\n",
       "\\begin{verbatim}\n",
       "julia> 2 * 7 * 8\n",
       "112\n",
       "\n",
       "julia> *(2, 7, 8)\n",
       "112\n",
       "\\end{verbatim}\n",
       "\\rule{\\textwidth}{1pt}\n",
       "\\begin{verbatim}\n",
       "*(A::AbstractMatrix, B::AbstractMatrix)\n",
       "\\end{verbatim}\n",
       "Matrix multiplication.\n",
       "\n",
       "\\section{Examples}\n",
       "\\begin{verbatim}\n",
       "julia> [1 1; 0 1] * [1 0; 1 1]\n",
       "2×2 Matrix{Int64}:\n",
       " 2  1\n",
       " 1  1\n",
       "\\end{verbatim}\n",
       "\\rule{\\textwidth}{1pt}\n",
       "\\begin{verbatim}\n",
       "*(A, B::AbstractMatrix, C)\n",
       "A * B * C * D\n",
       "\\end{verbatim}\n",
       "Chained multiplication of 3 or 4 matrices is done in the most efficient sequence, based on the sizes of the arrays. That is, the number of scalar multiplications needed for \\texttt{(A * B) * C} (with 3 dense matrices) is compared to that for \\texttt{A * (B * C)} to choose which of these to execute.\n",
       "\n",
       "If the last factor is a vector, or the first a transposed vector, then it is efficient to deal with these first. In particular \\texttt{x' * B * y} means \\texttt{(x' * B) * y} for an ordinary column-major \\texttt{B::Matrix}. Unlike \\texttt{dot(x, B, y)}, this allocates an intermediate array.\n",
       "\n",
       "If the first or last factor is a number, this will be fused with the matrix multiplication, using 5-arg \\href{@ref}{\\texttt{mul!}}.\n",
       "\n",
       "See also \\href{@ref}{\\texttt{muladd}}, \\href{@ref}{\\texttt{dot}}.\n",
       "\n",
       "\\begin{quote}\n",
       "\\textbf{compat}\n",
       "\n",
       "Julia 1.7\n",
       "\n",
       "These optimisations require at least Julia 1.7.\n",
       "\n",
       "\\end{quote}\n"
      ],
      "text/markdown": [
       "```\n",
       "*(s::Union{AbstractString, AbstractChar}, t::Union{AbstractString, AbstractChar}...) -> AbstractString\n",
       "```\n",
       "\n",
       "Concatenate strings and/or characters, producing a [`String`](@ref). This is equivalent to calling the [`string`](@ref) function on the arguments. Concatenation of built-in string types always produces a value of type `String` but other string types may choose to return a string of a different type as appropriate.\n",
       "\n",
       "# Examples\n",
       "\n",
       "```jldoctest\n",
       "julia> \"Hello \" * \"world\"\n",
       "\"Hello world\"\n",
       "\n",
       "julia> 'j' * \"ulia\"\n",
       "\"julia\"\n",
       "```\n",
       "\n",
       "---\n",
       "\n",
       "```\n",
       "*(s::Regex, t::Union{Regex,AbstractString,AbstractChar}) -> Regex\n",
       "*(s::Union{Regex,AbstractString,AbstractChar}, t::Regex) -> Regex\n",
       "```\n",
       "\n",
       "Concatenate regexes, strings and/or characters, producing a [`Regex`](@ref). String and character arguments must be matched exactly in the resulting regex, meaning that the contained characters are devoid of any special meaning (they are quoted with \"\\Q\" and \"\\E\").\n",
       "\n",
       "!!! compat \"Julia 1.3\"\n",
       "    This method requires at least Julia 1.3.\n",
       "\n",
       "\n",
       "# Examples\n",
       "\n",
       "```jldoctest\n",
       "julia> match(r\"Hello|Good bye\" * ' ' * \"world\", \"Hello world\")\n",
       "RegexMatch(\"Hello world\")\n",
       "\n",
       "julia> r = r\"a|b\" * \"c|d\"\n",
       "r\"(?:a|b)\\Qc|d\\E\"\n",
       "\n",
       "julia> match(r, \"ac\") == nothing\n",
       "true\n",
       "\n",
       "julia> match(r, \"ac|d\")\n",
       "RegexMatch(\"ac|d\")\n",
       "```\n",
       "\n",
       "---\n",
       "\n",
       "```\n",
       "*(x, y...)\n",
       "```\n",
       "\n",
       "Multiplication operator. `x*y*z*...` calls this function with all arguments, i.e. `*(x, y, z, ...)`.\n",
       "\n",
       "# Examples\n",
       "\n",
       "```jldoctest\n",
       "julia> 2 * 7 * 8\n",
       "112\n",
       "\n",
       "julia> *(2, 7, 8)\n",
       "112\n",
       "```\n",
       "\n",
       "---\n",
       "\n",
       "```\n",
       "*(A::AbstractMatrix, B::AbstractMatrix)\n",
       "```\n",
       "\n",
       "Matrix multiplication.\n",
       "\n",
       "# Examples\n",
       "\n",
       "```jldoctest\n",
       "julia> [1 1; 0 1] * [1 0; 1 1]\n",
       "2×2 Matrix{Int64}:\n",
       " 2  1\n",
       " 1  1\n",
       "```\n",
       "\n",
       "---\n",
       "\n",
       "```\n",
       "*(A, B::AbstractMatrix, C)\n",
       "A * B * C * D\n",
       "```\n",
       "\n",
       "Chained multiplication of 3 or 4 matrices is done in the most efficient sequence, based on the sizes of the arrays. That is, the number of scalar multiplications needed for `(A * B) * C` (with 3 dense matrices) is compared to that for `A * (B * C)` to choose which of these to execute.\n",
       "\n",
       "If the last factor is a vector, or the first a transposed vector, then it is efficient to deal with these first. In particular `x' * B * y` means `(x' * B) * y` for an ordinary column-major `B::Matrix`. Unlike `dot(x, B, y)`, this allocates an intermediate array.\n",
       "\n",
       "If the first or last factor is a number, this will be fused with the matrix multiplication, using 5-arg [`mul!`](@ref).\n",
       "\n",
       "See also [`muladd`](@ref), [`dot`](@ref).\n",
       "\n",
       "!!! compat \"Julia 1.7\"\n",
       "    These optimisations require at least Julia 1.7.\n",
       "\n"
      ],
      "text/plain": [
       "\u001b[36m  *(s::Union{AbstractString, AbstractChar}, t::Union{AbstractString, AbstractChar}...) -> AbstractString\u001b[39m\n",
       "\n",
       "  Concatenate strings and/or characters, producing a \u001b[36mString\u001b[39m. This is\n",
       "  equivalent to calling the \u001b[36mstring\u001b[39m function on the arguments. Concatenation of\n",
       "  built-in string types always produces a value of type \u001b[36mString\u001b[39m but other\n",
       "  string types may choose to return a string of a different type as\n",
       "  appropriate.\n",
       "\n",
       "\u001b[1m  Examples\u001b[22m\n",
       "\u001b[1m  ≡≡≡≡≡≡≡≡≡≡\u001b[22m\n",
       "\n",
       "\u001b[36m  julia> \"Hello \" * \"world\"\u001b[39m\n",
       "\u001b[36m  \"Hello world\"\u001b[39m\n",
       "\u001b[36m  \u001b[39m\n",
       "\u001b[36m  julia> 'j' * \"ulia\"\u001b[39m\n",
       "\u001b[36m  \"julia\"\u001b[39m\n",
       "\n",
       "  ────────────────────────────────────────────────────────────────────────────\n",
       "\n",
       "\u001b[36m  *(s::Regex, t::Union{Regex,AbstractString,AbstractChar}) -> Regex\u001b[39m\n",
       "\u001b[36m  *(s::Union{Regex,AbstractString,AbstractChar}, t::Regex) -> Regex\u001b[39m\n",
       "\n",
       "  Concatenate regexes, strings and/or characters, producing a \u001b[36mRegex\u001b[39m. String\n",
       "  and character arguments must be matched exactly in the resulting regex,\n",
       "  meaning that the contained characters are devoid of any special meaning\n",
       "  (they are quoted with \"\\Q\" and \"\\E\").\n",
       "\n",
       "\u001b[39m\u001b[1m  │ \u001b[22m\u001b[39m\u001b[1mJulia 1.3\u001b[22m\n",
       "\u001b[39m\u001b[1m  │\u001b[22m\n",
       "\u001b[39m\u001b[1m  │\u001b[22m  This method requires at least Julia 1.3.\n",
       "\n",
       "\u001b[1m  Examples\u001b[22m\n",
       "\u001b[1m  ≡≡≡≡≡≡≡≡≡≡\u001b[22m\n",
       "\n",
       "\u001b[36m  julia> match(r\"Hello|Good bye\" * ' ' * \"world\", \"Hello world\")\u001b[39m\n",
       "\u001b[36m  RegexMatch(\"Hello world\")\u001b[39m\n",
       "\u001b[36m  \u001b[39m\n",
       "\u001b[36m  julia> r = r\"a|b\" * \"c|d\"\u001b[39m\n",
       "\u001b[36m  r\"(?:a|b)\\Qc|d\\E\"\u001b[39m\n",
       "\u001b[36m  \u001b[39m\n",
       "\u001b[36m  julia> match(r, \"ac\") == nothing\u001b[39m\n",
       "\u001b[36m  true\u001b[39m\n",
       "\u001b[36m  \u001b[39m\n",
       "\u001b[36m  julia> match(r, \"ac|d\")\u001b[39m\n",
       "\u001b[36m  RegexMatch(\"ac|d\")\u001b[39m\n",
       "\n",
       "  ────────────────────────────────────────────────────────────────────────────\n",
       "\n",
       "\u001b[36m  *(x, y...)\u001b[39m\n",
       "\n",
       "  Multiplication operator. \u001b[36mx*y*z*...\u001b[39m calls this function with all arguments,\n",
       "  i.e. \u001b[36m*(x, y, z, ...)\u001b[39m.\n",
       "\n",
       "\u001b[1m  Examples\u001b[22m\n",
       "\u001b[1m  ≡≡≡≡≡≡≡≡≡≡\u001b[22m\n",
       "\n",
       "\u001b[36m  julia> 2 * 7 * 8\u001b[39m\n",
       "\u001b[36m  112\u001b[39m\n",
       "\u001b[36m  \u001b[39m\n",
       "\u001b[36m  julia> *(2, 7, 8)\u001b[39m\n",
       "\u001b[36m  112\u001b[39m\n",
       "\n",
       "  ────────────────────────────────────────────────────────────────────────────\n",
       "\n",
       "\u001b[36m  *(A::AbstractMatrix, B::AbstractMatrix)\u001b[39m\n",
       "\n",
       "  Matrix multiplication.\n",
       "\n",
       "\u001b[1m  Examples\u001b[22m\n",
       "\u001b[1m  ≡≡≡≡≡≡≡≡≡≡\u001b[22m\n",
       "\n",
       "\u001b[36m  julia> [1 1; 0 1] * [1 0; 1 1]\u001b[39m\n",
       "\u001b[36m  2×2 Matrix{Int64}:\u001b[39m\n",
       "\u001b[36m   2  1\u001b[39m\n",
       "\u001b[36m   1  1\u001b[39m\n",
       "\n",
       "  ────────────────────────────────────────────────────────────────────────────\n",
       "\n",
       "\u001b[36m  *(A, B::AbstractMatrix, C)\u001b[39m\n",
       "\u001b[36m  A * B * C * D\u001b[39m\n",
       "\n",
       "  Chained multiplication of 3 or 4 matrices is done in the most efficient\n",
       "  sequence, based on the sizes of the arrays. That is, the number of scalar\n",
       "  multiplications needed for \u001b[36m(A * B) * C\u001b[39m (with 3 dense matrices) is compared\n",
       "  to that for \u001b[36mA * (B * C)\u001b[39m to choose which of these to execute.\n",
       "\n",
       "  If the last factor is a vector, or the first a transposed vector, then it is\n",
       "  efficient to deal with these first. In particular \u001b[36mx' * B * y\u001b[39m means \u001b[36m(x' * B)\n",
       "  * y\u001b[39m for an ordinary column-major \u001b[36mB::Matrix\u001b[39m. Unlike \u001b[36mdot(x, B, y)\u001b[39m, this\n",
       "  allocates an intermediate array.\n",
       "\n",
       "  If the first or last factor is a number, this will be fused with the matrix\n",
       "  multiplication, using 5-arg \u001b[36mmul!\u001b[39m.\n",
       "\n",
       "  See also \u001b[36mmuladd\u001b[39m, \u001b[36mdot\u001b[39m.\n",
       "\n",
       "\u001b[39m\u001b[1m  │ \u001b[22m\u001b[39m\u001b[1mJulia 1.7\u001b[22m\n",
       "\u001b[39m\u001b[1m  │\u001b[22m\n",
       "\u001b[39m\u001b[1m  │\u001b[22m  These optimisations require at least Julia 1.7."
      ]
     },
     "execution_count": 28,
     "metadata": {},
     "output_type": "execute_result"
    }
   ],
   "source": [
    "?"
   ]
  },
  {
   "cell_type": "markdown",
   "metadata": {},
   "source": [
    "### Funciones anónimas\n",
    "\n",
    "Hay una tercer manera de definir funciones, en las que uno no requiere dar un nombre a la función: las funciones anónimas. Esta forma es muy útil, por ejemplo, en los casos en que la función debe ser pasada como un argumento a otra función. Esencialmente, las funciones anónimas corresponden a la notación matemática $x \\to f(x)$."
   ]
  },
  {
   "cell_type": "code",
   "execution_count": 29,
   "metadata": {},
   "outputs": [
    {
     "data": {
      "text/plain": [
       "#1 (generic function with 1 method)"
      ]
     },
     "execution_count": 29,
     "metadata": {},
     "output_type": "execute_result"
    }
   ],
   "source": [
    "x -> x^2 + 2x - 1"
   ]
  },
  {
   "cell_type": "code",
   "execution_count": 30,
   "metadata": {},
   "outputs": [
    {
     "data": {
      "text/plain": [
       "3-element Vector{Int64}:\n",
       "  2\n",
       "  7\n",
       " 14"
      ]
     },
     "execution_count": 30,
     "metadata": {},
     "output_type": "execute_result"
    }
   ],
   "source": [
    "map(x -> x^2 + 2x - 1, [1,2,3])"
   ]
  },
  {
   "cell_type": "code",
   "execution_count": 41,
   "metadata": {},
   "outputs": [
    {
     "data": {
      "text/plain": [
       "#9 (generic function with 1 method)"
      ]
     },
     "execution_count": 41,
     "metadata": {},
     "output_type": "execute_result"
    }
   ],
   "source": [
    "function (x)\n",
    "    x^2 + 2x - 1\n",
    "end"
   ]
  },
  {
   "cell_type": "code",
   "execution_count": 42,
   "metadata": {},
   "outputs": [
    {
     "data": {
      "text/plain": [
       "2"
      ]
     },
     "execution_count": 42,
     "metadata": {},
     "output_type": "execute_result"
    }
   ],
   "source": [
    "ans(1)"
   ]
  },
  {
   "cell_type": "code",
   "execution_count": null,
   "metadata": {},
   "outputs": [],
   "source": []
  },
  {
   "cell_type": "markdown",
   "metadata": {},
   "source": [
    "### Multiple dispatch\n",
    "\n",
    "Uno puede definir varios *métodos* de la misma función, que pueden variar según el número de argumentos, su posición, y en particular, por el *tipo* de los argumentos. Julia escogerá el método *más específico* según el tipo de argumentos.\n",
    "\n",
    "Uno utiliza `::` para especificar/restringir uno o varios argumentos de una función."
   ]
  },
  {
   "cell_type": "code",
   "execution_count": 43,
   "metadata": {},
   "outputs": [
    {
     "data": {
      "text/plain": [
       "f (generic function with 5 methods)"
      ]
     },
     "execution_count": 43,
     "metadata": {},
     "output_type": "execute_result"
    }
   ],
   "source": [
    "f(a, b::Any)              = \"fallback\"   # default\n",
    "f(a::Number, b::Number)   = \"a and b are both `Number`s\"\n",
    "f(a::Number, b)           = \"a is a `Number`\"\n",
    "f(a, b::Number)           = \"b is a `Number`\"\n",
    "f(a::Integer, b::Integer) = \"a and b are both `Integer`s\""
   ]
  },
  {
   "cell_type": "code",
   "execution_count": 59,
   "metadata": {},
   "outputs": [
    {
     "data": {
      "text/plain": [
       "\"b is a `Number`\""
      ]
     },
     "execution_count": 59,
     "metadata": {},
     "output_type": "execute_result"
    }
   ],
   "source": [
    "f(\"po\",9)"
   ]
  },
  {
   "cell_type": "code",
   "execution_count": 65,
   "metadata": {},
   "outputs": [
    {
     "name": "stdout",
     "output_type": "stream",
     "text": [
      "search: \u001b[0m\u001b[1mi\u001b[22m\u001b[0m\u001b[1ms\u001b[22m\u001b[0m\u001b[1ma\u001b[22m \u001b[0m\u001b[1mi\u001b[22m\u001b[0m\u001b[1ms\u001b[22m\u001b[0m\u001b[1ma\u001b[22mscii \u001b[0m\u001b[1mi\u001b[22m\u001b[0m\u001b[1ms\u001b[22m\u001b[0m\u001b[1ma\u001b[22mpprox \u001b[0m\u001b[1mi\u001b[22m\u001b[0m\u001b[1ms\u001b[22m\u001b[0m\u001b[1ma\u001b[22mbspath \u001b[0m\u001b[1mi\u001b[22m\u001b[0m\u001b[1ms\u001b[22m\u001b[0m\u001b[1ma\u001b[22mssigned \u001b[0m\u001b[1mi\u001b[22m\u001b[0m\u001b[1ms\u001b[22m\u001b[0m\u001b[1ma\u001b[22mbstracttype d\u001b[0m\u001b[1mi\u001b[22m\u001b[0m\u001b[1ms\u001b[22m\u001b[0m\u001b[1ma\u001b[22mble_sigint\n",
      "\n"
     ]
    },
    {
     "data": {
      "text/latex": [
       "\\begin{verbatim}\n",
       "isa(x, type) -> Bool\n",
       "\\end{verbatim}\n",
       "Determine whether \\texttt{x} is of the given \\texttt{type}. Can also be used as an infix operator, e.g. \\texttt{x isa type}.\n",
       "\n",
       "\\section{Examples}\n",
       "\\begin{verbatim}\n",
       "julia> isa(1, Int)\n",
       "true\n",
       "\n",
       "julia> isa(1, Matrix)\n",
       "false\n",
       "\n",
       "julia> isa(1, Char)\n",
       "false\n",
       "\n",
       "julia> isa(1, Number)\n",
       "true\n",
       "\n",
       "julia> 1 isa Number\n",
       "true\n",
       "\\end{verbatim}\n"
      ],
      "text/markdown": [
       "```\n",
       "isa(x, type) -> Bool\n",
       "```\n",
       "\n",
       "Determine whether `x` is of the given `type`. Can also be used as an infix operator, e.g. `x isa type`.\n",
       "\n",
       "# Examples\n",
       "\n",
       "```jldoctest\n",
       "julia> isa(1, Int)\n",
       "true\n",
       "\n",
       "julia> isa(1, Matrix)\n",
       "false\n",
       "\n",
       "julia> isa(1, Char)\n",
       "false\n",
       "\n",
       "julia> isa(1, Number)\n",
       "true\n",
       "\n",
       "julia> 1 isa Number\n",
       "true\n",
       "```\n"
      ],
      "text/plain": [
       "\u001b[36m  isa(x, type) -> Bool\u001b[39m\n",
       "\n",
       "  Determine whether \u001b[36mx\u001b[39m is of the given \u001b[36mtype\u001b[39m. Can also be used as an infix\n",
       "  operator, e.g. \u001b[36mx isa type\u001b[39m.\n",
       "\n",
       "\u001b[1m  Examples\u001b[22m\n",
       "\u001b[1m  ≡≡≡≡≡≡≡≡≡≡\u001b[22m\n",
       "\n",
       "\u001b[36m  julia> isa(1, Int)\u001b[39m\n",
       "\u001b[36m  true\u001b[39m\n",
       "\u001b[36m  \u001b[39m\n",
       "\u001b[36m  julia> isa(1, Matrix)\u001b[39m\n",
       "\u001b[36m  false\u001b[39m\n",
       "\u001b[36m  \u001b[39m\n",
       "\u001b[36m  julia> isa(1, Char)\u001b[39m\n",
       "\u001b[36m  false\u001b[39m\n",
       "\u001b[36m  \u001b[39m\n",
       "\u001b[36m  julia> isa(1, Number)\u001b[39m\n",
       "\u001b[36m  true\u001b[39m\n",
       "\u001b[36m  \u001b[39m\n",
       "\u001b[36m  julia> 1 isa Number\u001b[39m\n",
       "\u001b[36m  true\u001b[39m"
      ]
     },
     "execution_count": 65,
     "metadata": {},
     "output_type": "execute_result"
    }
   ],
   "source": [
    "?isa  # Describe los distintos métodos de una función"
   ]
  },
  {
   "cell_type": "code",
   "execution_count": 54,
   "metadata": {},
   "outputs": [
    {
     "data": {
      "text/plain": [
       "\"a and b are both `Number`s\""
      ]
     },
     "execution_count": 54,
     "metadata": {},
     "output_type": "execute_result"
    }
   ],
   "source": [
    "f(1.5, 2)"
   ]
  },
  {
   "cell_type": "code",
   "execution_count": 55,
   "metadata": {},
   "outputs": [
    {
     "data": {
      "text/plain": [
       "\"b is a `Number`\""
      ]
     },
     "execution_count": 55,
     "metadata": {},
     "output_type": "execute_result"
    }
   ],
   "source": [
    "f(\"2\", 1.5)"
   ]
  },
  {
   "cell_type": "code",
   "execution_count": 56,
   "metadata": {},
   "outputs": [
    {
     "data": {
      "text/plain": [
       "\"a is a `Number`\""
      ]
     },
     "execution_count": 56,
     "metadata": {},
     "output_type": "execute_result"
    }
   ],
   "source": [
    "f(1.0, \"2\")"
   ]
  },
  {
   "cell_type": "code",
   "execution_count": 51,
   "metadata": {},
   "outputs": [
    {
     "data": {
      "text/plain": [
       "\"a and b are both `Integer`s\""
      ]
     },
     "execution_count": 51,
     "metadata": {},
     "output_type": "execute_result"
    }
   ],
   "source": [
    "f(1, 2)"
   ]
  },
  {
   "cell_type": "code",
   "execution_count": 52,
   "metadata": {},
   "outputs": [
    {
     "data": {
      "text/plain": [
       "\"fallback\""
      ]
     },
     "execution_count": 52,
     "metadata": {},
     "output_type": "execute_result"
    }
   ],
   "source": [
    "f(\"Hello\", \"World!\")"
   ]
  },
  {
   "cell_type": "code",
   "execution_count": 66,
   "metadata": {},
   "outputs": [
    {
     "data": {
      "text/html": [
       "f(a::<b>Number</b>, b::<b>Number</b>) in Main at In[43]:2"
      ],
      "text/plain": [
       "f(a::Number, b::Number) in Main at In[43]:2"
      ]
     },
     "execution_count": 66,
     "metadata": {},
     "output_type": "execute_result"
    }
   ],
   "source": [
    "@which f(90, 1.5)"
   ]
  },
  {
   "cell_type": "markdown",
   "metadata": {},
   "source": [
    "A veces, Julia no encuentra el método más concreto respecto al tipo de los argumentos. En ese caso, hay un `MethodError` dado que los métodos son ambiguos."
   ]
  },
  {
   "cell_type": "code",
   "execution_count": null,
   "metadata": {},
   "outputs": [],
   "source": [
    "f(x::Int, y::Any) = println(\"int\")\n",
    "f(x::Any, y::String) = println(\"string\")\n",
    "f(3, \"test\")"
   ]
  },
  {
   "cell_type": "markdown",
   "metadata": {},
   "source": [
    "### Sobrecarga de funciones\n",
    "\n",
    "Es posible (y recomendable) modificar funciones ya definidas para extender su funcionalidad."
   ]
  },
  {
   "cell_type": "code",
   "execution_count": 68,
   "metadata": {},
   "outputs": [
    {
     "ename": "LoadError",
     "evalue": "MethodError: no method matching +(::String, ::String)\n\u001b[0mClosest candidates are:\n\u001b[0m  +(::Any, ::Any, \u001b[91m::Any\u001b[39m, \u001b[91m::Any...\u001b[39m) at operators.jl:591",
     "output_type": "error",
     "traceback": [
      "MethodError: no method matching +(::String, ::String)\n\u001b[0mClosest candidates are:\n\u001b[0m  +(::Any, ::Any, \u001b[91m::Any\u001b[39m, \u001b[91m::Any...\u001b[39m) at operators.jl:591",
      "",
      "Stacktrace:",
      " [1] top-level scope",
      "   @ In[68]:1",
      " [2] eval",
      "   @ ./boot.jl:368 [inlined]",
      " [3] include_string(mapexpr::typeof(REPL.softscope), mod::Module, code::String, filename::String)",
      "   @ Base ./loading.jl:1428"
     ]
    }
   ],
   "source": [
    "\"Hello\" + \"World!\""
   ]
  },
  {
   "cell_type": "code",
   "execution_count": 1,
   "metadata": {},
   "outputs": [
    {
     "data": {
      "text/plain": [
       "206"
      ]
     },
     "execution_count": 1,
     "metadata": {},
     "output_type": "execute_result"
    }
   ],
   "source": [
    "length(methods(+))"
   ]
  },
  {
   "cell_type": "markdown",
   "metadata": {},
   "source": [
    "Para sobrecargar una función, primero hay que *importarla* para poderla modificar o extender."
   ]
  },
  {
   "cell_type": "code",
   "execution_count": 5,
   "metadata": {},
   "outputs": [
    {
     "data": {
      "text/plain": [
       "+ (generic function with 207 methods)"
      ]
     },
     "execution_count": 5,
     "metadata": {},
     "output_type": "execute_result"
    }
   ],
   "source": [
    "import Base: + # Primero se \"importa\" la función desde el módule `Base`\n",
    "+(x::String, y::String) = x * \" \" * y # Aquí extendemos el método"
   ]
  },
  {
   "cell_type": "code",
   "execution_count": 6,
   "metadata": {},
   "outputs": [
    {
     "data": {
      "text/plain": [
       "207"
      ]
     },
     "execution_count": 6,
     "metadata": {},
     "output_type": "execute_result"
    }
   ],
   "source": [
    "length(methods(+))"
   ]
  },
  {
   "cell_type": "code",
   "execution_count": 7,
   "metadata": {},
   "outputs": [
    {
     "data": {
      "text/plain": [
       "\"Hello World!\""
      ]
     },
     "execution_count": 7,
     "metadata": {},
     "output_type": "execute_result"
    }
   ],
   "source": [
    "\"Hello\" + \"World!\""
   ]
  },
  {
   "cell_type": "markdown",
   "metadata": {},
   "source": [
    "Lo interesante es que funciones que internamente usan `+` pueden ser ahora usadas con `String`s."
   ]
  },
  {
   "cell_type": "code",
   "execution_count": null,
   "metadata": {},
   "outputs": [],
   "source": [
    "sum( [\"Esta\", \"función\", \"ahora\", \"puede\", \"usar\", \"cadenas\", \"aunque\", \"nunca\", \n",
    "    \"sobrecargamos\", \"la\", \"función\", \"`sum`!\"] )"
   ]
  },
  {
   "cell_type": "markdown",
   "metadata": {},
   "source": [
    "### Funciones con argumentos opcionales\n",
    "\n",
    "Es posible definir funciones en las que uno especifica ciertos argumentos que son opcionales, es decir, que tienen un valor predeterminado que no es necesario especificar cada vez que se llama a la función. La regla es que los argumentos opcionales debben estar al final de la lista de los argumentos."
   ]
  },
  {
   "cell_type": "code",
   "execution_count": 12,
   "metadata": {},
   "outputs": [
    {
     "data": {
      "text/plain": [
       "energ_cin"
      ]
     },
     "execution_count": 12,
     "metadata": {},
     "output_type": "execute_result"
    }
   ],
   "source": [
    "\"\"\"\n",
    "    energ_cin(vel, m=1)\n",
    "\n",
    "Calcula la energía cinética de un objeto que se mueve a velocidad `vel`\n",
    "y tiene masa `m`.\n",
    "\"\"\"\n",
    "energ_cin(vel, m=1,k=90) = 0.5 * m *vel^2"
   ]
  },
  {
   "cell_type": "code",
   "execution_count": 13,
   "metadata": {},
   "outputs": [
    {
     "data": {
      "text/html": [
       "# 3 methods for generic function <b>energ_cin</b>:<ul><li> energ_cin(vel) in Main at In[12]:7</li> <li> energ_cin(vel, m) in Main at In[12]:7</li> <li> energ_cin(vel, m, k) in Main at In[12]:7</li> </ul>"
      ],
      "text/plain": [
       "# 3 methods for generic function \"energ_cin\":\n",
       "[1] energ_cin(vel) in Main at In[12]:7\n",
       "[2] energ_cin(vel, m) in Main at In[12]:7\n",
       "[3] energ_cin(vel, m, k) in Main at In[12]:7"
      ]
     },
     "execution_count": 13,
     "metadata": {},
     "output_type": "execute_result"
    }
   ],
   "source": [
    "methods(energ_cin)"
   ]
  },
  {
   "cell_type": "code",
   "execution_count": 10,
   "metadata": {},
   "outputs": [
    {
     "data": {
      "text/plain": [
       "0.5"
      ]
     },
     "execution_count": 10,
     "metadata": {},
     "output_type": "execute_result"
    }
   ],
   "source": [
    "energ_cin(1.0)"
   ]
  },
  {
   "cell_type": "code",
   "execution_count": 11,
   "metadata": {},
   "outputs": [
    {
     "data": {
      "text/plain": [
       "1.0"
      ]
     },
     "execution_count": 11,
     "metadata": {},
     "output_type": "execute_result"
    }
   ],
   "source": [
    "energ_cin(1.0, 2)"
   ]
  },
  {
   "cell_type": "markdown",
   "metadata": {},
   "source": [
    "### Argumentos especificados por `keyword`\n",
    "\n",
    "En ciertas circunstancias, es conveniente especificar uno o varios argumentos de una función a través del nombre del argumento (*keyword*). Esto es conveniente cuando las funciones pueden tener muchos argumentos y es difícil recordar el orden preciso, y si sólo se requiere especificar uno. \n",
    "\n",
    "La ventaja de este tipo de funciones, es que el orden estricto de los argumentos puede cambiar.\n",
    "\n",
    "Funciones con este tipo de argumentos especificados por nombre (*keyword* arguments) se definen después de un punto-y-coma (`;`). Si la etiqueta no incluye un valor determinado, entonces siempre hay que especificar el valor."
   ]
  },
  {
   "cell_type": "code",
   "execution_count": null,
   "metadata": {},
   "outputs": [],
   "source": [
    "\"\"\"\n",
    "    area_triang(perimetro; b, h=1)\n",
    "\n",
    "Calcula el área de un triángulo de base `b` y altura `h`.\n",
    "\"\"\"\n",
    "area_triang(; b, h=1.0) =  b * h / 2"
   ]
  },
  {
   "cell_type": "code",
   "execution_count": null,
   "metadata": {},
   "outputs": [],
   "source": [
    "methods(area_triang)"
   ]
  },
  {
   "cell_type": "code",
   "execution_count": null,
   "metadata": {},
   "outputs": [],
   "source": [
    "area_triang(b=2)"
   ]
  },
  {
   "cell_type": "code",
   "execution_count": null,
   "metadata": {},
   "outputs": [],
   "source": [
    "area_triang( b = 2, h = 2.0)"
   ]
  },
  {
   "cell_type": "code",
   "execution_count": null,
   "metadata": {},
   "outputs": [],
   "source": [
    "area_triang(h = 2.0)  # error, dado que TENEMOS que especificar el valor de `b`"
   ]
  },
  {
   "cell_type": "markdown",
   "metadata": {},
   "source": [
    "### Funciones de argumentos variables\n",
    "\n",
    "En ciertas circunstancias, uno quiere que una función pueda ser usada para cierto número de argumentos *o más*. Por ejemplo, pensemos en la energía cinética total de varias partículas, todas de masa `m=1`. Queremos que esta función sea aplicale tanto al caso de una o más partículas. En ese caso requerimos de una función cuyo número de argumentos puede ser variable (*varargs* function)."
   ]
  },
  {
   "cell_type": "code",
   "execution_count": null,
   "metadata": {},
   "outputs": [],
   "source": [
    "\"\"\"\n",
    "    energ_cin_total(a, b...)\n",
    "\n",
    "Calcula la energía cinética total de varios objetos que se mueven a velocidad `vel`\n",
    "y tienen masa `m=1`.\n",
    "\"\"\"\n",
    "energ_cin_total(a, b...) = energ_cin(a) + energ_cin_total(b...)\n",
    "energ_cin_total(a) = energ_cin(a)"
   ]
  },
  {
   "cell_type": "code",
   "execution_count": null,
   "metadata": {},
   "outputs": [],
   "source": [
    "energ_cin_total(1.0)"
   ]
  },
  {
   "cell_type": "code",
   "execution_count": null,
   "metadata": {},
   "outputs": [],
   "source": [
    "energ_cin_total(1.0, 1.0)"
   ]
  },
  {
   "cell_type": "code",
   "execution_count": null,
   "metadata": {},
   "outputs": [],
   "source": [
    "energ_cin_total(1.0, 1.0, 1.0)"
   ]
  },
  {
   "cell_type": "code",
   "execution_count": null,
   "metadata": {},
   "outputs": [],
   "source": [
    "energ_cin_total(1.0, 1.0, 1.0, 1.0)"
   ]
  },
  {
   "cell_type": "code",
   "execution_count": null,
   "metadata": {},
   "outputs": [],
   "source": [
    "vels = randn(4) # genera 4 elementos al azar, almacenados en un vector\n",
    "println(vels)\n",
    "energ_cin_total( vels... ) # Los tres puntitos `...` son necesario para \"aplanar\" el vector en sus varias componentes"
   ]
  },
  {
   "cell_type": "code",
   "execution_count": null,
   "metadata": {},
   "outputs": [],
   "source": [
    "energ_cin_total( vels ) # error, ya que no sae cómo calcular la energía cinética total de un vector"
   ]
  },
  {
   "cell_type": "markdown",
   "metadata": {},
   "source": [
    "### Ejercicios 2\n",
    "\n",
    "1. Escriban una función que proporcione el área y el volumen de un círculo de manera simultánea, es decir, que la función regrese esos dos valores.\n",
    "\n",
    "- Llamando a la función que hicieron en el ejercicio anterior `mifunc`, ¿qué obtienen (tipo de resultado) al hacer la asignación `res = mifunc(1.0)`?\n",
    "\n",
    "- ¿Qué asignación pueden hacer para separar los resultados de `mifunc`?\n",
    "\n",
    "- ¿Cuál es el tipo de `mifunc`? Hint: ¿Cuál es el tipo de `(mifunct, typeof(mifunc))`?\n",
    "\n",
    "- Analicen qué representa el resultado obtenido al ejecutar la siguiente función: \n",
    "    ```julia\n",
    "    map(first ∘ reverse ∘ uppercase, split(\"you can compose functions like this\"))\n",
    "    ```\n",
    "    \n",
    "- ¿Qué tipo de resultado se obtiene al ejecutar la función\n",
    "    ```julia\n",
    "    println(\"Nada\")\n",
    "    ```"
   ]
  },
  {
   "cell_type": "code",
   "execution_count": 1,
   "metadata": {},
   "outputs": [
    {
     "data": {
      "text/plain": [
       "mifunc (generic function with 1 method)"
      ]
     },
     "execution_count": 1,
     "metadata": {},
     "output_type": "execute_result"
    }
   ],
   "source": [
    "mifunc(r)=pi*r^2,4*pi*r^3"
   ]
  },
  {
   "cell_type": "code",
   "execution_count": 2,
   "metadata": {},
   "outputs": [
    {
     "data": {
      "text/plain": [
       "(3.141592653589793, 12.566370614359172)"
      ]
     },
     "execution_count": 2,
     "metadata": {},
     "output_type": "execute_result"
    }
   ],
   "source": [
    "res=mifunc(1.0)"
   ]
  },
  {
   "cell_type": "code",
   "execution_count": 3,
   "metadata": {},
   "outputs": [
    {
     "data": {
      "text/plain": [
       "(3.141592653589793, 12.566370614359172)"
      ]
     },
     "execution_count": 3,
     "metadata": {},
     "output_type": "execute_result"
    }
   ],
   "source": [
    "a,b =mifunc(1.0)"
   ]
  },
  {
   "cell_type": "code",
   "execution_count": 10,
   "metadata": {},
   "outputs": [
    {
     "data": {
      "text/plain": [
       "Tuple{typeof(mifunc),DataType}"
      ]
     },
     "execution_count": 10,
     "metadata": {},
     "output_type": "execute_result"
    }
   ],
   "source": [
    "typeof((mifunc, typeof(mifunc)))"
   ]
  },
  {
   "cell_type": "markdown",
   "metadata": {},
   "source": [
    "## Control del flujo\n",
    "\n",
    "### Condicionales\n",
    "\n",
    "Los condicionales en cualquier lenguaje de programación permiten decidir si ciertas partes del código se evalúan o no.\n",
    "En Julia, los condicionales tienen la estructura `if-else-end`, y cada condición debe regresar una variable booleana (`true` o `false`)."
   ]
  },
  {
   "cell_type": "code",
   "execution_count": null,
   "metadata": {},
   "outputs": [],
   "source": [
    "function compara_x_y(x::Real, y::Real)\n",
    "    if x < y\n",
    "        println(\"x es menor que y\")\n",
    "    elseif x > y\n",
    "        println(\"x es mayor que y\")\n",
    "    else\n",
    "        println(\"x es igual a y\")\n",
    "    end\n",
    "end"
   ]
  },
  {
   "cell_type": "code",
   "execution_count": null,
   "metadata": {},
   "outputs": [],
   "source": [
    "compara_x_y(1.0, 2.3)"
   ]
  },
  {
   "cell_type": "markdown",
   "metadata": {},
   "source": [
    "En ocasiones, uno requiere regresar un valor dependiendo de una condición, y si ésta no se cumple, entonces se regresa otro valor. Esto se puede hacer con la construcción anterior haciendo las asignaciones pertinentes, o también, de una manera más corta, a través del \"operador ternario\"."
   ]
  },
  {
   "cell_type": "code",
   "execution_count": 14,
   "metadata": {},
   "outputs": [
    {
     "data": {
      "text/plain": [
       "positivo_o_negativo (generic function with 1 method)"
      ]
     },
     "execution_count": 14,
     "metadata": {},
     "output_type": "execute_result"
    }
   ],
   "source": [
    "positivo_o_negativo(x::Real) = x < zero(x) ? \"negativo\" : \"positivo\""
   ]
  },
  {
   "cell_type": "code",
   "execution_count": 16,
   "metadata": {},
   "outputs": [
    {
     "data": {
      "text/plain": [
       "\"positivo\""
      ]
     },
     "execution_count": 16,
     "metadata": {},
     "output_type": "execute_result"
    }
   ],
   "source": [
    "positivo_o_negativo(1.2)"
   ]
  },
  {
   "cell_type": "markdown",
   "metadata": {},
   "source": [
    "Hay otra forma de condicional, que es la llamada evaluación de \"corto circuito\". En ciertos casos, uno requiere evaluar expresiones que involucran dos variables booleanas, en particular si *ambas* son verdaderas (*and*) o si una lo es (*or*). A menudo, dichas evaluaciones se pueden decidir a partir de la primer evaluación; de ahí que se llamen de *corto circuito*. Concretamente,\n",
    "\n",
    "- `bool_a && bool_b` significa que `b` se evaluará si `a == true`, ya que si `a == false` el resultado es `false`;\n",
    "- `bool_a || bool_b` significa que `b` se evaluará si `a == false`, ya que si `a == true` el resultado es `true`."
   ]
  },
  {
   "cell_type": "code",
   "execution_count": 30,
   "metadata": {},
   "outputs": [
    {
     "data": {
      "text/plain": [
       "falso (generic function with 1 method)"
      ]
     },
     "execution_count": 30,
     "metadata": {},
     "output_type": "execute_result"
    }
   ],
   "source": [
    "verdadero(x) = (println(x);true)\n",
    "falso(x) = (println(x);false)"
   ]
  },
  {
   "cell_type": "code",
   "execution_count": 31,
   "metadata": {},
   "outputs": [
    {
     "data": {
      "text/html": [
       "# 1 method for generic function <b>falso</b>:<ul><li> falso(x) in Main at In[30]:2</li> </ul>"
      ],
      "text/plain": [
       "# 1 method for generic function \"falso\":\n",
       "[1] falso(x) in Main at In[30]:2"
      ]
     },
     "execution_count": 31,
     "metadata": {},
     "output_type": "execute_result"
    }
   ],
   "source": [
    "methods(falso)"
   ]
  },
  {
   "cell_type": "code",
   "execution_count": 21,
   "metadata": {},
   "outputs": [
    {
     "name": "stdout",
     "output_type": "stream",
     "text": [
      "1\n",
      "2\n"
     ]
    },
    {
     "data": {
      "text/plain": [
       "true"
      ]
     },
     "execution_count": 21,
     "metadata": {},
     "output_type": "execute_result"
    }
   ],
   "source": [
    "verdadero(1) && verdadero(2)"
   ]
  },
  {
   "cell_type": "code",
   "execution_count": 22,
   "metadata": {},
   "outputs": [
    {
     "name": "stdout",
     "output_type": "stream",
     "text": [
      "1\n",
      "2\n"
     ]
    },
    {
     "data": {
      "text/plain": [
       "false"
      ]
     },
     "execution_count": 22,
     "metadata": {},
     "output_type": "execute_result"
    }
   ],
   "source": [
    "verdadero(1) && falso(2)"
   ]
  },
  {
   "cell_type": "code",
   "execution_count": 23,
   "metadata": {},
   "outputs": [
    {
     "name": "stdout",
     "output_type": "stream",
     "text": [
      "1\n"
     ]
    },
    {
     "data": {
      "text/plain": [
       "false"
      ]
     },
     "execution_count": 23,
     "metadata": {},
     "output_type": "execute_result"
    }
   ],
   "source": [
    "falso(1) && verdadero(2)"
   ]
  },
  {
   "cell_type": "code",
   "execution_count": 24,
   "metadata": {},
   "outputs": [
    {
     "name": "stdout",
     "output_type": "stream",
     "text": [
      "1\n"
     ]
    },
    {
     "data": {
      "text/plain": [
       "false"
      ]
     },
     "execution_count": 24,
     "metadata": {},
     "output_type": "execute_result"
    }
   ],
   "source": [
    "falso(1) && falso(2)"
   ]
  },
  {
   "cell_type": "code",
   "execution_count": 25,
   "metadata": {},
   "outputs": [
    {
     "name": "stdout",
     "output_type": "stream",
     "text": [
      "1\n"
     ]
    },
    {
     "data": {
      "text/plain": [
       "true"
      ]
     },
     "execution_count": 25,
     "metadata": {},
     "output_type": "execute_result"
    }
   ],
   "source": [
    "verdadero(1) || verdadero(2)"
   ]
  },
  {
   "cell_type": "code",
   "execution_count": null,
   "metadata": {},
   "outputs": [],
   "source": [
    "verdadero(1) || falso(2)"
   ]
  },
  {
   "cell_type": "code",
   "execution_count": null,
   "metadata": {},
   "outputs": [],
   "source": [
    "falso(1) || verdadero(2)"
   ]
  },
  {
   "cell_type": "code",
   "execution_count": null,
   "metadata": {},
   "outputs": [],
   "source": [
    "falso(1) || falso(2)"
   ]
  },
  {
   "cell_type": "code",
   "execution_count": 26,
   "metadata": {},
   "outputs": [
    {
     "name": "stdout",
     "output_type": "stream",
     "text": [
      "1\n",
      "2\n"
     ]
    },
    {
     "data": {
      "text/plain": [
       "false"
      ]
     },
     "execution_count": 26,
     "metadata": {},
     "output_type": "execute_result"
    }
   ],
   "source": [
    "falso(1) & verdadero(2)"
   ]
  },
  {
   "cell_type": "markdown",
   "metadata": {},
   "source": [
    "Las comparaciones con evaluaciones de corto circuito se comportan de manera distinta que usar `&` y `|` (comparaciones \"bitwise\")."
   ]
  },
  {
   "cell_type": "code",
   "execution_count": 27,
   "metadata": {},
   "outputs": [
    {
     "name": "stdout",
     "output_type": "stream",
     "text": [
      "1\n",
      "2\n"
     ]
    },
    {
     "data": {
      "text/plain": [
       "false"
      ]
     },
     "execution_count": 27,
     "metadata": {},
     "output_type": "execute_result"
    }
   ],
   "source": [
    "falso(1) & falso(2)"
   ]
  },
  {
   "cell_type": "code",
   "execution_count": 28,
   "metadata": {},
   "outputs": [
    {
     "name": "stdout",
     "output_type": "stream",
     "text": [
      "1\n",
      "2\n"
     ]
    },
    {
     "data": {
      "text/plain": [
       "true"
      ]
     },
     "execution_count": 28,
     "metadata": {},
     "output_type": "execute_result"
    }
   ],
   "source": [
    "verdadero(1) | verdadero(2)"
   ]
  },
  {
   "cell_type": "markdown",
   "metadata": {},
   "source": [
    "## Ciclos: evaluaciones repetidas\n",
    "\n",
    "Hay dos tipos de evaluaciones en ciclos: el ciclo `while` y el ciclo `for`. Si bien éstas son en algún sentido equivalentes, a veces usar una o la otra puede ser más conveniente. Ambas requieren `end` para marcar donde acaba el código que se repite."
   ]
  },
  {
   "cell_type": "code",
   "execution_count": null,
   "metadata": {},
   "outputs": [],
   "source": [
    "glob_i = 1\n",
    "while glob_i <= 5\n",
    "    println(glob_i)\n",
    "    global glob_i += 1\n",
    "end"
   ]
  },
  {
   "cell_type": "code",
   "execution_count": null,
   "metadata": {},
   "outputs": [],
   "source": [
    "for loc_i=1:5\n",
    "    println(loc_i)\n",
    "end"
   ]
  },
  {
   "cell_type": "code",
   "execution_count": null,
   "metadata": {},
   "outputs": [],
   "source": [
    "typeof(1:5)"
   ]
  },
  {
   "cell_type": "markdown",
   "metadata": {},
   "source": [
    "Vale la pena notar que en el ciclo `for` si la variable `loc_i` no existe antes, entonces ésta sólo existirá dentro del ciclo `for`, y no después o fuera del ciclo."
   ]
  },
  {
   "cell_type": "code",
   "execution_count": null,
   "metadata": {},
   "outputs": [],
   "source": [
    "glob_i"
   ]
  },
  {
   "cell_type": "code",
   "execution_count": null,
   "metadata": {},
   "outputs": [],
   "source": [
    "loc_i"
   ]
  },
  {
   "cell_type": "markdown",
   "metadata": {},
   "source": [
    "En general, la construcción del ciclo `for` permite *iterar* sobre estructuras iterables."
   ]
  },
  {
   "cell_type": "code",
   "execution_count": null,
   "metadata": {},
   "outputs": [],
   "source": [
    "for i in 1:8:20\n",
    "    println(i)\n",
    "end"
   ]
  },
  {
   "cell_type": "code",
   "execution_count": null,
   "metadata": {},
   "outputs": [],
   "source": [
    "animales = [\"perro\", \"gato\", \"conejo\"]\n",
    "for i ∈ animales\n",
    "    println(i)\n",
    "end"
   ]
  },
  {
   "cell_type": "markdown",
   "metadata": {},
   "source": [
    "En ocasiones, es útil interrumpir las iteraciones subsecuentes en un ciclo, lo que se logra con `break`. Otras, es posible omitir la ejecución del resto del código, sin interrumpir el ciclo; esto se consigue con `continue`."
   ]
  },
  {
   "cell_type": "code",
   "execution_count": null,
   "metadata": {},
   "outputs": [],
   "source": [
    "for j = 1:1000\n",
    "    println(j)\n",
    "    j >= 5 && break\n",
    "end"
   ]
  },
  {
   "cell_type": "code",
   "execution_count": null,
   "metadata": {},
   "outputs": [],
   "source": [
    "for i = 1:10\n",
    "    i % 3 != 0 && continue   ## i % 3 es equivalente a mod(i, 3)\n",
    "    println(i)\n",
    "end"
   ]
  },
  {
   "cell_type": "markdown",
   "metadata": {},
   "source": [
    "Uno puede encadenar ejecuciones de varios ciclos `for`, en una línea, formando el producto cartesiano de los iterados."
   ]
  },
  {
   "cell_type": "code",
   "execution_count": null,
   "metadata": {},
   "outputs": [],
   "source": [
    "for i = 1:2, j = 3:5\n",
    "    println((i, j))\n",
    "end"
   ]
  },
  {
   "cell_type": "markdown",
   "metadata": {},
   "source": [
    "### Ejercicios 3\n",
    "\n",
    "1. Construyan una función qué, a partir de un tipo de estructura (e.g., `Int64`), muestre el *árbol* de estructuras que están por arriba de él, es decir, sus `supertype`s, hasta llegar a `Any`. Muestren su función con varios ejemplos.\n",
    "\n",
    "- Usando la siguiente función (tomada de [aquí](https://github.com/lbenet/JuliaWorkshop19/blob/master/1_One/1_types_and_dispatch.ipynb))\n",
    "    ```julia\n",
    "    function show_subtypetree(T, level=1, indent=4)\n",
    "        level == 1 && println(T)\n",
    "        for s in subtypes(T)\n",
    "            println(join(fill(\" \", level * indent)) * string(s))\n",
    "            show_subtypetree(s, level+1, indent)\n",
    "        end\n",
    "    end\n",
    "    ```\n",
    "    ¿qué pueden decir de los tipos que son concretos en cuanto a su posición en el árbol de tipos?\n",
    "\n",
    "- Escriban una función que aproxime la raíz cuadrada de $a$ usando el método iterativo Babilonio:\n",
    "    - Empiecen con un número arbitrario positivo $x$.\n",
    "    - Reemplacen $x$ por $(x + a/x)/2$.\n",
    "    - Repitan el paso anterior usando el nuevo valor de $x$."
   ]
  },
  {
   "cell_type": "code",
   "execution_count": 3,
   "metadata": {},
   "outputs": [
    {
     "data": {
      "text/plain": [
       "show_subtypetree (generic function with 3 methods)"
      ]
     },
     "execution_count": 3,
     "metadata": {},
     "output_type": "execute_result"
    }
   ],
   "source": [
    "  function show_subtypetree(T, level=1, indent=4)\n",
    "      level == 1 && println(T)\n",
    "      for s in subtypes(T)\n",
    "          println(join(fill(\" \", level * indent)) * string(s))\n",
    "          show_subtypetree(s, level+1, indent)\n",
    "      end\n",
    "  end"
   ]
  },
  {
   "cell_type": "code",
   "execution_count": null,
   "metadata": {},
   "outputs": [],
   "source": [
    "show_subtypetree()"
   ]
  }
 ],
 "metadata": {
  "kernelspec": {
   "display_name": "Julia 1.8.0",
   "language": "julia",
   "name": "julia-1.8"
  },
  "language_info": {
   "file_extension": ".jl",
   "mimetype": "application/julia",
   "name": "julia",
   "version": "1.8.0"
  }
 },
 "nbformat": 4,
 "nbformat_minor": 4
}
