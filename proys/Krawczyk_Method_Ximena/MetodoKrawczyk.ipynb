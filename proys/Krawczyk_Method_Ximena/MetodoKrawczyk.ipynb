{
 "cells": [
  {
   "cell_type": "markdown",
   "metadata": {},
   "source": [
    "# El método Krawczyk\n",
    "\n",
    "## Alicia Ximena Cortés Barajas\n",
    "\n",
    "\n",
    "#### Aritmética de Intervalos 2023-1\n",
    "#### Facultad de Ciencias, UNAM"
   ]
  },
  {
   "cell_type": "markdown",
   "metadata": {},
   "source": [
    "# Contenido\n",
    "1. <a href='#section_1'>Método de Krawczyk</a>\n",
    "2. <a href='#section_2'>Código del operador de Krawczyk</a>\n",
    "3. <a href='#section_3'>Probando con atan(x)</a>\n",
    "4. <a href='#section_4'>Comparando método de Newton y de Krawczyk con atan(x)</a>\n",
    "5. <a href='#section_5'>Buscando ceros con Krawczyk</a>\n",
    "6. <a href='#section_6'>Conclusiones</a>\n",
    "7. <a href='#section_7'>Bibliografía</a>\n",
    "8. <a href='#section_8'>Anexo: Cosas que no han funcionado</a>"
   ]
  },
  {
   "cell_type": "markdown",
   "metadata": {},
   "source": [
    "<a id=\"section_1\"></a>\n",
    "\n",
    "# Método de Krawczyk"
   ]
  },
  {
   "cell_type": "markdown",
   "metadata": {},
   "source": [
    "El método de Krawczyk es una alternativa al método de Newton, en la que, no es necesario dividir entre la extensión intervalar de la derivada $F^\\prime([x])$, lo cual nos ahorra el problema de considerar loas casos en los que el cero se encuentra en la derivada y tener que usar división extendida.$[1]$\n",
    "\n",
    "Además, en el caso multivariable, para el método de Newton tendremos que si $F(x^*) = 0$ y $dF(x^*)$ es una matriz no singular, es decir, su determinante es diferente de cero y por ende es invertible; tendremos que la raíz $x^*$ es un punto fijo atrayente para el operador de Newton$[2]$\n",
    "$$N([x]; x) = x - \\frac{f(x)}{F^\\prime([x])}$$\n",
    "Lo que se traduce en que, si iniciamos en un punto $x_0$ suficientemente cercano a $x^*$, la iteración siempre convergerá a $x^*$, puesto que en tal punto $x_0$ todas las soluciones de la función tendrán un comportamiento asintótico $\\lim_{x\\to\\infty} F(x) = x^*$, lo cual puede representar un problema al no permitir ver el resto de las raíces. $[2]$\n",
    "\n",
    "Ahora, veamos el método Krawczyk\n",
    "\n",
    "Sea $f:[x]\\to\\mathbb{R}$ una función continua y diferenciable en $[x]$ $(C^1)$, con raíz $x^* \\in [x]$, análogo al método de Newton, expandimos la función usando el teorema del valor medio, resultando en la siguiente expresión\n",
    "\n",
    "$$f(x) = f(x^*)+f^\\prime(\\zeta)(x-x^*) = f^\\prime(\\zeta)(x-x^*)$$\n",
    "para alguna $\\zeta$ entre $x$ y $x^*$,\n",
    "\n",
    "Después multiplicamos por una constante finita $C$\n",
    "$$Cf(x) = Cf^\\prime(\\zeta)(x-x^*)$$\n",
    "y sumamos $x^*- x$ a ambos lados\n",
    "\n",
    "$$x^*- x +Cf(x) = x^*- x + Cf^\\prime(\\zeta)(x-x^*)$$\n",
    "y factorizando tendremos\n",
    "$$x^* - x +Cf(x) =(Cf^\\prime(\\zeta) - 1)(x-x^*)$$\n",
    "\n",
    "De donde, sacando un menos del primer paréntesis de lado derecho de la igualdad, y despejando $x^*$ obtenemos\n",
    "\n",
    "$$x^* = x - Cf(x) -(1-Cf^\\prime(\\zeta))(x-x^*)$$\n",
    "\n",
    "\n",
    "Pero como $x^* \\in [x]$ y $\\zeta \\in [x]$ podemos extender esto a intervalos de la siguiente manera\n",
    "\n",
    "$$x^* \\in x - Cf(x) -(1-Cf^\\prime([x]))(x-[x])\\equiv K([x],x,C)$$\n",
    "\n",
    "De forma que, como se puede observar, la raíz queda contenida en el operador de Krawczyk para cualquier $x\\in [x]$ y $C$ finita\n",
    "\n",
    "Ahora bien, si tomamos $x = m = mid([x])$ y $C = \\frac{1}{f\\prime(m)}$ siendo esta la inversa aproximada del punto medio de $F\\prime([x])$ entonces la ecuación anterior toma la siguiente forma\n",
    "\n",
    "$$\n",
    "K\\left([x], m, \\frac{1}{f\\prime(m)}\\right) = m - \\frac{f(m)}{f\\prime(m)} - \\left(1-\\frac{F\\prime([x])}{f\\prime(m)}\\right)(-r,r)\n",
    "$$\n",
    "donde $r = rad([x])$\n",
    "\n",
    "Tomemos una región de búsqueda de raíces $[x_0]=[x]$, este será el iterado inicial para encontrar la raíz, entonces podemos definir la siguiente secuencia de intervalos\n",
    "$$\n",
    "[x_{k+1}] = K([x_k])\\cap [x_k], k=0,1,2,\\dots.\n",
    "$$\n",
    "\n",
    "Esta secuencia estará bien definida siempre que $f\\prime(m)\\neq 0$"
   ]
  },
  {
   "cell_type": "markdown",
   "metadata": {},
   "source": [
    "Hay algunos puntos interesantes a ver aqui, como se muestra en el siguiente teorema\n",
    "\n",
    "**Teorema**. Supongamos que $K([x])$ está bien definida, entonces se cumple que\n",
    "1. si $x^*\\in[x]$ entonces $x^*\\in K([x])\\cap [x]$\n",
    "2. si $K([x])\\cap [x] = \\emptyset$, entonces $[x]$ no contiene a ninguna raíz de $f$;\n",
    "3. si $K([x])\\subseteq int([x])$, entonces $[x]$ contiene exactamente una raíz de $f$.\n",
    "\n",
    "Este teorema es muy parecido al presentado para el método de Newton"
   ]
  },
  {
   "cell_type": "code",
   "execution_count": 1,
   "metadata": {},
   "outputs": [
    {
     "name": "stderr",
     "output_type": "stream",
     "text": [
      "\u001b[32m\u001b[1m  Activating\u001b[22m\u001b[39m project at `C:\\Users\\alici\\OneDrive\\Documentos\\AMPLIACION MATERIAS\\INTERVALOS\\miClaseInt\\proys\\Krawczyk_Method_Ximena`\n"
     ]
    }
   ],
   "source": [
    "using Pkg\n",
    "Pkg.activate(\".\") # estamos en el directorio `docs`\n",
    "Pkg.instantiate() # hay nuevos paquetes que usaremos\n",
    "using Plots\n",
    "using ForwardDiff"
   ]
  },
  {
   "cell_type": "code",
   "execution_count": 2,
   "metadata": {},
   "outputs": [],
   "source": [
    "using Dates"
   ]
  },
  {
   "cell_type": "code",
   "execution_count": 3,
   "metadata": {},
   "outputs": [],
   "source": [
    "using ProgressBars"
   ]
  },
  {
   "cell_type": "code",
   "execution_count": 4,
   "metadata": {},
   "outputs": [
    {
     "data": {
      "text/plain": [
       "maximiza"
      ]
     },
     "execution_count": 4,
     "metadata": {},
     "output_type": "execute_result"
    }
   ],
   "source": [
    "# Usando el código realizado previamente en clase\n",
    "include(\"src/Ximena/intervalos.jl\")\n",
    "include(\"src/Ximena/raices.jl\")\n",
    "include(\"src/Ximena/optimizacion.jl\")"
   ]
  },
  {
   "cell_type": "markdown",
   "metadata": {},
   "source": [
    "<a id=\"section_2\"></a>\n",
    "\n",
    "# Código del operador de Krawczyk"
   ]
  },
  {
   "cell_type": "code",
   "execution_count": 5,
   "metadata": {},
   "outputs": [
    {
     "data": {
      "text/plain": [
       "K"
      ]
     },
     "execution_count": 5,
     "metadata": {},
     "output_type": "execute_result"
    }
   ],
   "source": [
    "#-\n",
    "#Como el operador de Krawczyk usa el radio del intervalo dado como dominio, primero definiremos la función rad\n",
    "#-\n",
    "\"\"\"\n",
    "rad regresa el radio de un intervalo, al calcular el diámetro del mismo y dividirlo entre 2\n",
    "\"\"\"\n",
    "function rad(a::Intervalo)\n",
    "    return (1/2)*(a.supremo - a.infimo) #radio de un intervalo a\n",
    "end\n",
    "#-\n",
    "\"\"\"\n",
    "Operador de Krawczyk\n",
    "Como se explicó previamente tiene la forma de \n",
    "K([x], m, 1/f'(m)) = m - f(m)/f'(m) - (1-F'([x])/f'(m))(-r,r)\n",
    "Por lo que, la función calcula la derivada de la función dada en el dominio y en el punto medio, además \n",
    "calcula el radio del dominio dado y crea un intervalo (-r,r) \n",
    "\"\"\"\n",
    "function K(f, dom)\n",
    "    f′ = ForwardDiff.derivative(f, dom)\n",
    "    m = midpoint(dom) #Necesita el punto medio del intervalo en forma escalar para la derivada evaluada en ese punto\n",
    "    fm′ = ForwardDiff.derivative(f, m)\n",
    "    r = rad(dom)\n",
    "    rm = Intervalo(-r,r)\n",
    "    md = Intervalo(m)\n",
    "    @assert fm′ != 0\n",
    "    Km = md - f(md)/fm′-(1-(f′/fm′))*rm\n",
    "    return Km #devuelve un intervalo en donde puede estar la raíz\n",
    "end"
   ]
  },
  {
   "cell_type": "markdown",
   "metadata": {},
   "source": [
    "<a id=\"section_3\"></a>\n",
    "# Probando con atan(x)"
   ]
  },
  {
   "cell_type": "markdown",
   "metadata": {},
   "source": [
    "Para ilustrar cómo funciona el método de Krawczyk y compararlo con el de Newton intervalar, consideraremos la función $g(x) = \\textrm{atan}(x)$ en el intervalo $[x]=[-1,3]$, que incluye a la única raíz de la función, $x^*=0$.\n",
    "\n",
    "Elegí esta función en particular para poder comparar con el ejemplo presentado previamente en las notas de clase \"05-CerosFunc\", lo que se muestra más adelante\n",
    "\n",
    "Primero extendamos la función atan para que acepte intervalos"
   ]
  },
  {
   "cell_type": "code",
   "execution_count": 5,
   "metadata": {},
   "outputs": [
    {
     "data": {
      "text/plain": [
       "atan (generic function with 38 methods)"
      ]
     },
     "execution_count": 5,
     "metadata": {},
     "output_type": "execute_result"
    }
   ],
   "source": [
    "import Base: atan\n",
    "atan(x::Intervalo) = Intervalo(atan(x.infimo), atan(x.supremo))"
   ]
  },
  {
   "cell_type": "code",
   "execution_count": 6,
   "metadata": {},
   "outputs": [
    {
     "data": {
      "text/plain": [
       "-0.125"
      ]
     },
     "execution_count": 6,
     "metadata": {},
     "output_type": "execute_result"
    }
   ],
   "source": [
    "g(x) = atan(x) #definimos la función, intervalo de prueba y el dominio total a revisar\n",
    "dom_tot = -10.5:0.125:10.5\n",
    "dom0 = Intervalo(-1,3)\n",
    "#los siguientes valores son por propósitos de visualización\n",
    "#para ver a que altura colocar las líneas indicadoras de los intervalos\n",
    "y0 = -3/16\n",
    "y1 = -1/16\n",
    "y2 = -2/16"
   ]
  },
  {
   "cell_type": "code",
   "execution_count": 7,
   "metadata": {},
   "outputs": [
    {
     "data": {
      "text/plain": [
       "Intervalo{Float64}(-2.570796326794902, 1.4292036732051085)"
      ]
     },
     "execution_count": 7,
     "metadata": {},
     "output_type": "execute_result"
    }
   ],
   "source": [
    "K(g,dom0)"
   ]
  },
  {
   "cell_type": "code",
   "execution_count": 8,
   "metadata": {},
   "outputs": [
    {
     "data": {
      "image/svg+xml": [
       "<?xml version=\"1.0\" encoding=\"utf-8\"?>\n",
       "<svg xmlns=\"http://www.w3.org/2000/svg\" xmlns:xlink=\"http://www.w3.org/1999/xlink\" width=\"600\" height=\"400\" viewBox=\"0 0 2400 1600\">\n",
       "<defs>\n",
       "  <clipPath id=\"clip470\">\n",
       "    <rect x=\"0\" y=\"0\" width=\"2400\" height=\"1600\"/>\n",
       "  </clipPath>\n",
       "</defs>\n",
       "<path clip-path=\"url(#clip470)\" d=\"\n",
       "M0 1600 L2400 1600 L2400 0 L0 0  Z\n",
       "  \" fill=\"#ffffff\" fill-rule=\"evenodd\" fill-opacity=\"1\"/>\n",
       "<defs>\n",
       "  <clipPath id=\"clip471\">\n",
       "    <rect x=\"480\" y=\"0\" width=\"1681\" height=\"1600\"/>\n",
       "  </clipPath>\n",
       "</defs>\n",
       "<path clip-path=\"url(#clip470)\" d=\"\n",
       "M257.204 1423.18 L2352.76 1423.18 L2352.76 47.2441 L257.204 47.2441  Z\n",
       "  \" fill=\"#ffffff\" fill-rule=\"evenodd\" fill-opacity=\"1\"/>\n",
       "<defs>\n",
       "  <clipPath id=\"clip472\">\n",
       "    <rect x=\"257\" y=\"47\" width=\"2097\" height=\"1377\"/>\n",
       "  </clipPath>\n",
       "</defs>\n",
       "<polyline clip-path=\"url(#clip472)\" style=\"stroke:#000000; stroke-linecap:round; stroke-linejoin:round; stroke-width:2; stroke-opacity:0.1; fill:none\" points=\"\n",
       "  307.098,1423.18 307.098,47.2441 \n",
       "  \"/>\n",
       "<polyline clip-path=\"url(#clip472)\" style=\"stroke:#000000; stroke-linecap:round; stroke-linejoin:round; stroke-width:2; stroke-opacity:0.1; fill:none\" points=\"\n",
       "  806.039,1423.18 806.039,47.2441 \n",
       "  \"/>\n",
       "<polyline clip-path=\"url(#clip472)\" style=\"stroke:#000000; stroke-linecap:round; stroke-linejoin:round; stroke-width:2; stroke-opacity:0.1; fill:none\" points=\"\n",
       "  1304.98,1423.18 1304.98,47.2441 \n",
       "  \"/>\n",
       "<polyline clip-path=\"url(#clip472)\" style=\"stroke:#000000; stroke-linecap:round; stroke-linejoin:round; stroke-width:2; stroke-opacity:0.1; fill:none\" points=\"\n",
       "  1803.92,1423.18 1803.92,47.2441 \n",
       "  \"/>\n",
       "<polyline clip-path=\"url(#clip472)\" style=\"stroke:#000000; stroke-linecap:round; stroke-linejoin:round; stroke-width:2; stroke-opacity:0.1; fill:none\" points=\"\n",
       "  2302.86,1423.18 2302.86,47.2441 \n",
       "  \"/>\n",
       "<polyline clip-path=\"url(#clip470)\" style=\"stroke:#000000; stroke-linecap:round; stroke-linejoin:round; stroke-width:4; stroke-opacity:1; fill:none\" points=\"\n",
       "  257.204,1423.18 2352.76,1423.18 \n",
       "  \"/>\n",
       "<polyline clip-path=\"url(#clip470)\" style=\"stroke:#000000; stroke-linecap:round; stroke-linejoin:round; stroke-width:4; stroke-opacity:1; fill:none\" points=\"\n",
       "  307.098,1423.18 307.098,1404.28 \n",
       "  \"/>\n",
       "<polyline clip-path=\"url(#clip470)\" style=\"stroke:#000000; stroke-linecap:round; stroke-linejoin:round; stroke-width:4; stroke-opacity:1; fill:none\" points=\"\n",
       "  806.039,1423.18 806.039,1404.28 \n",
       "  \"/>\n",
       "<polyline clip-path=\"url(#clip470)\" style=\"stroke:#000000; stroke-linecap:round; stroke-linejoin:round; stroke-width:4; stroke-opacity:1; fill:none\" points=\"\n",
       "  1304.98,1423.18 1304.98,1404.28 \n",
       "  \"/>\n",
       "<polyline clip-path=\"url(#clip470)\" style=\"stroke:#000000; stroke-linecap:round; stroke-linejoin:round; stroke-width:4; stroke-opacity:1; fill:none\" points=\"\n",
       "  1803.92,1423.18 1803.92,1404.28 \n",
       "  \"/>\n",
       "<polyline clip-path=\"url(#clip470)\" style=\"stroke:#000000; stroke-linecap:round; stroke-linejoin:round; stroke-width:4; stroke-opacity:1; fill:none\" points=\"\n",
       "  2302.86,1423.18 2302.86,1404.28 \n",
       "  \"/>\n",
       "<path clip-path=\"url(#clip470)\" d=\"M261.161 1468.75 L290.837 1468.75 L290.837 1472.69 L261.161 1472.69 L261.161 1468.75 Z\" fill=\"#000000\" fill-rule=\"evenodd\" fill-opacity=\"1\" /><path clip-path=\"url(#clip470)\" d=\"M301.739 1481.64 L309.378 1481.64 L309.378 1455.28 L301.068 1456.95 L301.068 1452.69 L309.332 1451.02 L314.008 1451.02 L314.008 1481.64 L321.647 1481.64 L321.647 1485.58 L301.739 1485.58 L301.739 1481.64 Z\" fill=\"#000000\" fill-rule=\"evenodd\" fill-opacity=\"1\" /><path clip-path=\"url(#clip470)\" d=\"M341.091 1454.1 Q337.48 1454.1 335.651 1457.66 Q333.846 1461.2 333.846 1468.33 Q333.846 1475.44 335.651 1479.01 Q337.48 1482.55 341.091 1482.55 Q344.725 1482.55 346.531 1479.01 Q348.359 1475.44 348.359 1468.33 Q348.359 1461.2 346.531 1457.66 Q344.725 1454.1 341.091 1454.1 M341.091 1450.39 Q346.901 1450.39 349.957 1455 Q353.035 1459.58 353.035 1468.33 Q353.035 1477.06 349.957 1481.67 Q346.901 1486.25 341.091 1486.25 Q335.281 1486.25 332.202 1481.67 Q329.147 1477.06 329.147 1468.33 Q329.147 1459.58 332.202 1455 Q335.281 1450.39 341.091 1450.39 Z\" fill=\"#000000\" fill-rule=\"evenodd\" fill-opacity=\"1\" /><path clip-path=\"url(#clip470)\" d=\"M775.68 1468.75 L805.356 1468.75 L805.356 1472.69 L775.68 1472.69 L775.68 1468.75 Z\" fill=\"#000000\" fill-rule=\"evenodd\" fill-opacity=\"1\" /><path clip-path=\"url(#clip470)\" d=\"M815.495 1451.02 L833.851 1451.02 L833.851 1454.96 L819.777 1454.96 L819.777 1463.43 Q820.796 1463.08 821.814 1462.92 Q822.833 1462.73 823.851 1462.73 Q829.638 1462.73 833.018 1465.9 Q836.398 1469.08 836.398 1474.49 Q836.398 1480.07 832.925 1483.17 Q829.453 1486.25 823.134 1486.25 Q820.958 1486.25 818.689 1485.88 Q816.444 1485.51 814.037 1484.77 L814.037 1480.07 Q816.12 1481.2 818.342 1481.76 Q820.564 1482.32 823.041 1482.32 Q827.046 1482.32 829.384 1480.21 Q831.722 1478.1 831.722 1474.49 Q831.722 1470.88 829.384 1468.77 Q827.046 1466.67 823.041 1466.67 Q821.166 1466.67 819.291 1467.08 Q817.439 1467.5 815.495 1468.38 L815.495 1451.02 Z\" fill=\"#000000\" fill-rule=\"evenodd\" fill-opacity=\"1\" /><path clip-path=\"url(#clip470)\" d=\"M1304.98 1454.1 Q1301.37 1454.1 1299.54 1457.66 Q1297.73 1461.2 1297.73 1468.33 Q1297.73 1475.44 1299.54 1479.01 Q1301.37 1482.55 1304.98 1482.55 Q1308.61 1482.55 1310.42 1479.01 Q1312.25 1475.44 1312.25 1468.33 Q1312.25 1461.2 1310.42 1457.66 Q1308.61 1454.1 1304.98 1454.1 M1304.98 1450.39 Q1310.79 1450.39 1313.85 1455 Q1316.92 1459.58 1316.92 1468.33 Q1316.92 1477.06 1313.85 1481.67 Q1310.79 1486.25 1304.98 1486.25 Q1299.17 1486.25 1296.09 1481.67 Q1293.04 1477.06 1293.04 1468.33 Q1293.04 1459.58 1296.09 1455 Q1299.17 1450.39 1304.98 1450.39 Z\" fill=\"#000000\" fill-rule=\"evenodd\" fill-opacity=\"1\" /><path clip-path=\"url(#clip470)\" d=\"M1794.2 1451.02 L1812.56 1451.02 L1812.56 1454.96 L1798.48 1454.96 L1798.48 1463.43 Q1799.5 1463.08 1800.52 1462.92 Q1801.54 1462.73 1802.56 1462.73 Q1808.34 1462.73 1811.72 1465.9 Q1815.1 1469.08 1815.1 1474.49 Q1815.1 1480.07 1811.63 1483.17 Q1808.16 1486.25 1801.84 1486.25 Q1799.66 1486.25 1797.39 1485.88 Q1795.15 1485.51 1792.74 1484.77 L1792.74 1480.07 Q1794.82 1481.2 1797.05 1481.76 Q1799.27 1482.32 1801.74 1482.32 Q1805.75 1482.32 1808.09 1480.21 Q1810.43 1478.1 1810.43 1474.49 Q1810.43 1470.88 1808.09 1468.77 Q1805.75 1466.67 1801.74 1466.67 Q1799.87 1466.67 1797.99 1467.08 Q1796.14 1467.5 1794.2 1468.38 L1794.2 1451.02 Z\" fill=\"#000000\" fill-rule=\"evenodd\" fill-opacity=\"1\" /><path clip-path=\"url(#clip470)\" d=\"M2277.55 1481.64 L2285.19 1481.64 L2285.19 1455.28 L2276.88 1456.95 L2276.88 1452.69 L2285.14 1451.02 L2289.82 1451.02 L2289.82 1481.64 L2297.46 1481.64 L2297.46 1485.58 L2277.55 1485.58 L2277.55 1481.64 Z\" fill=\"#000000\" fill-rule=\"evenodd\" fill-opacity=\"1\" /><path clip-path=\"url(#clip470)\" d=\"M2316.9 1454.1 Q2313.29 1454.1 2311.46 1457.66 Q2309.66 1461.2 2309.66 1468.33 Q2309.66 1475.44 2311.46 1479.01 Q2313.29 1482.55 2316.9 1482.55 Q2320.54 1482.55 2322.34 1479.01 Q2324.17 1475.44 2324.17 1468.33 Q2324.17 1461.2 2322.34 1457.66 Q2320.54 1454.1 2316.9 1454.1 M2316.9 1450.39 Q2322.71 1450.39 2325.77 1455 Q2328.85 1459.58 2328.85 1468.33 Q2328.85 1477.06 2325.77 1481.67 Q2322.71 1486.25 2316.9 1486.25 Q2311.09 1486.25 2308.01 1481.67 Q2304.96 1477.06 2304.96 1468.33 Q2304.96 1459.58 2308.01 1455 Q2311.09 1450.39 2316.9 1450.39 Z\" fill=\"#000000\" fill-rule=\"evenodd\" fill-opacity=\"1\" /><path clip-path=\"url(#clip470)\" d=\"M1319.15 1528.8 Q1319.15 1530.61 1318.03 1531.64 Q1316.9 1532.64 1315.61 1532.64 Q1314.39 1532.64 1313.74 1531.93 Q1313.1 1531.22 1313.1 1530.32 Q1313.1 1529.09 1314 1528.03 Q1314.9 1526.97 1316.25 1526.74 Q1314.93 1525.91 1312.97 1525.91 Q1311.68 1525.91 1310.55 1526.58 Q1309.46 1527.26 1308.78 1528.13 Q1308.14 1529 1307.56 1530.25 Q1307.01 1531.48 1306.79 1532.22 Q1306.59 1532.93 1306.43 1533.7 L1304.18 1542.72 Q1303.08 1547 1303.08 1548.51 Q1303.08 1550.38 1303.98 1551.64 Q1304.89 1552.86 1306.69 1552.86 Q1307.4 1552.86 1308.2 1552.67 Q1309.01 1552.44 1310.04 1551.86 Q1311.1 1551.25 1312.04 1550.35 Q1313 1549.42 1313.94 1547.84 Q1314.87 1546.26 1315.48 1544.23 Q1315.68 1543.52 1316.32 1543.52 Q1317.12 1543.52 1317.12 1544.17 Q1317.12 1544.71 1316.67 1545.87 Q1316.25 1547 1315.32 1548.48 Q1314.42 1549.93 1313.23 1551.25 Q1312.04 1552.54 1310.26 1553.44 Q1308.49 1554.34 1306.56 1554.34 Q1303.79 1554.34 1301.96 1552.86 Q1300.12 1551.38 1299.44 1549.32 Q1299.28 1549.61 1299.06 1550 Q1298.83 1550.38 1298.16 1551.25 Q1297.51 1552.09 1296.77 1552.73 Q1296.03 1553.34 1294.87 1553.83 Q1293.74 1554.34 1292.52 1554.34 Q1290.97 1554.34 1289.59 1553.89 Q1288.24 1553.44 1287.27 1552.41 Q1286.3 1551.38 1286.3 1549.96 Q1286.3 1548.38 1287.37 1547.29 Q1288.46 1546.16 1289.94 1546.16 Q1290.88 1546.16 1291.62 1546.71 Q1292.39 1547.26 1292.39 1548.45 Q1292.39 1549.77 1291.49 1550.77 Q1290.59 1551.77 1289.3 1552.02 Q1290.62 1552.86 1292.58 1552.86 Q1294.71 1552.86 1296.38 1550.99 Q1298.06 1549.13 1298.86 1546 Q1300.86 1538.5 1301.63 1535.15 Q1302.41 1531.77 1302.41 1530.32 Q1302.41 1528.96 1302.05 1528.03 Q1301.7 1527.1 1301.09 1526.68 Q1300.51 1526.23 1299.96 1526.07 Q1299.44 1525.91 1298.86 1525.91 Q1297.9 1525.91 1296.8 1526.29 Q1295.74 1526.68 1294.45 1527.58 Q1293.2 1528.45 1292 1530.25 Q1290.81 1532.06 1290.01 1534.54 Q1289.85 1535.28 1289.14 1535.28 Q1288.36 1535.24 1288.36 1534.6 Q1288.36 1534.05 1288.78 1532.93 Q1289.23 1531.77 1290.14 1530.32 Q1291.07 1528.87 1292.26 1527.58 Q1293.49 1526.26 1295.26 1525.36 Q1297.06 1524.46 1298.99 1524.46 Q1299.86 1524.46 1300.7 1524.65 Q1301.57 1524.81 1302.6 1525.29 Q1303.66 1525.78 1304.6 1526.84 Q1305.53 1527.9 1306.11 1529.45 Q1306.5 1528.71 1307.01 1528 Q1307.56 1527.29 1308.4 1526.42 Q1309.27 1525.52 1310.46 1525 Q1311.68 1524.46 1313.03 1524.46 Q1314.35 1524.46 1315.64 1524.81 Q1316.93 1525.13 1318.03 1526.19 Q1319.15 1527.23 1319.15 1528.8 Z\" fill=\"#000000\" fill-rule=\"evenodd\" fill-opacity=\"1\" /><polyline clip-path=\"url(#clip472)\" style=\"stroke:#000000; stroke-linecap:round; stroke-linejoin:round; stroke-width:2; stroke-opacity:0.1; fill:none\" points=\"\n",
       "  257.204,1423.18 2352.76,1423.18 \n",
       "  \"/>\n",
       "<polyline clip-path=\"url(#clip472)\" style=\"stroke:#000000; stroke-linecap:round; stroke-linejoin:round; stroke-width:2; stroke-opacity:0.1; fill:none\" points=\"\n",
       "  257.204,1193.86 2352.76,1193.86 \n",
       "  \"/>\n",
       "<polyline clip-path=\"url(#clip472)\" style=\"stroke:#000000; stroke-linecap:round; stroke-linejoin:round; stroke-width:2; stroke-opacity:0.1; fill:none\" points=\"\n",
       "  257.204,964.535 2352.76,964.535 \n",
       "  \"/>\n",
       "<polyline clip-path=\"url(#clip472)\" style=\"stroke:#000000; stroke-linecap:round; stroke-linejoin:round; stroke-width:2; stroke-opacity:0.1; fill:none\" points=\"\n",
       "  257.204,735.212 2352.76,735.212 \n",
       "  \"/>\n",
       "<polyline clip-path=\"url(#clip472)\" style=\"stroke:#000000; stroke-linecap:round; stroke-linejoin:round; stroke-width:2; stroke-opacity:0.1; fill:none\" points=\"\n",
       "  257.204,505.889 2352.76,505.889 \n",
       "  \"/>\n",
       "<polyline clip-path=\"url(#clip472)\" style=\"stroke:#000000; stroke-linecap:round; stroke-linejoin:round; stroke-width:2; stroke-opacity:0.1; fill:none\" points=\"\n",
       "  257.204,276.567 2352.76,276.567 \n",
       "  \"/>\n",
       "<polyline clip-path=\"url(#clip472)\" style=\"stroke:#000000; stroke-linecap:round; stroke-linejoin:round; stroke-width:2; stroke-opacity:0.1; fill:none\" points=\"\n",
       "  257.204,47.2441 2352.76,47.2441 \n",
       "  \"/>\n",
       "<polyline clip-path=\"url(#clip470)\" style=\"stroke:#000000; stroke-linecap:round; stroke-linejoin:round; stroke-width:4; stroke-opacity:1; fill:none\" points=\"\n",
       "  257.204,1423.18 257.204,47.2441 \n",
       "  \"/>\n",
       "<polyline clip-path=\"url(#clip470)\" style=\"stroke:#000000; stroke-linecap:round; stroke-linejoin:round; stroke-width:4; stroke-opacity:1; fill:none\" points=\"\n",
       "  257.204,1423.18 276.102,1423.18 \n",
       "  \"/>\n",
       "<polyline clip-path=\"url(#clip470)\" style=\"stroke:#000000; stroke-linecap:round; stroke-linejoin:round; stroke-width:4; stroke-opacity:1; fill:none\" points=\"\n",
       "  257.204,1193.86 276.102,1193.86 \n",
       "  \"/>\n",
       "<polyline clip-path=\"url(#clip470)\" style=\"stroke:#000000; stroke-linecap:round; stroke-linejoin:round; stroke-width:4; stroke-opacity:1; fill:none\" points=\"\n",
       "  257.204,964.535 276.102,964.535 \n",
       "  \"/>\n",
       "<polyline clip-path=\"url(#clip470)\" style=\"stroke:#000000; stroke-linecap:round; stroke-linejoin:round; stroke-width:4; stroke-opacity:1; fill:none\" points=\"\n",
       "  257.204,735.212 276.102,735.212 \n",
       "  \"/>\n",
       "<polyline clip-path=\"url(#clip470)\" style=\"stroke:#000000; stroke-linecap:round; stroke-linejoin:round; stroke-width:4; stroke-opacity:1; fill:none\" points=\"\n",
       "  257.204,505.889 276.102,505.889 \n",
       "  \"/>\n",
       "<polyline clip-path=\"url(#clip470)\" style=\"stroke:#000000; stroke-linecap:round; stroke-linejoin:round; stroke-width:4; stroke-opacity:1; fill:none\" points=\"\n",
       "  257.204,276.567 276.102,276.567 \n",
       "  \"/>\n",
       "<polyline clip-path=\"url(#clip470)\" style=\"stroke:#000000; stroke-linecap:round; stroke-linejoin:round; stroke-width:4; stroke-opacity:1; fill:none\" points=\"\n",
       "  257.204,47.2441 276.102,47.2441 \n",
       "  \"/>\n",
       "<path clip-path=\"url(#clip470)\" d=\"M115.256 1423.63 L144.931 1423.63 L144.931 1427.57 L115.256 1427.57 L115.256 1423.63 Z\" fill=\"#000000\" fill-rule=\"evenodd\" fill-opacity=\"1\" /><path clip-path=\"url(#clip470)\" d=\"M155.834 1436.52 L163.473 1436.52 L163.473 1410.16 L155.163 1411.83 L155.163 1407.57 L163.427 1405.9 L168.102 1405.9 L168.102 1436.52 L175.741 1436.52 L175.741 1440.46 L155.834 1440.46 L155.834 1436.52 Z\" fill=\"#000000\" fill-rule=\"evenodd\" fill-opacity=\"1\" /><path clip-path=\"url(#clip470)\" d=\"M185.186 1434.58 L190.07 1434.58 L190.07 1440.46 L185.186 1440.46 L185.186 1434.58 Z\" fill=\"#000000\" fill-rule=\"evenodd\" fill-opacity=\"1\" /><path clip-path=\"url(#clip470)\" d=\"M200.301 1405.9 L218.658 1405.9 L218.658 1409.84 L204.584 1409.84 L204.584 1418.31 Q205.602 1417.96 206.621 1417.8 Q207.639 1417.61 208.658 1417.61 Q214.445 1417.61 217.824 1420.78 Q221.204 1423.96 221.204 1429.37 Q221.204 1434.95 217.732 1438.05 Q214.26 1441.13 207.94 1441.13 Q205.764 1441.13 203.496 1440.76 Q201.25 1440.39 198.843 1439.65 L198.843 1434.95 Q200.926 1436.08 203.149 1436.64 Q205.371 1437.2 207.848 1437.2 Q211.852 1437.2 214.19 1435.09 Q216.528 1432.98 216.528 1429.37 Q216.528 1425.76 214.19 1423.65 Q211.852 1421.55 207.848 1421.55 Q205.973 1421.55 204.098 1421.96 Q202.246 1422.38 200.301 1423.26 L200.301 1405.9 Z\" fill=\"#000000\" fill-rule=\"evenodd\" fill-opacity=\"1\" /><path clip-path=\"url(#clip470)\" d=\"M114.26 1194.31 L143.936 1194.31 L143.936 1198.24 L114.26 1198.24 L114.26 1194.31 Z\" fill=\"#000000\" fill-rule=\"evenodd\" fill-opacity=\"1\" /><path clip-path=\"url(#clip470)\" d=\"M154.839 1207.2 L162.477 1207.2 L162.477 1180.84 L154.167 1182.5 L154.167 1178.24 L162.431 1176.58 L167.107 1176.58 L167.107 1207.2 L174.746 1207.2 L174.746 1211.14 L154.839 1211.14 L154.839 1207.2 Z\" fill=\"#000000\" fill-rule=\"evenodd\" fill-opacity=\"1\" /><path clip-path=\"url(#clip470)\" d=\"M184.19 1205.26 L189.075 1205.26 L189.075 1211.14 L184.19 1211.14 L184.19 1205.26 Z\" fill=\"#000000\" fill-rule=\"evenodd\" fill-opacity=\"1\" /><path clip-path=\"url(#clip470)\" d=\"M209.26 1179.66 Q205.649 1179.66 203.82 1183.22 Q202.014 1186.76 202.014 1193.89 Q202.014 1201 203.82 1204.56 Q205.649 1208.1 209.26 1208.1 Q212.894 1208.1 214.699 1204.56 Q216.528 1201 216.528 1193.89 Q216.528 1186.76 214.699 1183.22 Q212.894 1179.66 209.26 1179.66 M209.26 1175.95 Q215.07 1175.95 218.125 1180.56 Q221.204 1185.14 221.204 1193.89 Q221.204 1202.62 218.125 1207.23 Q215.07 1211.81 209.26 1211.81 Q203.449 1211.81 200.371 1207.23 Q197.315 1202.62 197.315 1193.89 Q197.315 1185.14 200.371 1180.56 Q203.449 1175.95 209.26 1175.95 Z\" fill=\"#000000\" fill-rule=\"evenodd\" fill-opacity=\"1\" /><path clip-path=\"url(#clip470)\" d=\"M115.256 964.986 L144.931 964.986 L144.931 968.921 L115.256 968.921 L115.256 964.986 Z\" fill=\"#000000\" fill-rule=\"evenodd\" fill-opacity=\"1\" /><path clip-path=\"url(#clip470)\" d=\"M165.024 950.333 Q161.413 950.333 159.584 953.898 Q157.778 957.44 157.778 964.569 Q157.778 971.676 159.584 975.241 Q161.413 978.782 165.024 978.782 Q168.658 978.782 170.464 975.241 Q172.292 971.676 172.292 964.569 Q172.292 957.44 170.464 953.898 Q168.658 950.333 165.024 950.333 M165.024 946.63 Q170.834 946.63 173.889 951.236 Q176.968 955.819 176.968 964.569 Q176.968 973.296 173.889 977.903 Q170.834 982.486 165.024 982.486 Q159.214 982.486 156.135 977.903 Q153.079 973.296 153.079 964.569 Q153.079 955.819 156.135 951.236 Q159.214 946.63 165.024 946.63 Z\" fill=\"#000000\" fill-rule=\"evenodd\" fill-opacity=\"1\" /><path clip-path=\"url(#clip470)\" d=\"M185.186 975.935 L190.07 975.935 L190.07 981.815 L185.186 981.815 L185.186 975.935 Z\" fill=\"#000000\" fill-rule=\"evenodd\" fill-opacity=\"1\" /><path clip-path=\"url(#clip470)\" d=\"M200.301 947.255 L218.658 947.255 L218.658 951.19 L204.584 951.19 L204.584 959.662 Q205.602 959.315 206.621 959.153 Q207.639 958.967 208.658 958.967 Q214.445 958.967 217.824 962.139 Q221.204 965.31 221.204 970.727 Q221.204 976.305 217.732 979.407 Q214.26 982.486 207.94 982.486 Q205.764 982.486 203.496 982.116 Q201.25 981.745 198.843 981.004 L198.843 976.305 Q200.926 977.44 203.149 977.995 Q205.371 978.551 207.848 978.551 Q211.852 978.551 214.19 976.444 Q216.528 974.338 216.528 970.727 Q216.528 967.116 214.19 965.009 Q211.852 962.903 207.848 962.903 Q205.973 962.903 204.098 963.319 Q202.246 963.736 200.301 964.616 L200.301 947.255 Z\" fill=\"#000000\" fill-rule=\"evenodd\" fill-opacity=\"1\" /><path clip-path=\"url(#clip470)\" d=\"M164.028 721.011 Q160.417 721.011 158.589 724.575 Q156.783 728.117 156.783 735.247 Q156.783 742.353 158.589 745.918 Q160.417 749.46 164.028 749.46 Q167.663 749.46 169.468 745.918 Q171.297 742.353 171.297 735.247 Q171.297 728.117 169.468 724.575 Q167.663 721.011 164.028 721.011 M164.028 717.307 Q169.839 717.307 172.894 721.913 Q175.973 726.497 175.973 735.247 Q175.973 743.973 172.894 748.58 Q169.839 753.163 164.028 753.163 Q158.218 753.163 155.14 748.58 Q152.084 743.973 152.084 735.247 Q152.084 726.497 155.14 721.913 Q158.218 717.307 164.028 717.307 Z\" fill=\"#000000\" fill-rule=\"evenodd\" fill-opacity=\"1\" /><path clip-path=\"url(#clip470)\" d=\"M184.19 746.612 L189.075 746.612 L189.075 752.492 L184.19 752.492 L184.19 746.612 Z\" fill=\"#000000\" fill-rule=\"evenodd\" fill-opacity=\"1\" /><path clip-path=\"url(#clip470)\" d=\"M209.26 721.011 Q205.649 721.011 203.82 724.575 Q202.014 728.117 202.014 735.247 Q202.014 742.353 203.82 745.918 Q205.649 749.46 209.26 749.46 Q212.894 749.46 214.699 745.918 Q216.528 742.353 216.528 735.247 Q216.528 728.117 214.699 724.575 Q212.894 721.011 209.26 721.011 M209.26 717.307 Q215.07 717.307 218.125 721.913 Q221.204 726.497 221.204 735.247 Q221.204 743.973 218.125 748.58 Q215.07 753.163 209.26 753.163 Q203.449 753.163 200.371 748.58 Q197.315 743.973 197.315 735.247 Q197.315 726.497 200.371 721.913 Q203.449 717.307 209.26 717.307 Z\" fill=\"#000000\" fill-rule=\"evenodd\" fill-opacity=\"1\" /><path clip-path=\"url(#clip470)\" d=\"M165.024 491.688 Q161.413 491.688 159.584 495.253 Q157.778 498.794 157.778 505.924 Q157.778 513.031 159.584 516.595 Q161.413 520.137 165.024 520.137 Q168.658 520.137 170.464 516.595 Q172.292 513.031 172.292 505.924 Q172.292 498.794 170.464 495.253 Q168.658 491.688 165.024 491.688 M165.024 487.984 Q170.834 487.984 173.889 492.591 Q176.968 497.174 176.968 505.924 Q176.968 514.651 173.889 519.257 Q170.834 523.841 165.024 523.841 Q159.214 523.841 156.135 519.257 Q153.079 514.651 153.079 505.924 Q153.079 497.174 156.135 492.591 Q159.214 487.984 165.024 487.984 Z\" fill=\"#000000\" fill-rule=\"evenodd\" fill-opacity=\"1\" /><path clip-path=\"url(#clip470)\" d=\"M185.186 517.29 L190.07 517.29 L190.07 523.169 L185.186 523.169 L185.186 517.29 Z\" fill=\"#000000\" fill-rule=\"evenodd\" fill-opacity=\"1\" /><path clip-path=\"url(#clip470)\" d=\"M200.301 488.609 L218.658 488.609 L218.658 492.545 L204.584 492.545 L204.584 501.017 Q205.602 500.669 206.621 500.507 Q207.639 500.322 208.658 500.322 Q214.445 500.322 217.824 503.494 Q221.204 506.665 221.204 512.081 Q221.204 517.66 217.732 520.762 Q214.26 523.841 207.94 523.841 Q205.764 523.841 203.496 523.47 Q201.25 523.1 198.843 522.359 L198.843 517.66 Q200.926 518.794 203.149 519.35 Q205.371 519.905 207.848 519.905 Q211.852 519.905 214.19 517.799 Q216.528 515.693 216.528 512.081 Q216.528 508.47 214.19 506.364 Q211.852 504.257 207.848 504.257 Q205.973 504.257 204.098 504.674 Q202.246 505.091 200.301 505.97 L200.301 488.609 Z\" fill=\"#000000\" fill-rule=\"evenodd\" fill-opacity=\"1\" /><path clip-path=\"url(#clip470)\" d=\"M154.839 289.912 L162.477 289.912 L162.477 263.546 L154.167 265.213 L154.167 260.953 L162.431 259.287 L167.107 259.287 L167.107 289.912 L174.746 289.912 L174.746 293.847 L154.839 293.847 L154.839 289.912 Z\" fill=\"#000000\" fill-rule=\"evenodd\" fill-opacity=\"1\" /><path clip-path=\"url(#clip470)\" d=\"M184.19 287.967 L189.075 287.967 L189.075 293.847 L184.19 293.847 L184.19 287.967 Z\" fill=\"#000000\" fill-rule=\"evenodd\" fill-opacity=\"1\" /><path clip-path=\"url(#clip470)\" d=\"M209.26 262.365 Q205.649 262.365 203.82 265.93 Q202.014 269.472 202.014 276.601 Q202.014 283.708 203.82 287.273 Q205.649 290.814 209.26 290.814 Q212.894 290.814 214.699 287.273 Q216.528 283.708 216.528 276.601 Q216.528 269.472 214.699 265.93 Q212.894 262.365 209.26 262.365 M209.26 258.662 Q215.07 258.662 218.125 263.268 Q221.204 267.851 221.204 276.601 Q221.204 285.328 218.125 289.935 Q215.07 294.518 209.26 294.518 Q203.449 294.518 200.371 289.935 Q197.315 285.328 197.315 276.601 Q197.315 267.851 200.371 263.268 Q203.449 258.662 209.26 258.662 Z\" fill=\"#000000\" fill-rule=\"evenodd\" fill-opacity=\"1\" /><path clip-path=\"url(#clip470)\" d=\"M155.834 60.5889 L163.473 60.5889 L163.473 34.2233 L155.163 35.89 L155.163 31.6308 L163.427 29.9641 L168.102 29.9641 L168.102 60.5889 L175.741 60.5889 L175.741 64.5241 L155.834 64.5241 L155.834 60.5889 Z\" fill=\"#000000\" fill-rule=\"evenodd\" fill-opacity=\"1\" /><path clip-path=\"url(#clip470)\" d=\"M185.186 58.6445 L190.07 58.6445 L190.07 64.5241 L185.186 64.5241 L185.186 58.6445 Z\" fill=\"#000000\" fill-rule=\"evenodd\" fill-opacity=\"1\" /><path clip-path=\"url(#clip470)\" d=\"M200.301 29.9641 L218.658 29.9641 L218.658 33.8993 L204.584 33.8993 L204.584 42.3714 Q205.602 42.0242 206.621 41.8622 Q207.639 41.677 208.658 41.677 Q214.445 41.677 217.824 44.8483 Q221.204 48.0196 221.204 53.4362 Q221.204 59.0149 217.732 62.1167 Q214.26 65.1954 207.94 65.1954 Q205.764 65.1954 203.496 64.825 Q201.25 64.4547 198.843 63.7139 L198.843 59.0149 Q200.926 60.1491 203.149 60.7047 Q205.371 61.2602 207.848 61.2602 Q211.852 61.2602 214.19 59.1538 Q216.528 57.0473 216.528 53.4362 Q216.528 49.8251 214.19 47.7186 Q211.852 45.6122 207.848 45.6122 Q205.973 45.6122 204.098 46.0288 Q202.246 46.4455 200.301 47.3251 L200.301 29.9641 Z\" fill=\"#000000\" fill-rule=\"evenodd\" fill-opacity=\"1\" /><path clip-path=\"url(#clip470)\" d=\"M30.8561 720.775 Q31.307 720.775 32.3698 721.064 L57.5548 727.377 Q63.1586 728.762 67.0877 733.27 Q71.0168 737.747 71.0168 742.836 Q71.0168 745.895 69.3743 747.86 Q67.764 749.824 65.2842 749.824 Q63.0942 749.824 62.0314 748.665 Q61.0008 747.505 61.0008 746.121 Q61.0008 745.67 61.1296 745.187 Q61.2584 744.703 61.8059 744.188 Q62.3534 743.673 63.2874 743.673 Q64.8011 743.673 65.9927 744.993 Q66.5402 745.637 66.669 746.249 Q66.7978 746.829 66.7978 747.827 Q67.6996 747.441 68.3115 746.732 Q68.9234 746.024 69.1489 745.219 Q69.4065 744.414 69.4709 743.898 Q69.5675 743.351 69.5675 742.836 Q69.5675 738.713 65.413 735.557 Q64.157 734.623 62.9009 733.947 Q61.6771 733.238 60.1634 732.723 Q58.682 732.208 57.8768 731.982 Q57.0717 731.725 55.2359 731.274 Q58.2311 734.269 58.2311 737.94 Q58.2311 739.486 57.8124 740.871 Q57.3937 742.224 56.5242 743.415 Q55.6224 744.607 54.0443 745.315 Q52.4662 745.992 50.3728 745.992 Q48.1506 745.992 45.1233 745.122 Q42.0959 744.253 36.5243 742.159 Q33.4004 741.032 31.8867 741.032 Q31.146 741.032 30.6951 741.193 Q30.212 741.354 30.051 741.676 Q29.8577 741.998 29.8255 742.191 Q29.7933 742.352 29.7933 742.675 Q29.7933 744.575 31.7257 746.346 Q33.658 748.117 37.9736 749.341 Q38.7787 749.599 38.972 749.76 Q39.1652 749.921 39.1652 750.404 Q39.133 751.209 38.4889 751.209 Q38.2312 751.209 37.2329 750.919 Q36.2023 750.629 34.6886 749.953 Q33.1427 749.245 31.7579 748.278 Q30.3408 747.312 29.3424 745.798 Q28.344 744.253 28.344 742.481 Q28.344 740.066 29.9221 738.584 Q31.468 737.071 33.7546 737.071 Q34.6886 737.071 35.5259 737.328 Q36.3311 737.554 38.4889 738.391 Q47.1845 741.773 51.4356 741.773 Q52.4662 741.773 53.3358 741.612 Q54.1731 741.418 55.0105 741 Q55.8156 740.581 56.2987 739.744 Q56.7496 738.874 56.7496 737.683 Q56.7496 736.169 56.0411 734.752 Q55.3003 733.303 54.302 732.401 Q53.3036 731.467 52.4662 730.919 Q51.5967 730.34 51.1458 730.211 L39.294 727.248 L34.0123 725.927 Q31.146 725.316 30.4374 725.026 Q29.7611 724.639 29.4068 723.963 Q29.0526 723.287 29.0526 722.707 Q29.0526 721.902 29.5357 721.354 Q30.0187 720.775 30.8561 720.775 Z\" fill=\"#000000\" fill-rule=\"evenodd\" fill-opacity=\"1\" /><polyline clip-path=\"url(#clip472)\" style=\"stroke:#ff0000; stroke-linecap:round; stroke-linejoin:round; stroke-width:4; stroke-opacity:1; fill:none\" points=\"\n",
       "  257.204,1412.1 269.678,1411.58 282.151,1411.05 294.625,1410.5 307.098,1409.94 319.572,1409.36 332.045,1408.77 344.519,1408.17 356.992,1407.55 369.466,1406.91 \n",
       "  381.939,1406.26 394.413,1405.59 406.886,1404.9 419.36,1404.19 431.833,1403.46 444.307,1402.71 456.78,1401.94 469.254,1401.14 481.727,1400.33 494.201,1399.48 \n",
       "  506.674,1398.62 519.148,1397.72 531.622,1396.8 544.095,1395.84 556.569,1394.86 569.042,1393.84 581.516,1392.79 593.989,1391.7 606.463,1390.57 618.936,1389.4 \n",
       "  631.41,1388.19 643.883,1386.94 656.357,1385.64 668.83,1384.29 681.304,1382.88 693.777,1381.42 706.251,1379.91 718.724,1378.32 731.198,1376.68 743.671,1374.96 \n",
       "  756.145,1373.16 768.618,1371.29 781.092,1369.32 793.566,1367.27 806.039,1365.12 818.513,1362.86 830.986,1360.48 843.46,1357.99 855.933,1355.36 868.407,1352.59 \n",
       "  880.88,1349.66 893.354,1346.57 905.827,1343.29 918.301,1339.82 930.774,1336.13 943.248,1332.2 955.721,1328.01 968.195,1323.53 980.668,1318.75 993.142,1313.61 \n",
       "  1005.62,1308.08 1018.09,1302.12 1030.56,1295.69 1043.04,1288.71 1055.51,1281.13 1067.98,1272.87 1080.46,1263.83 1092.93,1253.92 1105.4,1243 1117.88,1230.93 \n",
       "  1130.35,1217.55 1142.82,1202.64 1155.3,1185.97 1167.77,1167.26 1180.24,1146.18 1192.72,1122.38 1205.19,1095.43 1217.67,1064.9 1230.14,1030.35 1242.61,991.411 \n",
       "  1255.09,947.862 1267.56,899.76 1280.03,847.57 1292.51,792.247 1304.98,735.212 1317.45,678.177 1329.93,622.854 1342.4,570.664 1354.87,522.562 1367.35,479.013 \n",
       "  1379.82,440.073 1392.29,405.524 1404.77,374.993 1417.24,348.045 1429.72,324.24 1442.19,303.168 1454.66,284.458 1467.14,267.788 1479.61,252.878 1492.08,239.49 \n",
       "  1504.56,227.423 1517.03,216.505 1529.5,206.59 1541.98,197.554 1554.45,189.291 1566.92,181.711 1579.4,174.736 1591.87,168.299 1604.34,162.343 1616.82,156.817 \n",
       "  1629.29,151.679 1641.77,146.889 1654.24,142.415 1666.71,138.226 1679.19,134.298 1691.66,130.607 1704.13,127.132 1716.61,123.856 1729.08,120.762 1741.55,117.836 \n",
       "  1754.03,115.065 1766.5,112.437 1778.97,109.941 1791.45,107.568 1803.92,105.308 1816.39,103.155 1828.87,101.101 1841.34,99.1385 1853.81,97.2626 1866.29,95.4676 \n",
       "  1878.76,93.7482 1891.24,92.0999 1903.71,90.5184 1916.18,88.9997 1928.66,87.5402 1941.13,86.1365 1953.6,84.7856 1966.08,83.4845 1978.55,82.2305 1991.02,81.0211 \n",
       "  2003.5,79.8541 2015.97,78.7272 2028.44,77.6384 2040.92,76.5859 2053.39,75.5678 2065.86,74.5826 2078.34,73.6285 2090.81,72.7043 2103.29,71.8085 2115.76,70.9399 \n",
       "  2128.23,70.0972 2140.71,69.2793 2153.18,68.4851 2165.65,67.7136 2178.13,66.9639 2190.6,66.235 2203.07,65.5261 2215.55,64.8364 2228.02,64.1651 2240.49,63.5116 \n",
       "  2252.97,62.875 2265.44,62.2548 2277.91,61.6503 2290.39,61.061 2302.86,60.4862 2315.34,59.9256 2327.81,59.3784 2340.28,58.8443 2352.76,58.3228 \n",
       "  \"/>\n",
       "<polyline clip-path=\"url(#clip472)\" style=\"stroke:#000000; stroke-linecap:round; stroke-linejoin:round; stroke-width:8; stroke-opacity:1; fill:none\" points=\"\n",
       "  257.204,735.212 269.678,735.212 282.151,735.212 294.625,735.212 307.098,735.212 319.572,735.212 332.045,735.212 344.519,735.212 356.992,735.212 369.466,735.212 \n",
       "  381.939,735.212 394.413,735.212 406.886,735.212 419.36,735.212 431.833,735.212 444.307,735.212 456.78,735.212 469.254,735.212 481.727,735.212 494.201,735.212 \n",
       "  506.674,735.212 519.148,735.212 531.622,735.212 544.095,735.212 556.569,735.212 569.042,735.212 581.516,735.212 593.989,735.212 606.463,735.212 618.936,735.212 \n",
       "  631.41,735.212 643.883,735.212 656.357,735.212 668.83,735.212 681.304,735.212 693.777,735.212 706.251,735.212 718.724,735.212 731.198,735.212 743.671,735.212 \n",
       "  756.145,735.212 768.618,735.212 781.092,735.212 793.566,735.212 806.039,735.212 818.513,735.212 830.986,735.212 843.46,735.212 855.933,735.212 868.407,735.212 \n",
       "  880.88,735.212 893.354,735.212 905.827,735.212 918.301,735.212 930.774,735.212 943.248,735.212 955.721,735.212 968.195,735.212 980.668,735.212 993.142,735.212 \n",
       "  1005.62,735.212 1018.09,735.212 1030.56,735.212 1043.04,735.212 1055.51,735.212 1067.98,735.212 1080.46,735.212 1092.93,735.212 1105.4,735.212 1117.88,735.212 \n",
       "  1130.35,735.212 1142.82,735.212 1155.3,735.212 1167.77,735.212 1180.24,735.212 1192.72,735.212 1205.19,735.212 1217.67,735.212 1230.14,735.212 1242.61,735.212 \n",
       "  1255.09,735.212 1267.56,735.212 1280.03,735.212 1292.51,735.212 1304.98,735.212 1317.45,735.212 1329.93,735.212 1342.4,735.212 1354.87,735.212 1367.35,735.212 \n",
       "  1379.82,735.212 1392.29,735.212 1404.77,735.212 1417.24,735.212 1429.72,735.212 1442.19,735.212 1454.66,735.212 1467.14,735.212 1479.61,735.212 1492.08,735.212 \n",
       "  1504.56,735.212 1517.03,735.212 1529.5,735.212 1541.98,735.212 1554.45,735.212 1566.92,735.212 1579.4,735.212 1591.87,735.212 1604.34,735.212 1616.82,735.212 \n",
       "  1629.29,735.212 1641.77,735.212 1654.24,735.212 1666.71,735.212 1679.19,735.212 1691.66,735.212 1704.13,735.212 1716.61,735.212 1729.08,735.212 1741.55,735.212 \n",
       "  1754.03,735.212 1766.5,735.212 1778.97,735.212 1791.45,735.212 1803.92,735.212 1816.39,735.212 1828.87,735.212 1841.34,735.212 1853.81,735.212 1866.29,735.212 \n",
       "  1878.76,735.212 1891.24,735.212 1903.71,735.212 1916.18,735.212 1928.66,735.212 1941.13,735.212 1953.6,735.212 1966.08,735.212 1978.55,735.212 1991.02,735.212 \n",
       "  2003.5,735.212 2015.97,735.212 2028.44,735.212 2040.92,735.212 2053.39,735.212 2065.86,735.212 2078.34,735.212 2090.81,735.212 2103.29,735.212 2115.76,735.212 \n",
       "  2128.23,735.212 2140.71,735.212 2153.18,735.212 2165.65,735.212 2178.13,735.212 2190.6,735.212 2203.07,735.212 2215.55,735.212 2228.02,735.212 2240.49,735.212 \n",
       "  2252.97,735.212 2265.44,735.212 2277.91,735.212 2290.39,735.212 2302.86,735.212 2315.34,735.212 2327.81,735.212 2340.28,735.212 2352.76,735.212 \n",
       "  \"/>\n",
       "<polyline clip-path=\"url(#clip472)\" style=\"stroke:#0000ff; stroke-linecap:round; stroke-linejoin:round; stroke-width:8; stroke-opacity:1; fill:none\" points=\"\n",
       "  1205.19,821.208 1604.34,821.208 \n",
       "  \"/>\n",
       "<path clip-path=\"url(#clip472)\" d=\"\n",
       "M1048.44 735.212 L1404.77 374.993 L1447.6 735.212 L1048.44 735.212  Z\n",
       "  \" fill=\"#808080\" fill-rule=\"evenodd\" fill-opacity=\"0.2\"/>\n",
       "<polyline clip-path=\"url(#clip472)\" style=\"stroke:#000000; stroke-linecap:round; stroke-linejoin:round; stroke-width:4; stroke-opacity:0.2; fill:none\" points=\"\n",
       "  1048.44,735.212 1404.77,374.993 1447.6,735.212 1048.44,735.212 \n",
       "  \"/>\n",
       "<polyline clip-path=\"url(#clip472)\" style=\"stroke:#008000; stroke-linecap:round; stroke-linejoin:round; stroke-width:8; stroke-opacity:1; fill:none\" points=\"\n",
       "  1048.44,763.877 1447.6,763.877 \n",
       "  \"/>\n",
       "<polyline clip-path=\"url(#clip472)\" style=\"stroke:#ff0000; stroke-linecap:round; stroke-linejoin:round; stroke-width:8; stroke-opacity:1; fill:none\" points=\"\n",
       "  1205.19,792.543 1447.6,792.543 \n",
       "  \"/>\n",
       "<path clip-path=\"url(#clip472)\" d=\"\n",
       "M1205.19 735.212 L1404.77 374.993 L1447.6 735.212 L1205.19 735.212  Z\n",
       "  \" fill=\"#808080\" fill-rule=\"evenodd\" fill-opacity=\"0.4\"/>\n",
       "<polyline clip-path=\"url(#clip472)\" style=\"stroke:#000000; stroke-linecap:round; stroke-linejoin:round; stroke-width:4; stroke-opacity:0.4; fill:none\" points=\"\n",
       "  1205.19,735.212 1404.77,374.993 1447.6,735.212 1205.19,735.212 \n",
       "  \"/>\n",
       "<polyline clip-path=\"url(#clip472)\" style=\"stroke:#808080; stroke-linecap:round; stroke-linejoin:round; stroke-width:4; stroke-opacity:0.8; fill:none\" stroke-dasharray=\"2, 4\" points=\"\n",
       "  1404.77,821.208 1404.77,374.993 \n",
       "  \"/>\n",
       "<circle clip-path=\"url(#clip472)\" cx=\"1404.77\" cy=\"821.208\" r=\"14.4\" fill=\"#808080\" fill-rule=\"evenodd\" fill-opacity=\"0.8\" stroke=\"#000000\" stroke-opacity=\"0.8\" stroke-width=\"3.2\"/>\n",
       "<circle clip-path=\"url(#clip472)\" cx=\"1404.77\" cy=\"374.993\" r=\"14.4\" fill=\"#808080\" fill-rule=\"evenodd\" fill-opacity=\"0.8\" stroke=\"#000000\" stroke-opacity=\"0.8\" stroke-width=\"3.2\"/>\n",
       "<path clip-path=\"url(#clip470)\" d=\"\n",
       "M327.056 352.309 L803.424 352.309 L803.424 93.1086 L327.056 93.1086  Z\n",
       "  \" fill=\"#ffffff\" fill-rule=\"evenodd\" fill-opacity=\"1\"/>\n",
       "<polyline clip-path=\"url(#clip470)\" style=\"stroke:#000000; stroke-linecap:round; stroke-linejoin:round; stroke-width:4; stroke-opacity:1; fill:none\" points=\"\n",
       "  327.056,352.309 803.424,352.309 803.424,93.1086 327.056,93.1086 327.056,352.309 \n",
       "  \"/>\n",
       "<polyline clip-path=\"url(#clip470)\" style=\"stroke:#ff0000; stroke-linecap:round; stroke-linejoin:round; stroke-width:4; stroke-opacity:1; fill:none\" points=\"\n",
       "  350.34,144.949 490.043,144.949 \n",
       "  \"/>\n",
       "<path clip-path=\"url(#clip470)\" d=\"M535.344 137.875 Q535.344 137.898 535.204 138.741 L529.863 160.032 Q529.582 161.157 528.786 162.281 Q528.013 163.429 526.772 164.412 Q525.554 165.42 523.68 166.029 Q521.829 166.661 519.698 166.661 Q516.302 166.661 514.803 165.935 Q513.327 165.232 513.327 163.733 Q513.327 162.422 514.147 161.672 Q514.967 160.946 515.904 160.946 Q516.794 160.946 517.262 161.461 Q517.73 161.977 517.73 162.632 Q517.73 163.358 517.239 164.085 Q516.747 164.834 515.763 165.115 Q517.332 165.607 519.604 165.607 Q524.406 165.607 526.467 160.524 Q526.514 160.454 526.514 160.431 L528.107 154.083 L528.036 154.036 Q527.638 154.505 527.006 155.044 Q526.397 155.559 525.085 156.191 Q523.773 156.824 522.485 156.824 Q519.792 156.824 517.941 154.762 Q516.114 152.678 516.114 149.235 Q516.114 146.729 517.121 144.222 Q518.152 141.693 519.745 139.842 Q521.361 137.969 523.422 136.797 Q525.507 135.626 527.521 135.626 Q528.926 135.626 530.121 136.47 Q531.315 137.289 531.971 138.648 Q532.088 137.524 532.721 137.055 Q533.377 136.587 533.939 136.587 Q534.571 136.587 534.946 136.938 Q535.344 137.266 535.344 137.875 M531.409 140.803 Q531.409 140.662 531.315 140.287 Q531.222 139.889 530.941 139.257 Q530.683 138.624 530.285 138.062 Q529.887 137.5 529.161 137.102 Q528.458 136.68 527.568 136.68 Q526.116 136.68 524.663 137.898 Q523.211 139.093 522.204 140.943 Q521.267 142.723 520.377 146.166 Q519.511 149.61 519.511 151.366 Q519.511 153.099 520.26 154.435 Q521.01 155.77 522.626 155.77 Q524.5 155.77 526.514 154.036 Q528.598 152.233 528.95 150.687 L531.269 141.529 Q531.409 140.967 531.409 140.803 Z\" fill=\"#000000\" fill-rule=\"evenodd\" fill-opacity=\"1\" /><path clip-path=\"url(#clip470)\" d=\"M541.916 144.831 Q541.916 136.727 544.937 130.192 Q546.225 127.452 548.029 125.156 Q549.833 122.861 551.027 121.854 Q552.222 120.847 552.55 120.847 Q553.018 120.847 553.041 121.315 Q553.041 121.549 552.409 122.135 Q544.68 130.005 544.703 144.831 Q544.703 159.705 552.222 167.27 Q553.041 168.09 553.041 168.347 Q553.041 168.816 552.55 168.816 Q552.222 168.816 551.074 167.856 Q549.926 166.895 548.146 164.694 Q546.366 162.492 545.078 159.798 Q541.916 153.263 541.916 144.831 Z\" fill=\"#000000\" fill-rule=\"evenodd\" fill-opacity=\"1\" /><path clip-path=\"url(#clip470)\" d=\"M580.574 138.788 Q580.574 140.1 579.754 140.85 Q578.935 141.576 577.998 141.576 Q577.108 141.576 576.639 141.06 Q576.171 140.545 576.171 139.889 Q576.171 138.999 576.827 138.226 Q577.482 137.453 578.466 137.289 Q577.506 136.68 576.077 136.68 Q575.14 136.68 574.32 137.172 Q573.524 137.664 573.032 138.296 Q572.564 138.929 572.142 139.842 Q571.744 140.732 571.58 141.271 Q571.439 141.786 571.322 142.349 L569.683 148.907 Q568.886 152.022 568.886 153.123 Q568.886 154.481 569.542 155.395 Q570.198 156.285 571.51 156.285 Q572.025 156.285 572.611 156.144 Q573.196 155.98 573.946 155.559 Q574.719 155.114 575.398 154.458 Q576.1 153.779 576.78 152.631 Q577.459 151.483 577.904 150.008 Q578.045 149.492 578.513 149.492 Q579.099 149.492 579.099 149.961 Q579.099 150.359 578.771 151.202 Q578.466 152.022 577.787 153.099 Q577.131 154.153 576.264 155.114 Q575.398 156.051 574.11 156.707 Q572.821 157.362 571.416 157.362 Q569.402 157.362 568.067 156.285 Q566.732 155.207 566.24 153.708 Q566.123 153.919 565.959 154.2 Q565.795 154.481 565.303 155.114 Q564.834 155.723 564.296 156.191 Q563.757 156.636 562.914 156.988 Q562.094 157.362 561.204 157.362 Q560.08 157.362 559.072 157.034 Q558.089 156.707 557.386 155.957 Q556.683 155.207 556.683 154.177 Q556.683 153.029 557.456 152.233 Q558.253 151.413 559.33 151.413 Q560.009 151.413 560.548 151.811 Q561.11 152.209 561.11 153.076 Q561.11 154.036 560.454 154.762 Q559.798 155.489 558.862 155.676 Q559.822 156.285 561.251 156.285 Q562.797 156.285 564.015 154.926 Q565.232 153.568 565.818 151.296 Q567.27 145.838 567.832 143.403 Q568.395 140.943 568.395 139.889 Q568.395 138.905 568.137 138.226 Q567.879 137.547 567.434 137.242 Q567.013 136.915 566.614 136.797 Q566.24 136.68 565.818 136.68 Q565.115 136.68 564.319 136.961 Q563.546 137.242 562.609 137.898 Q561.696 138.531 560.829 139.842 Q559.962 141.154 559.377 142.958 Q559.26 143.496 558.744 143.496 Q558.182 143.473 558.182 143.004 Q558.182 142.606 558.487 141.786 Q558.815 140.943 559.471 139.889 Q560.15 138.835 561.016 137.898 Q561.906 136.938 563.195 136.282 Q564.506 135.626 565.912 135.626 Q566.544 135.626 567.153 135.767 Q567.786 135.884 568.535 136.235 Q569.308 136.587 569.987 137.36 Q570.666 138.133 571.088 139.257 Q571.369 138.718 571.744 138.203 Q572.142 137.687 572.751 137.055 Q573.383 136.399 574.25 136.024 Q575.14 135.626 576.124 135.626 Q577.084 135.626 578.021 135.884 Q578.958 136.118 579.754 136.891 Q580.574 137.641 580.574 138.788 Z\" fill=\"#000000\" fill-rule=\"evenodd\" fill-opacity=\"1\" /><path clip-path=\"url(#clip470)\" d=\"M585.187 168.347 Q585.187 168.113 585.796 167.528 Q593.525 159.658 593.525 144.831 Q593.525 129.958 586.1 122.439 Q585.187 121.573 585.187 121.315 Q585.187 120.847 585.655 120.847 Q585.983 120.847 587.131 121.807 Q588.302 122.767 590.059 124.969 Q591.839 127.171 593.15 129.864 Q596.312 136.399 596.312 144.831 Q596.312 152.935 593.291 159.47 Q592.003 162.211 590.199 164.506 Q588.396 166.802 587.201 167.809 Q586.006 168.816 585.655 168.816 Q585.187 168.816 585.187 168.347 Z\" fill=\"#000000\" fill-rule=\"evenodd\" fill-opacity=\"1\" /><polyline clip-path=\"url(#clip470)\" style=\"stroke:#0000ff; stroke-linecap:round; stroke-linejoin:round; stroke-width:8; stroke-opacity:1; fill:none\" points=\"\n",
       "  350.34,196.789 490.043,196.789 \n",
       "  \"/>\n",
       "<path clip-path=\"url(#clip470)\" d=\"M513.327 219.317 L513.327 171.348 L520.565 171.348 L520.565 172.449 L516.536 172.449 L516.536 218.216 L520.565 218.216 L520.565 219.317 L513.327 219.317 Z\" fill=\"#000000\" fill-rule=\"evenodd\" fill-opacity=\"1\" /><path clip-path=\"url(#clip470)\" d=\"M550.415 189.289 Q550.415 190.601 549.595 191.35 Q548.775 192.077 547.838 192.077 Q546.948 192.077 546.48 191.561 Q546.012 191.046 546.012 190.39 Q546.012 189.5 546.667 188.727 Q547.323 187.954 548.307 187.79 Q547.347 187.181 545.918 187.181 Q544.981 187.181 544.161 187.673 Q543.365 188.165 542.873 188.797 Q542.404 189.43 541.983 190.343 Q541.585 191.233 541.421 191.772 Q541.28 192.287 541.163 192.849 L539.524 199.408 Q538.727 202.523 538.727 203.624 Q538.727 204.982 539.383 205.896 Q540.039 206.786 541.35 206.786 Q541.866 206.786 542.451 206.645 Q543.037 206.481 543.786 206.06 Q544.559 205.615 545.239 204.959 Q545.941 204.28 546.621 203.132 Q547.3 201.984 547.745 200.509 Q547.885 199.993 548.354 199.993 Q548.939 199.993 548.939 200.462 Q548.939 200.86 548.611 201.703 Q548.307 202.523 547.628 203.6 Q546.972 204.654 546.105 205.615 Q545.239 206.552 543.95 207.207 Q542.662 207.863 541.257 207.863 Q539.242 207.863 537.907 206.786 Q536.572 205.708 536.08 204.209 Q535.963 204.42 535.799 204.701 Q535.635 204.982 535.144 205.615 Q534.675 206.224 534.136 206.692 Q533.598 207.137 532.754 207.489 Q531.935 207.863 531.045 207.863 Q529.92 207.863 528.913 207.535 Q527.929 207.207 527.227 206.458 Q526.524 205.708 526.524 204.678 Q526.524 203.53 527.297 202.734 Q528.093 201.914 529.171 201.914 Q529.85 201.914 530.389 202.312 Q530.951 202.71 530.951 203.577 Q530.951 204.537 530.295 205.263 Q529.639 205.989 528.702 206.177 Q529.663 206.786 531.091 206.786 Q532.637 206.786 533.855 205.427 Q535.073 204.069 535.659 201.797 Q537.111 196.339 537.673 193.903 Q538.235 191.444 538.235 190.39 Q538.235 189.406 537.978 188.727 Q537.72 188.048 537.275 187.743 Q536.853 187.415 536.455 187.298 Q536.08 187.181 535.659 187.181 Q534.956 187.181 534.16 187.462 Q533.387 187.743 532.45 188.399 Q531.536 189.032 530.67 190.343 Q529.803 191.655 529.218 193.458 Q529.101 193.997 528.585 193.997 Q528.023 193.974 528.023 193.505 Q528.023 193.107 528.328 192.287 Q528.655 191.444 529.311 190.39 Q529.991 189.336 530.857 188.399 Q531.747 187.439 533.035 186.783 Q534.347 186.127 535.753 186.127 Q536.385 186.127 536.994 186.268 Q537.626 186.385 538.376 186.736 Q539.149 187.088 539.828 187.861 Q540.507 188.633 540.929 189.758 Q541.21 189.219 541.585 188.704 Q541.983 188.188 542.592 187.556 Q543.224 186.9 544.091 186.525 Q544.981 186.127 545.965 186.127 Q546.925 186.127 547.862 186.385 Q548.799 186.619 549.595 187.392 Q550.415 188.142 550.415 189.289 Z\" fill=\"#000000\" fill-rule=\"evenodd\" fill-opacity=\"1\" /><path clip-path=\"url(#clip470)\" d=\"M555.3 210.406 Q555.3 205.471 556.546 202.782 Q558.284 198.781 562.383 198.781 Q563.252 198.781 564.154 199.027 Q565.072 199.257 566.22 200.158 Q567.384 201.06 568.089 202.536 Q569.433 205.389 569.433 210.406 Q569.433 215.308 568.187 217.98 Q566.367 221.883 562.35 221.883 Q560.842 221.883 559.301 221.112 Q557.776 220.341 556.809 218.489 Q555.3 215.718 555.3 210.406 M558.088 209.996 Q558.088 215.062 558.448 217.079 Q558.858 219.259 559.973 220.21 Q561.104 221.145 562.35 221.145 Q563.695 221.145 564.81 220.145 Q565.941 219.128 566.285 216.948 Q566.663 214.8 566.646 209.996 Q566.646 205.323 566.318 203.454 Q565.876 201.273 564.695 200.404 Q563.531 199.519 562.35 199.519 Q561.908 199.519 561.432 199.65 Q560.973 199.781 560.301 200.158 Q559.629 200.535 559.104 201.47 Q558.596 202.405 558.35 203.815 Q558.088 205.635 558.088 209.996 Z\" fill=\"#000000\" fill-rule=\"evenodd\" fill-opacity=\"1\" /><path clip-path=\"url(#clip470)\" d=\"M574.409 218.216 L578.438 218.216 L578.438 172.449 L574.409 172.449 L574.409 171.348 L581.647 171.348 L581.647 219.317 L574.409 219.317 L574.409 218.216 Z\" fill=\"#000000\" fill-rule=\"evenodd\" fill-opacity=\"1\" /><polyline clip-path=\"url(#clip470)\" style=\"stroke:#008000; stroke-linecap:round; stroke-linejoin:round; stroke-width:8; stroke-opacity:1; fill:none\" points=\"\n",
       "  350.34,248.629 490.043,248.629 \n",
       "  \"/>\n",
       "<path clip-path=\"url(#clip470)\" d=\"M554.152 226.935 Q554.152 227.24 554.082 227.451 Q554.012 227.638 553.848 227.732 Q553.684 227.825 553.59 227.849 Q553.497 227.872 553.286 227.896 Q552.279 227.989 551.576 228.153 Q550.897 228.317 549.21 229.16 Q547.547 230.004 545.463 231.526 L537.077 238.014 L535.672 239.115 Q535.672 239.185 535.719 239.326 Q535.766 239.443 535.813 239.607 Q535.883 239.747 535.906 239.794 L542.722 255.511 Q543.261 256.775 543.917 257.22 Q544.573 257.666 546.048 257.689 Q546.282 257.689 546.376 257.712 Q546.493 257.712 546.657 257.759 Q546.845 257.783 546.915 257.9 Q547.009 258.017 547.009 258.204 Q547.009 259.165 546.142 259.165 Q545.603 259.165 543.776 259.094 Q541.949 259.024 541.434 259.024 Q540.474 259.024 538.506 259.094 Q536.539 259.165 535.578 259.165 Q534.899 259.165 534.899 258.626 Q534.899 258.181 535.063 257.97 Q535.25 257.736 535.414 257.712 Q535.578 257.689 535.953 257.689 Q536.234 257.689 536.539 257.666 Q536.867 257.619 537.335 257.502 Q537.827 257.361 538.131 257.033 Q538.459 256.682 538.459 256.19 Q538.459 255.792 537.874 254.503 L532.323 241.598 L525.179 247.172 L523.258 254.714 Q523.211 254.995 523.094 255.487 Q522.977 255.979 522.883 256.33 Q522.813 256.682 522.813 256.822 Q522.813 257.127 523.001 257.314 Q523.211 257.502 523.727 257.595 Q524.242 257.666 524.64 257.689 Q525.062 257.689 525.928 257.689 Q527.006 257.689 527.193 257.876 Q527.287 257.993 527.287 258.204 Q527.287 258.532 527.193 258.766 Q527.099 258.977 526.912 259.047 Q526.748 259.118 526.631 259.141 Q526.514 259.165 526.326 259.165 Q525.835 259.165 524.781 259.118 Q523.75 259.071 523.211 259.071 L520.143 259.024 L514.053 259.165 Q513.327 259.165 513.327 258.579 Q513.327 258.134 513.514 257.947 Q513.702 257.736 513.913 257.712 Q514.123 257.689 514.662 257.689 Q515.833 257.689 516.536 257.619 Q517.239 257.548 517.684 257.455 Q518.152 257.338 518.386 257.01 Q518.644 256.682 518.761 256.401 Q518.878 256.096 519.042 255.417 L525.46 229.652 Q525.647 228.879 525.647 228.762 Q525.647 228.364 525.413 228.224 Q525.202 228.06 524.593 227.989 Q523.422 227.896 522.532 227.896 Q521.946 227.896 521.712 227.872 Q521.501 227.849 521.314 227.732 Q521.15 227.591 521.15 227.31 Q521.15 226.397 522.11 226.397 L528.294 226.537 L534.431 226.397 Q535.11 226.397 535.11 226.935 Q535.11 227.615 534.782 227.755 Q534.478 227.896 533.47 227.896 Q531.714 227.896 530.917 228.13 Q530.144 228.341 529.91 228.715 Q529.699 229.067 529.442 230.097 L525.6 245.486 L544.315 231.104 Q546.048 229.652 546.048 228.903 Q546.048 228.411 545.697 228.2 Q545.369 227.966 544.549 227.896 Q543.964 227.802 543.964 227.357 Q543.964 226.912 544.128 226.701 Q544.315 226.467 544.455 226.443 Q544.619 226.397 544.877 226.397 Q545.744 226.397 547.547 226.467 Q549.351 226.537 550.217 226.537 Q550.803 226.537 551.951 226.467 Q553.098 226.397 553.614 226.397 Q553.871 226.397 554.012 226.584 Q554.152 226.748 554.152 226.935 Z\" fill=\"#000000\" fill-rule=\"evenodd\" fill-opacity=\"1\" /><path clip-path=\"url(#clip470)\" d=\"M560.357 247.172 Q560.357 239.068 563.379 232.533 Q564.667 229.793 566.47 227.497 Q568.274 225.202 569.468 224.195 Q570.663 223.188 570.991 223.188 Q571.459 223.188 571.483 223.656 Q571.483 223.89 570.85 224.476 Q563.121 232.346 563.144 247.172 Q563.144 262.046 570.663 269.611 Q571.483 270.431 571.483 270.688 Q571.483 271.157 570.991 271.157 Q570.663 271.157 569.515 270.197 Q568.368 269.236 566.587 267.034 Q564.807 264.833 563.519 262.139 Q560.357 255.604 560.357 247.172 Z\" fill=\"#000000\" fill-rule=\"evenodd\" fill-opacity=\"1\" /><path clip-path=\"url(#clip470)\" d=\"M579.733 271.157 L579.733 223.188 L586.97 223.188 L586.97 224.289 L582.941 224.289 L582.941 270.056 L586.97 270.056 L586.97 271.157 L579.733 271.157 Z\" fill=\"#000000\" fill-rule=\"evenodd\" fill-opacity=\"1\" /><path clip-path=\"url(#clip470)\" d=\"M616.821 241.129 Q616.821 242.441 616.001 243.19 Q615.181 243.917 614.244 243.917 Q613.354 243.917 612.886 243.401 Q612.417 242.886 612.417 242.23 Q612.417 241.34 613.073 240.567 Q613.729 239.794 614.713 239.63 Q613.752 239.021 612.323 239.021 Q611.387 239.021 610.567 239.513 Q609.77 240.005 609.279 240.637 Q608.81 241.27 608.388 242.183 Q607.99 243.073 607.826 243.612 Q607.686 244.127 607.569 244.689 L605.929 251.248 Q605.133 254.363 605.133 255.464 Q605.133 256.822 605.789 257.736 Q606.444 258.626 607.756 258.626 Q608.271 258.626 608.857 258.485 Q609.442 258.321 610.192 257.9 Q610.965 257.455 611.644 256.799 Q612.347 256.12 613.026 254.972 Q613.705 253.824 614.15 252.349 Q614.291 251.833 614.759 251.833 Q615.345 251.833 615.345 252.302 Q615.345 252.7 615.017 253.543 Q614.713 254.363 614.033 255.44 Q613.377 256.494 612.511 257.455 Q611.644 258.392 610.356 259.047 Q609.068 259.703 607.662 259.703 Q605.648 259.703 604.313 258.626 Q602.978 257.548 602.486 256.049 Q602.369 256.26 602.205 256.541 Q602.041 256.822 601.549 257.455 Q601.081 258.064 600.542 258.532 Q600.003 258.977 599.16 259.329 Q598.34 259.703 597.45 259.703 Q596.326 259.703 595.319 259.375 Q594.335 259.047 593.632 258.298 Q592.93 257.548 592.93 256.518 Q592.93 255.37 593.703 254.574 Q594.499 253.754 595.576 253.754 Q596.256 253.754 596.794 254.152 Q597.356 254.55 597.356 255.417 Q597.356 256.377 596.701 257.103 Q596.045 257.829 595.108 258.017 Q596.068 258.626 597.497 258.626 Q599.043 258.626 600.261 257.267 Q601.479 255.909 602.064 253.637 Q603.517 248.179 604.079 245.743 Q604.641 243.284 604.641 242.23 Q604.641 241.246 604.383 240.567 Q604.126 239.888 603.681 239.583 Q603.259 239.255 602.861 239.138 Q602.486 239.021 602.064 239.021 Q601.362 239.021 600.565 239.302 Q599.792 239.583 598.856 240.239 Q597.942 240.872 597.075 242.183 Q596.209 243.495 595.623 245.298 Q595.506 245.837 594.991 245.837 Q594.429 245.814 594.429 245.345 Q594.429 244.947 594.733 244.127 Q595.061 243.284 595.717 242.23 Q596.396 241.176 597.263 240.239 Q598.153 239.279 599.441 238.623 Q600.753 237.967 602.158 237.967 Q602.79 237.967 603.399 238.108 Q604.032 238.225 604.781 238.576 Q605.554 238.928 606.234 239.701 Q606.913 240.473 607.334 241.598 Q607.616 241.059 607.99 240.544 Q608.388 240.028 608.997 239.396 Q609.63 238.74 610.496 238.365 Q611.387 237.967 612.37 237.967 Q613.331 237.967 614.267 238.225 Q615.204 238.459 616.001 239.232 Q616.821 239.982 616.821 241.129 Z\" fill=\"#000000\" fill-rule=\"evenodd\" fill-opacity=\"1\" /><path clip-path=\"url(#clip470)\" d=\"M621.706 262.246 Q621.706 257.311 622.952 254.622 Q624.69 250.621 628.789 250.621 Q629.658 250.621 630.56 250.867 Q631.478 251.097 632.625 251.998 Q633.79 252.9 634.495 254.376 Q635.839 257.229 635.839 262.246 Q635.839 267.148 634.593 269.82 Q632.773 273.723 628.756 273.723 Q627.248 273.723 625.706 272.952 Q624.182 272.181 623.214 270.329 Q621.706 267.558 621.706 262.246 M624.493 261.836 Q624.493 266.902 624.854 268.919 Q625.264 271.099 626.379 272.05 Q627.51 272.985 628.756 272.985 Q630.1 272.985 631.215 271.985 Q632.347 270.968 632.691 268.788 Q633.068 266.64 633.052 261.836 Q633.052 257.163 632.724 255.294 Q632.281 253.113 631.101 252.244 Q629.937 251.359 628.756 251.359 Q628.313 251.359 627.838 251.49 Q627.379 251.621 626.707 251.998 Q626.034 252.375 625.51 253.31 Q625.001 254.245 624.755 255.655 Q624.493 257.475 624.493 261.836 Z\" fill=\"#000000\" fill-rule=\"evenodd\" fill-opacity=\"1\" /><path clip-path=\"url(#clip470)\" d=\"M640.815 270.056 L644.844 270.056 L644.844 224.289 L640.815 224.289 L640.815 223.188 L648.052 223.188 L648.052 271.157 L640.815 271.157 L640.815 270.056 Z\" fill=\"#000000\" fill-rule=\"evenodd\" fill-opacity=\"1\" /><path clip-path=\"url(#clip470)\" d=\"M655.548 270.688 Q655.548 270.454 656.157 269.869 Q663.886 261.999 663.886 247.172 Q663.886 232.299 656.461 224.78 Q655.548 223.914 655.548 223.656 Q655.548 223.188 656.016 223.188 Q656.344 223.188 657.492 224.148 Q658.663 225.108 660.42 227.31 Q662.2 229.512 663.512 232.205 Q666.674 238.74 666.674 247.172 Q666.674 255.276 663.652 261.811 Q662.364 264.552 660.56 266.847 Q658.757 269.143 657.562 270.15 Q656.368 271.157 656.016 271.157 Q655.548 271.157 655.548 270.688 Z\" fill=\"#000000\" fill-rule=\"evenodd\" fill-opacity=\"1\" /><polyline clip-path=\"url(#clip470)\" style=\"stroke:#ff0000; stroke-linecap:round; stroke-linejoin:round; stroke-width:8; stroke-opacity:1; fill:none\" points=\"\n",
       "  350.34,300.469 490.043,300.469 \n",
       "  \"/>\n",
       "<path clip-path=\"url(#clip470)\" d=\"M554.152 278.775 Q554.152 279.08 554.082 279.291 Q554.012 279.478 553.848 279.572 Q553.684 279.665 553.59 279.689 Q553.497 279.712 553.286 279.736 Q552.279 279.829 551.576 279.993 Q550.897 280.157 549.21 281 Q547.547 281.844 545.463 283.366 L537.077 289.854 L535.672 290.955 Q535.672 291.025 535.719 291.166 Q535.766 291.283 535.813 291.447 Q535.883 291.587 535.906 291.634 L542.722 307.351 Q543.261 308.615 543.917 309.06 Q544.573 309.506 546.048 309.529 Q546.282 309.529 546.376 309.552 Q546.493 309.552 546.657 309.599 Q546.845 309.623 546.915 309.74 Q547.009 309.857 547.009 310.044 Q547.009 311.005 546.142 311.005 Q545.603 311.005 543.776 310.934 Q541.949 310.864 541.434 310.864 Q540.474 310.864 538.506 310.934 Q536.539 311.005 535.578 311.005 Q534.899 311.005 534.899 310.466 Q534.899 310.021 535.063 309.81 Q535.25 309.576 535.414 309.552 Q535.578 309.529 535.953 309.529 Q536.234 309.529 536.539 309.506 Q536.867 309.459 537.335 309.342 Q537.827 309.201 538.131 308.873 Q538.459 308.522 538.459 308.03 Q538.459 307.632 537.874 306.343 L532.323 293.438 L525.179 299.012 L523.258 306.554 Q523.211 306.835 523.094 307.327 Q522.977 307.819 522.883 308.17 Q522.813 308.522 522.813 308.662 Q522.813 308.967 523.001 309.154 Q523.211 309.342 523.727 309.435 Q524.242 309.506 524.64 309.529 Q525.062 309.529 525.928 309.529 Q527.006 309.529 527.193 309.716 Q527.287 309.833 527.287 310.044 Q527.287 310.372 527.193 310.606 Q527.099 310.817 526.912 310.887 Q526.748 310.958 526.631 310.981 Q526.514 311.005 526.326 311.005 Q525.835 311.005 524.781 310.958 Q523.75 310.911 523.211 310.911 L520.143 310.864 L514.053 311.005 Q513.327 311.005 513.327 310.419 Q513.327 309.974 513.514 309.787 Q513.702 309.576 513.913 309.552 Q514.123 309.529 514.662 309.529 Q515.833 309.529 516.536 309.459 Q517.239 309.388 517.684 309.295 Q518.152 309.178 518.386 308.85 Q518.644 308.522 518.761 308.241 Q518.878 307.936 519.042 307.257 L525.46 281.492 Q525.647 280.719 525.647 280.602 Q525.647 280.204 525.413 280.064 Q525.202 279.9 524.593 279.829 Q523.422 279.736 522.532 279.736 Q521.946 279.736 521.712 279.712 Q521.501 279.689 521.314 279.572 Q521.15 279.431 521.15 279.15 Q521.15 278.237 522.11 278.237 L528.294 278.377 L534.431 278.237 Q535.11 278.237 535.11 278.775 Q535.11 279.455 534.782 279.595 Q534.478 279.736 533.47 279.736 Q531.714 279.736 530.917 279.97 Q530.144 280.181 529.91 280.555 Q529.699 280.907 529.442 281.937 L525.6 297.326 L544.315 282.944 Q546.048 281.492 546.048 280.743 Q546.048 280.251 545.697 280.04 Q545.369 279.806 544.549 279.736 Q543.964 279.642 543.964 279.197 Q543.964 278.752 544.128 278.541 Q544.315 278.307 544.455 278.283 Q544.619 278.237 544.877 278.237 Q545.744 278.237 547.547 278.307 Q549.351 278.377 550.217 278.377 Q550.803 278.377 551.951 278.307 Q553.098 278.237 553.614 278.237 Q553.871 278.237 554.012 278.424 Q554.152 278.588 554.152 278.775 Z\" fill=\"#000000\" fill-rule=\"evenodd\" fill-opacity=\"1\" /><path clip-path=\"url(#clip470)\" d=\"M560.357 299.012 Q560.357 290.908 563.379 284.373 Q564.667 281.633 566.47 279.337 Q568.274 277.042 569.468 276.035 Q570.663 275.028 570.991 275.028 Q571.459 275.028 571.483 275.496 Q571.483 275.73 570.85 276.316 Q563.121 284.186 563.144 299.012 Q563.144 313.886 570.663 321.451 Q571.483 322.271 571.483 322.528 Q571.483 322.997 570.991 322.997 Q570.663 322.997 569.515 322.037 Q568.368 321.076 566.587 318.874 Q564.807 316.673 563.519 313.979 Q560.357 307.444 560.357 299.012 Z\" fill=\"#000000\" fill-rule=\"evenodd\" fill-opacity=\"1\" /><path clip-path=\"url(#clip470)\" d=\"M579.733 322.997 L579.733 275.028 L586.97 275.028 L586.97 276.129 L582.941 276.129 L582.941 321.896 L586.97 321.896 L586.97 322.997 L579.733 322.997 Z\" fill=\"#000000\" fill-rule=\"evenodd\" fill-opacity=\"1\" /><path clip-path=\"url(#clip470)\" d=\"M616.821 292.969 Q616.821 294.281 616.001 295.03 Q615.181 295.757 614.244 295.757 Q613.354 295.757 612.886 295.241 Q612.417 294.726 612.417 294.07 Q612.417 293.18 613.073 292.407 Q613.729 291.634 614.713 291.47 Q613.752 290.861 612.323 290.861 Q611.387 290.861 610.567 291.353 Q609.77 291.845 609.279 292.477 Q608.81 293.11 608.388 294.023 Q607.99 294.913 607.826 295.452 Q607.686 295.967 607.569 296.529 L605.929 303.088 Q605.133 306.203 605.133 307.304 Q605.133 308.662 605.789 309.576 Q606.444 310.466 607.756 310.466 Q608.271 310.466 608.857 310.325 Q609.442 310.161 610.192 309.74 Q610.965 309.295 611.644 308.639 Q612.347 307.96 613.026 306.812 Q613.705 305.664 614.15 304.189 Q614.291 303.673 614.759 303.673 Q615.345 303.673 615.345 304.142 Q615.345 304.54 615.017 305.383 Q614.713 306.203 614.033 307.28 Q613.377 308.334 612.511 309.295 Q611.644 310.232 610.356 310.887 Q609.068 311.543 607.662 311.543 Q605.648 311.543 604.313 310.466 Q602.978 309.388 602.486 307.889 Q602.369 308.1 602.205 308.381 Q602.041 308.662 601.549 309.295 Q601.081 309.904 600.542 310.372 Q600.003 310.817 599.16 311.169 Q598.34 311.543 597.45 311.543 Q596.326 311.543 595.319 311.215 Q594.335 310.887 593.632 310.138 Q592.93 309.388 592.93 308.358 Q592.93 307.21 593.703 306.414 Q594.499 305.594 595.576 305.594 Q596.256 305.594 596.794 305.992 Q597.356 306.39 597.356 307.257 Q597.356 308.217 596.701 308.943 Q596.045 309.669 595.108 309.857 Q596.068 310.466 597.497 310.466 Q599.043 310.466 600.261 309.107 Q601.479 307.749 602.064 305.477 Q603.517 300.019 604.079 297.583 Q604.641 295.124 604.641 294.07 Q604.641 293.086 604.383 292.407 Q604.126 291.728 603.681 291.423 Q603.259 291.095 602.861 290.978 Q602.486 290.861 602.064 290.861 Q601.362 290.861 600.565 291.142 Q599.792 291.423 598.856 292.079 Q597.942 292.712 597.075 294.023 Q596.209 295.335 595.623 297.138 Q595.506 297.677 594.991 297.677 Q594.429 297.654 594.429 297.185 Q594.429 296.787 594.733 295.967 Q595.061 295.124 595.717 294.07 Q596.396 293.016 597.263 292.079 Q598.153 291.119 599.441 290.463 Q600.753 289.807 602.158 289.807 Q602.79 289.807 603.399 289.948 Q604.032 290.065 604.781 290.416 Q605.554 290.768 606.234 291.541 Q606.913 292.313 607.334 293.438 Q607.616 292.899 607.99 292.384 Q608.388 291.868 608.997 291.236 Q609.63 290.58 610.496 290.205 Q611.387 289.807 612.37 289.807 Q613.331 289.807 614.267 290.065 Q615.204 290.299 616.001 291.072 Q616.821 291.822 616.821 292.969 Z\" fill=\"#000000\" fill-rule=\"evenodd\" fill-opacity=\"1\" /><path clip-path=\"url(#clip470)\" d=\"M621.706 314.086 Q621.706 309.151 622.952 306.462 Q624.69 302.461 628.789 302.461 Q629.658 302.461 630.56 302.707 Q631.478 302.937 632.625 303.838 Q633.79 304.74 634.495 306.216 Q635.839 309.069 635.839 314.086 Q635.839 318.988 634.593 321.66 Q632.773 325.563 628.756 325.563 Q627.248 325.563 625.706 324.792 Q624.182 324.021 623.214 322.169 Q621.706 319.398 621.706 314.086 M624.493 313.676 Q624.493 318.742 624.854 320.759 Q625.264 322.939 626.379 323.89 Q627.51 324.825 628.756 324.825 Q630.1 324.825 631.215 323.825 Q632.347 322.808 632.691 320.628 Q633.068 318.48 633.052 313.676 Q633.052 309.003 632.724 307.134 Q632.281 304.953 631.101 304.084 Q629.937 303.199 628.756 303.199 Q628.313 303.199 627.838 303.33 Q627.379 303.461 626.707 303.838 Q626.034 304.215 625.51 305.15 Q625.001 306.085 624.755 307.495 Q624.493 309.315 624.493 313.676 Z\" fill=\"#000000\" fill-rule=\"evenodd\" fill-opacity=\"1\" /><path clip-path=\"url(#clip470)\" d=\"M640.815 321.896 L644.844 321.896 L644.844 276.129 L640.815 276.129 L640.815 275.028 L648.052 275.028 L648.052 322.997 L640.815 322.997 L640.815 321.896 Z\" fill=\"#000000\" fill-rule=\"evenodd\" fill-opacity=\"1\" /><path clip-path=\"url(#clip470)\" d=\"M655.548 322.528 Q655.548 322.294 656.157 321.709 Q663.886 313.839 663.886 299.012 Q663.886 284.139 656.461 276.62 Q655.548 275.754 655.548 275.496 Q655.548 275.028 656.016 275.028 Q656.344 275.028 657.492 275.988 Q658.663 276.948 660.42 279.15 Q662.2 281.352 663.512 284.045 Q666.674 290.58 666.674 299.012 Q666.674 307.116 663.652 313.651 Q662.364 316.392 660.56 318.687 Q658.757 320.983 657.562 321.99 Q656.368 322.997 656.016 322.997 Q655.548 322.997 655.548 322.528 Z\" fill=\"#000000\" fill-rule=\"evenodd\" fill-opacity=\"1\" /><path clip-path=\"url(#clip470)\" d=\"M713.454 311.005 Q713.454 311.403 713.173 311.684 Q712.892 311.965 712.494 311.965 Q712.096 311.965 711.815 311.684 Q711.534 311.403 711.534 311.005 L711.534 292.688 Q711.534 289.034 708.255 286.505 Q704.976 283.952 700.361 283.952 Q695.747 283.952 692.468 286.505 Q689.189 289.034 689.189 292.688 L689.189 311.005 Q689.189 311.403 688.908 311.684 Q688.627 311.965 688.229 311.965 Q687.83 311.965 687.549 311.684 Q687.268 311.403 687.268 311.005 L687.268 292.688 Q687.268 290.533 688.299 288.589 Q689.329 286.622 691.063 285.193 Q692.819 283.741 695.255 282.898 Q697.691 282.031 700.361 282.031 Q703.032 282.031 705.467 282.898 Q707.903 283.741 709.637 285.193 Q711.393 286.622 712.424 288.589 Q713.454 290.533 713.454 292.688 L713.454 311.005 Z\" fill=\"#000000\" fill-rule=\"evenodd\" fill-opacity=\"1\" /><path clip-path=\"url(#clip470)\" d=\"M756.146 292.969 Q756.146 294.281 755.326 295.03 Q754.506 295.757 753.569 295.757 Q752.679 295.757 752.211 295.241 Q751.743 294.726 751.743 294.07 Q751.743 293.18 752.398 292.407 Q753.054 291.634 754.038 291.47 Q753.078 290.861 751.649 290.861 Q750.712 290.861 749.892 291.353 Q749.096 291.845 748.604 292.477 Q748.135 293.11 747.714 294.023 Q747.316 294.913 747.152 295.452 Q747.011 295.967 746.894 296.529 L745.254 303.088 Q744.458 306.203 744.458 307.304 Q744.458 308.662 745.114 309.576 Q745.77 310.466 747.081 310.466 Q747.597 310.466 748.182 310.325 Q748.768 310.161 749.517 309.74 Q750.29 309.295 750.97 308.639 Q751.672 307.96 752.351 306.812 Q753.031 305.664 753.476 304.189 Q753.616 303.673 754.085 303.673 Q754.67 303.673 754.67 304.142 Q754.67 304.54 754.342 305.383 Q754.038 306.203 753.359 307.28 Q752.703 308.334 751.836 309.295 Q750.97 310.232 749.681 310.887 Q748.393 311.543 746.988 311.543 Q744.973 311.543 743.638 310.466 Q742.303 309.388 741.811 307.889 Q741.694 308.1 741.53 308.381 Q741.366 308.662 740.874 309.295 Q740.406 309.904 739.867 310.372 Q739.329 310.817 738.485 311.169 Q737.666 311.543 736.776 311.543 Q735.651 311.543 734.644 311.215 Q733.66 310.887 732.958 310.138 Q732.255 309.388 732.255 308.358 Q732.255 307.21 733.028 306.414 Q733.824 305.594 734.902 305.594 Q735.581 305.594 736.12 305.992 Q736.682 306.39 736.682 307.257 Q736.682 308.217 736.026 308.943 Q735.37 309.669 734.433 309.857 Q735.394 310.466 736.822 310.466 Q738.368 310.466 739.586 309.107 Q740.804 307.749 741.39 305.477 Q742.842 300.019 743.404 297.583 Q743.966 295.124 743.966 294.07 Q743.966 293.086 743.709 292.407 Q743.451 291.728 743.006 291.423 Q742.584 291.095 742.186 290.978 Q741.811 290.861 741.39 290.861 Q740.687 290.861 739.891 291.142 Q739.118 291.423 738.181 292.079 Q737.267 292.712 736.401 294.023 Q735.534 295.335 734.949 297.138 Q734.832 297.677 734.316 297.677 Q733.754 297.654 733.754 297.185 Q733.754 296.787 734.059 295.967 Q734.386 295.124 735.042 294.07 Q735.722 293.016 736.588 292.079 Q737.478 291.119 738.766 290.463 Q740.078 289.807 741.483 289.807 Q742.116 289.807 742.725 289.948 Q743.357 290.065 744.107 290.416 Q744.88 290.768 745.559 291.541 Q746.238 292.313 746.66 293.438 Q746.941 292.899 747.316 292.384 Q747.714 291.868 748.323 291.236 Q748.955 290.58 749.822 290.205 Q750.712 289.807 751.696 289.807 Q752.656 289.807 753.593 290.065 Q754.53 290.299 755.326 291.072 Q756.146 291.822 756.146 292.969 Z\" fill=\"#000000\" fill-rule=\"evenodd\" fill-opacity=\"1\" /><path clip-path=\"url(#clip470)\" d=\"M761.031 314.086 Q761.031 309.151 762.277 306.462 Q764.015 302.461 768.114 302.461 Q768.983 302.461 769.885 302.707 Q770.803 302.937 771.951 303.838 Q773.115 304.74 773.82 306.216 Q775.164 309.069 775.164 314.086 Q775.164 318.988 773.918 321.66 Q772.098 325.563 768.081 325.563 Q766.573 325.563 765.032 324.792 Q763.507 324.021 762.54 322.169 Q761.031 319.398 761.031 314.086 M763.819 313.676 Q763.819 318.742 764.179 320.759 Q764.589 322.939 765.704 323.89 Q766.835 324.825 768.081 324.825 Q769.426 324.825 770.541 323.825 Q771.672 322.808 772.016 320.628 Q772.394 318.48 772.377 313.676 Q772.377 309.003 772.049 307.134 Q771.607 304.953 770.426 304.084 Q769.262 303.199 768.081 303.199 Q767.639 303.199 767.163 303.33 Q766.704 303.461 766.032 303.838 Q765.36 304.215 764.835 305.15 Q764.327 306.085 764.081 307.495 Q763.819 309.315 763.819 313.676 Z\" fill=\"#000000\" fill-rule=\"evenodd\" fill-opacity=\"1\" /></svg>\n"
      ]
     },
     "execution_count": 8,
     "metadata": {},
     "output_type": "execute_result"
    }
   ],
   "source": [
    "plot(dom_tot, g.(dom_tot), label=\"\\$g(x)\\$\", color=:red, legend=:topleft,\n",
    "    xlabel=\"\\$x\\$\", ylabel=\"\\$y\\$\") # f(x)\n",
    "plot!(dom_tot, zero.(dom_tot), label=:none, color=:black, linewidth=2) # eje x\n",
    "xlims!(dom_tot[1], dom_tot[end])\n",
    "ylims!(-1.5, 1.5)\n",
    "\n",
    "#Intervalo [x_0]\n",
    "plot!([dom0.infimo, dom0.supremo], [y0, y0], label=\"\\$[x_0]\\$\", color=:blue,\n",
    "    linewidth=2) # [x_0]\n",
    "\n",
    "#Intervalo K([x_0])\n",
    "xmid = midpoint(dom0)\n",
    "g_xmid = g(xmid)\n",
    "k0 = K(g, dom0) # K([x_0])\n",
    "#Para evitar problemas al dibujar con Inf's\n",
    "if k0.infimo == -Inf\n",
    "    k0 = -1000 .. k0.supremo\n",
    "end\n",
    "if k0.supremo == Inf\n",
    "    k0 = k0.infimo .. 1000\n",
    "end\n",
    "#Posibles intersecciones con el eje x dadas por K([x])\n",
    "polyg = Shape([(k0.infimo, 0.0), (xmid, g_xmid), (k0.supremo, 0.0)])\n",
    "plot!(polyg, fillcolor=:grey, label=nothing, alpha=0.2)\n",
    "\n",
    "#Intervalo [x_1]\n",
    "dom1 = k0 ∩ dom0\n",
    "plot!([k0.infimo, k0.supremo], [y1, y1], label=\"\\$K([x_0])\\$\", color=:green, linewidth=2) # K([x_0])\n",
    "plot!([dom1.infimo, dom1.supremo], [y2, y2], label=\"\\$K([x_0])\\\\cap x_0\\$\", color=:red,\n",
    "    linewidth=2) # [x_1]\n",
    "#Intersecciones con el eje x\n",
    "polyg = Shape([(dom1.infimo, 0.0), (xmid, g_xmid), (dom1.supremo, 0.0)])\n",
    "plot!(polyg, fillcolor=:grey, label=nothing, alpha=0.4) # Posibles intersecciones eje x\n",
    "\n",
    "#Punto medio\n",
    "plot!([xmid, xmid], [y0, g_xmid], color=:gray, linestyle=:dot, markershape=:circle,\n",
    "    label=nothing, alpha=0.8)"
   ]
  },
  {
   "cell_type": "markdown",
   "metadata": {},
   "source": [
    "<a id=\"section_4\"></a>\n",
    "# Comparando método de Newton y de Krawczyk con atan(x)\n",
    "## Gráfica, diámetro de los operadores, diámetro de la intersección y tiempo de ejecución"
   ]
  },
  {
   "cell_type": "markdown",
   "metadata": {},
   "source": [
    "Ahora se presenta la gráfica resultante al usar el método de Newton, para lo cual se define el método de Newton intervalar (no extendido) para la misma función"
   ]
  },
  {
   "cell_type": "code",
   "execution_count": 9,
   "metadata": {
    "scrolled": true
   },
   "outputs": [
    {
     "data": {
      "image/svg+xml": [
       "<?xml version=\"1.0\" encoding=\"utf-8\"?>\n",
       "<svg xmlns=\"http://www.w3.org/2000/svg\" xmlns:xlink=\"http://www.w3.org/1999/xlink\" width=\"600\" height=\"400\" viewBox=\"0 0 2400 1600\">\n",
       "<defs>\n",
       "  <clipPath id=\"clip510\">\n",
       "    <rect x=\"0\" y=\"0\" width=\"2400\" height=\"1600\"/>\n",
       "  </clipPath>\n",
       "</defs>\n",
       "<path clip-path=\"url(#clip510)\" d=\"\n",
       "M0 1600 L2400 1600 L2400 0 L0 0  Z\n",
       "  \" fill=\"#ffffff\" fill-rule=\"evenodd\" fill-opacity=\"1\"/>\n",
       "<defs>\n",
       "  <clipPath id=\"clip511\">\n",
       "    <rect x=\"480\" y=\"0\" width=\"1681\" height=\"1600\"/>\n",
       "  </clipPath>\n",
       "</defs>\n",
       "<defs>\n",
       "  <clipPath id=\"clip512\">\n",
       "    <rect x=\"257\" y=\"47\" width=\"2097\" height=\"1377\"/>\n",
       "  </clipPath>\n",
       "</defs>\n",
       "<path clip-path=\"url(#clip510)\" d=\"\n",
       "M257.204 1423.18 L2352.76 1423.18 L2352.76 47.2441 L257.204 47.2441  Z\n",
       "  \" fill=\"#ffffff\" fill-rule=\"evenodd\" fill-opacity=\"1\"/>\n",
       "<polyline clip-path=\"url(#clip512)\" style=\"stroke:#000000; stroke-linecap:round; stroke-linejoin:round; stroke-width:2; stroke-opacity:0.1; fill:none\" points=\"\n",
       "  307.098,1423.18 307.098,47.2441 \n",
       "  \"/>\n",
       "<polyline clip-path=\"url(#clip512)\" style=\"stroke:#000000; stroke-linecap:round; stroke-linejoin:round; stroke-width:2; stroke-opacity:0.1; fill:none\" points=\"\n",
       "  806.039,1423.18 806.039,47.2441 \n",
       "  \"/>\n",
       "<polyline clip-path=\"url(#clip512)\" style=\"stroke:#000000; stroke-linecap:round; stroke-linejoin:round; stroke-width:2; stroke-opacity:0.1; fill:none\" points=\"\n",
       "  1304.98,1423.18 1304.98,47.2441 \n",
       "  \"/>\n",
       "<polyline clip-path=\"url(#clip512)\" style=\"stroke:#000000; stroke-linecap:round; stroke-linejoin:round; stroke-width:2; stroke-opacity:0.1; fill:none\" points=\"\n",
       "  1803.92,1423.18 1803.92,47.2441 \n",
       "  \"/>\n",
       "<polyline clip-path=\"url(#clip512)\" style=\"stroke:#000000; stroke-linecap:round; stroke-linejoin:round; stroke-width:2; stroke-opacity:0.1; fill:none\" points=\"\n",
       "  2302.86,1423.18 2302.86,47.2441 \n",
       "  \"/>\n",
       "<polyline clip-path=\"url(#clip510)\" style=\"stroke:#000000; stroke-linecap:round; stroke-linejoin:round; stroke-width:4; stroke-opacity:1; fill:none\" points=\"\n",
       "  257.204,1423.18 2352.76,1423.18 \n",
       "  \"/>\n",
       "<polyline clip-path=\"url(#clip510)\" style=\"stroke:#000000; stroke-linecap:round; stroke-linejoin:round; stroke-width:4; stroke-opacity:1; fill:none\" points=\"\n",
       "  307.098,1423.18 307.098,1404.28 \n",
       "  \"/>\n",
       "<polyline clip-path=\"url(#clip510)\" style=\"stroke:#000000; stroke-linecap:round; stroke-linejoin:round; stroke-width:4; stroke-opacity:1; fill:none\" points=\"\n",
       "  806.039,1423.18 806.039,1404.28 \n",
       "  \"/>\n",
       "<polyline clip-path=\"url(#clip510)\" style=\"stroke:#000000; stroke-linecap:round; stroke-linejoin:round; stroke-width:4; stroke-opacity:1; fill:none\" points=\"\n",
       "  1304.98,1423.18 1304.98,1404.28 \n",
       "  \"/>\n",
       "<polyline clip-path=\"url(#clip510)\" style=\"stroke:#000000; stroke-linecap:round; stroke-linejoin:round; stroke-width:4; stroke-opacity:1; fill:none\" points=\"\n",
       "  1803.92,1423.18 1803.92,1404.28 \n",
       "  \"/>\n",
       "<polyline clip-path=\"url(#clip510)\" style=\"stroke:#000000; stroke-linecap:round; stroke-linejoin:round; stroke-width:4; stroke-opacity:1; fill:none\" points=\"\n",
       "  2302.86,1423.18 2302.86,1404.28 \n",
       "  \"/>\n",
       "<path clip-path=\"url(#clip510)\" d=\"M261.161 1468.75 L290.837 1468.75 L290.837 1472.69 L261.161 1472.69 L261.161 1468.75 Z\" fill=\"#000000\" fill-rule=\"evenodd\" fill-opacity=\"1\" /><path clip-path=\"url(#clip510)\" d=\"M301.739 1481.64 L309.378 1481.64 L309.378 1455.28 L301.068 1456.95 L301.068 1452.69 L309.332 1451.02 L314.008 1451.02 L314.008 1481.64 L321.647 1481.64 L321.647 1485.58 L301.739 1485.58 L301.739 1481.64 Z\" fill=\"#000000\" fill-rule=\"evenodd\" fill-opacity=\"1\" /><path clip-path=\"url(#clip510)\" d=\"M341.091 1454.1 Q337.48 1454.1 335.651 1457.66 Q333.846 1461.2 333.846 1468.33 Q333.846 1475.44 335.651 1479.01 Q337.48 1482.55 341.091 1482.55 Q344.725 1482.55 346.531 1479.01 Q348.359 1475.44 348.359 1468.33 Q348.359 1461.2 346.531 1457.66 Q344.725 1454.1 341.091 1454.1 M341.091 1450.39 Q346.901 1450.39 349.957 1455 Q353.035 1459.58 353.035 1468.33 Q353.035 1477.06 349.957 1481.67 Q346.901 1486.25 341.091 1486.25 Q335.281 1486.25 332.202 1481.67 Q329.147 1477.06 329.147 1468.33 Q329.147 1459.58 332.202 1455 Q335.281 1450.39 341.091 1450.39 Z\" fill=\"#000000\" fill-rule=\"evenodd\" fill-opacity=\"1\" /><path clip-path=\"url(#clip510)\" d=\"M775.68 1468.75 L805.356 1468.75 L805.356 1472.69 L775.68 1472.69 L775.68 1468.75 Z\" fill=\"#000000\" fill-rule=\"evenodd\" fill-opacity=\"1\" /><path clip-path=\"url(#clip510)\" d=\"M815.495 1451.02 L833.851 1451.02 L833.851 1454.96 L819.777 1454.96 L819.777 1463.43 Q820.796 1463.08 821.814 1462.92 Q822.833 1462.73 823.851 1462.73 Q829.638 1462.73 833.018 1465.9 Q836.398 1469.08 836.398 1474.49 Q836.398 1480.07 832.925 1483.17 Q829.453 1486.25 823.134 1486.25 Q820.958 1486.25 818.689 1485.88 Q816.444 1485.51 814.037 1484.77 L814.037 1480.07 Q816.12 1481.2 818.342 1481.76 Q820.564 1482.32 823.041 1482.32 Q827.046 1482.32 829.384 1480.21 Q831.722 1478.1 831.722 1474.49 Q831.722 1470.88 829.384 1468.77 Q827.046 1466.67 823.041 1466.67 Q821.166 1466.67 819.291 1467.08 Q817.439 1467.5 815.495 1468.38 L815.495 1451.02 Z\" fill=\"#000000\" fill-rule=\"evenodd\" fill-opacity=\"1\" /><path clip-path=\"url(#clip510)\" d=\"M1304.98 1454.1 Q1301.37 1454.1 1299.54 1457.66 Q1297.73 1461.2 1297.73 1468.33 Q1297.73 1475.44 1299.54 1479.01 Q1301.37 1482.55 1304.98 1482.55 Q1308.61 1482.55 1310.42 1479.01 Q1312.25 1475.44 1312.25 1468.33 Q1312.25 1461.2 1310.42 1457.66 Q1308.61 1454.1 1304.98 1454.1 M1304.98 1450.39 Q1310.79 1450.39 1313.85 1455 Q1316.92 1459.58 1316.92 1468.33 Q1316.92 1477.06 1313.85 1481.67 Q1310.79 1486.25 1304.98 1486.25 Q1299.17 1486.25 1296.09 1481.67 Q1293.04 1477.06 1293.04 1468.33 Q1293.04 1459.58 1296.09 1455 Q1299.17 1450.39 1304.98 1450.39 Z\" fill=\"#000000\" fill-rule=\"evenodd\" fill-opacity=\"1\" /><path clip-path=\"url(#clip510)\" d=\"M1794.2 1451.02 L1812.56 1451.02 L1812.56 1454.96 L1798.48 1454.96 L1798.48 1463.43 Q1799.5 1463.08 1800.52 1462.92 Q1801.54 1462.73 1802.56 1462.73 Q1808.34 1462.73 1811.72 1465.9 Q1815.1 1469.08 1815.1 1474.49 Q1815.1 1480.07 1811.63 1483.17 Q1808.16 1486.25 1801.84 1486.25 Q1799.66 1486.25 1797.39 1485.88 Q1795.15 1485.51 1792.74 1484.77 L1792.74 1480.07 Q1794.82 1481.2 1797.05 1481.76 Q1799.27 1482.32 1801.74 1482.32 Q1805.75 1482.32 1808.09 1480.21 Q1810.43 1478.1 1810.43 1474.49 Q1810.43 1470.88 1808.09 1468.77 Q1805.75 1466.67 1801.74 1466.67 Q1799.87 1466.67 1797.99 1467.08 Q1796.14 1467.5 1794.2 1468.38 L1794.2 1451.02 Z\" fill=\"#000000\" fill-rule=\"evenodd\" fill-opacity=\"1\" /><path clip-path=\"url(#clip510)\" d=\"M2277.55 1481.64 L2285.19 1481.64 L2285.19 1455.28 L2276.88 1456.95 L2276.88 1452.69 L2285.14 1451.02 L2289.82 1451.02 L2289.82 1481.64 L2297.46 1481.64 L2297.46 1485.58 L2277.55 1485.58 L2277.55 1481.64 Z\" fill=\"#000000\" fill-rule=\"evenodd\" fill-opacity=\"1\" /><path clip-path=\"url(#clip510)\" d=\"M2316.9 1454.1 Q2313.29 1454.1 2311.46 1457.66 Q2309.66 1461.2 2309.66 1468.33 Q2309.66 1475.44 2311.46 1479.01 Q2313.29 1482.55 2316.9 1482.55 Q2320.54 1482.55 2322.34 1479.01 Q2324.17 1475.44 2324.17 1468.33 Q2324.17 1461.2 2322.34 1457.66 Q2320.54 1454.1 2316.9 1454.1 M2316.9 1450.39 Q2322.71 1450.39 2325.77 1455 Q2328.85 1459.58 2328.85 1468.33 Q2328.85 1477.06 2325.77 1481.67 Q2322.71 1486.25 2316.9 1486.25 Q2311.09 1486.25 2308.01 1481.67 Q2304.96 1477.06 2304.96 1468.33 Q2304.96 1459.58 2308.01 1455 Q2311.09 1450.39 2316.9 1450.39 Z\" fill=\"#000000\" fill-rule=\"evenodd\" fill-opacity=\"1\" /><path clip-path=\"url(#clip510)\" d=\"M1319.15 1528.8 Q1319.15 1530.61 1318.03 1531.64 Q1316.9 1532.64 1315.61 1532.64 Q1314.39 1532.64 1313.74 1531.93 Q1313.1 1531.22 1313.1 1530.32 Q1313.1 1529.09 1314 1528.03 Q1314.9 1526.97 1316.25 1526.74 Q1314.93 1525.91 1312.97 1525.91 Q1311.68 1525.91 1310.55 1526.58 Q1309.46 1527.26 1308.78 1528.13 Q1308.14 1529 1307.56 1530.25 Q1307.01 1531.48 1306.79 1532.22 Q1306.59 1532.93 1306.43 1533.7 L1304.18 1542.72 Q1303.08 1547 1303.08 1548.51 Q1303.08 1550.38 1303.98 1551.64 Q1304.89 1552.86 1306.69 1552.86 Q1307.4 1552.86 1308.2 1552.67 Q1309.01 1552.44 1310.04 1551.86 Q1311.1 1551.25 1312.04 1550.35 Q1313 1549.42 1313.94 1547.84 Q1314.87 1546.26 1315.48 1544.23 Q1315.68 1543.52 1316.32 1543.52 Q1317.12 1543.52 1317.12 1544.17 Q1317.12 1544.71 1316.67 1545.87 Q1316.25 1547 1315.32 1548.48 Q1314.42 1549.93 1313.23 1551.25 Q1312.04 1552.54 1310.26 1553.44 Q1308.49 1554.34 1306.56 1554.34 Q1303.79 1554.34 1301.96 1552.86 Q1300.12 1551.38 1299.44 1549.32 Q1299.28 1549.61 1299.06 1550 Q1298.83 1550.38 1298.16 1551.25 Q1297.51 1552.09 1296.77 1552.73 Q1296.03 1553.34 1294.87 1553.83 Q1293.74 1554.34 1292.52 1554.34 Q1290.97 1554.34 1289.59 1553.89 Q1288.24 1553.44 1287.27 1552.41 Q1286.3 1551.38 1286.3 1549.96 Q1286.3 1548.38 1287.37 1547.29 Q1288.46 1546.16 1289.94 1546.16 Q1290.88 1546.16 1291.62 1546.71 Q1292.39 1547.26 1292.39 1548.45 Q1292.39 1549.77 1291.49 1550.77 Q1290.59 1551.77 1289.3 1552.02 Q1290.62 1552.86 1292.58 1552.86 Q1294.71 1552.86 1296.38 1550.99 Q1298.06 1549.13 1298.86 1546 Q1300.86 1538.5 1301.63 1535.15 Q1302.41 1531.77 1302.41 1530.32 Q1302.41 1528.96 1302.05 1528.03 Q1301.7 1527.1 1301.09 1526.68 Q1300.51 1526.23 1299.96 1526.07 Q1299.44 1525.91 1298.86 1525.91 Q1297.9 1525.91 1296.8 1526.29 Q1295.74 1526.68 1294.45 1527.58 Q1293.2 1528.45 1292 1530.25 Q1290.81 1532.06 1290.01 1534.54 Q1289.85 1535.28 1289.14 1535.28 Q1288.36 1535.24 1288.36 1534.6 Q1288.36 1534.05 1288.78 1532.93 Q1289.23 1531.77 1290.14 1530.32 Q1291.07 1528.87 1292.26 1527.58 Q1293.49 1526.26 1295.26 1525.36 Q1297.06 1524.46 1298.99 1524.46 Q1299.86 1524.46 1300.7 1524.65 Q1301.57 1524.81 1302.6 1525.29 Q1303.66 1525.78 1304.6 1526.84 Q1305.53 1527.9 1306.11 1529.45 Q1306.5 1528.71 1307.01 1528 Q1307.56 1527.29 1308.4 1526.42 Q1309.27 1525.52 1310.46 1525 Q1311.68 1524.46 1313.03 1524.46 Q1314.35 1524.46 1315.64 1524.81 Q1316.93 1525.13 1318.03 1526.19 Q1319.15 1527.23 1319.15 1528.8 Z\" fill=\"#000000\" fill-rule=\"evenodd\" fill-opacity=\"1\" /><polyline clip-path=\"url(#clip512)\" style=\"stroke:#000000; stroke-linecap:round; stroke-linejoin:round; stroke-width:2; stroke-opacity:0.1; fill:none\" points=\"\n",
       "  257.204,1423.18 2352.76,1423.18 \n",
       "  \"/>\n",
       "<polyline clip-path=\"url(#clip512)\" style=\"stroke:#000000; stroke-linecap:round; stroke-linejoin:round; stroke-width:2; stroke-opacity:0.1; fill:none\" points=\"\n",
       "  257.204,1193.86 2352.76,1193.86 \n",
       "  \"/>\n",
       "<polyline clip-path=\"url(#clip512)\" style=\"stroke:#000000; stroke-linecap:round; stroke-linejoin:round; stroke-width:2; stroke-opacity:0.1; fill:none\" points=\"\n",
       "  257.204,964.535 2352.76,964.535 \n",
       "  \"/>\n",
       "<polyline clip-path=\"url(#clip512)\" style=\"stroke:#000000; stroke-linecap:round; stroke-linejoin:round; stroke-width:2; stroke-opacity:0.1; fill:none\" points=\"\n",
       "  257.204,735.212 2352.76,735.212 \n",
       "  \"/>\n",
       "<polyline clip-path=\"url(#clip512)\" style=\"stroke:#000000; stroke-linecap:round; stroke-linejoin:round; stroke-width:2; stroke-opacity:0.1; fill:none\" points=\"\n",
       "  257.204,505.889 2352.76,505.889 \n",
       "  \"/>\n",
       "<polyline clip-path=\"url(#clip512)\" style=\"stroke:#000000; stroke-linecap:round; stroke-linejoin:round; stroke-width:2; stroke-opacity:0.1; fill:none\" points=\"\n",
       "  257.204,276.567 2352.76,276.567 \n",
       "  \"/>\n",
       "<polyline clip-path=\"url(#clip512)\" style=\"stroke:#000000; stroke-linecap:round; stroke-linejoin:round; stroke-width:2; stroke-opacity:0.1; fill:none\" points=\"\n",
       "  257.204,47.2441 2352.76,47.2441 \n",
       "  \"/>\n",
       "<polyline clip-path=\"url(#clip510)\" style=\"stroke:#000000; stroke-linecap:round; stroke-linejoin:round; stroke-width:4; stroke-opacity:1; fill:none\" points=\"\n",
       "  257.204,1423.18 257.204,47.2441 \n",
       "  \"/>\n",
       "<polyline clip-path=\"url(#clip510)\" style=\"stroke:#000000; stroke-linecap:round; stroke-linejoin:round; stroke-width:4; stroke-opacity:1; fill:none\" points=\"\n",
       "  257.204,1423.18 276.102,1423.18 \n",
       "  \"/>\n",
       "<polyline clip-path=\"url(#clip510)\" style=\"stroke:#000000; stroke-linecap:round; stroke-linejoin:round; stroke-width:4; stroke-opacity:1; fill:none\" points=\"\n",
       "  257.204,1193.86 276.102,1193.86 \n",
       "  \"/>\n",
       "<polyline clip-path=\"url(#clip510)\" style=\"stroke:#000000; stroke-linecap:round; stroke-linejoin:round; stroke-width:4; stroke-opacity:1; fill:none\" points=\"\n",
       "  257.204,964.535 276.102,964.535 \n",
       "  \"/>\n",
       "<polyline clip-path=\"url(#clip510)\" style=\"stroke:#000000; stroke-linecap:round; stroke-linejoin:round; stroke-width:4; stroke-opacity:1; fill:none\" points=\"\n",
       "  257.204,735.212 276.102,735.212 \n",
       "  \"/>\n",
       "<polyline clip-path=\"url(#clip510)\" style=\"stroke:#000000; stroke-linecap:round; stroke-linejoin:round; stroke-width:4; stroke-opacity:1; fill:none\" points=\"\n",
       "  257.204,505.889 276.102,505.889 \n",
       "  \"/>\n",
       "<polyline clip-path=\"url(#clip510)\" style=\"stroke:#000000; stroke-linecap:round; stroke-linejoin:round; stroke-width:4; stroke-opacity:1; fill:none\" points=\"\n",
       "  257.204,276.567 276.102,276.567 \n",
       "  \"/>\n",
       "<polyline clip-path=\"url(#clip510)\" style=\"stroke:#000000; stroke-linecap:round; stroke-linejoin:round; stroke-width:4; stroke-opacity:1; fill:none\" points=\"\n",
       "  257.204,47.2441 276.102,47.2441 \n",
       "  \"/>\n",
       "<path clip-path=\"url(#clip510)\" d=\"M115.256 1423.63 L144.931 1423.63 L144.931 1427.57 L115.256 1427.57 L115.256 1423.63 Z\" fill=\"#000000\" fill-rule=\"evenodd\" fill-opacity=\"1\" /><path clip-path=\"url(#clip510)\" d=\"M155.834 1436.52 L163.473 1436.52 L163.473 1410.16 L155.163 1411.83 L155.163 1407.57 L163.427 1405.9 L168.102 1405.9 L168.102 1436.52 L175.741 1436.52 L175.741 1440.46 L155.834 1440.46 L155.834 1436.52 Z\" fill=\"#000000\" fill-rule=\"evenodd\" fill-opacity=\"1\" /><path clip-path=\"url(#clip510)\" d=\"M185.186 1434.58 L190.07 1434.58 L190.07 1440.46 L185.186 1440.46 L185.186 1434.58 Z\" fill=\"#000000\" fill-rule=\"evenodd\" fill-opacity=\"1\" /><path clip-path=\"url(#clip510)\" d=\"M200.301 1405.9 L218.658 1405.9 L218.658 1409.84 L204.584 1409.84 L204.584 1418.31 Q205.602 1417.96 206.621 1417.8 Q207.639 1417.61 208.658 1417.61 Q214.445 1417.61 217.824 1420.78 Q221.204 1423.96 221.204 1429.37 Q221.204 1434.95 217.732 1438.05 Q214.26 1441.13 207.94 1441.13 Q205.764 1441.13 203.496 1440.76 Q201.25 1440.39 198.843 1439.65 L198.843 1434.95 Q200.926 1436.08 203.149 1436.64 Q205.371 1437.2 207.848 1437.2 Q211.852 1437.2 214.19 1435.09 Q216.528 1432.98 216.528 1429.37 Q216.528 1425.76 214.19 1423.65 Q211.852 1421.55 207.848 1421.55 Q205.973 1421.55 204.098 1421.96 Q202.246 1422.38 200.301 1423.26 L200.301 1405.9 Z\" fill=\"#000000\" fill-rule=\"evenodd\" fill-opacity=\"1\" /><path clip-path=\"url(#clip510)\" d=\"M114.26 1194.31 L143.936 1194.31 L143.936 1198.24 L114.26 1198.24 L114.26 1194.31 Z\" fill=\"#000000\" fill-rule=\"evenodd\" fill-opacity=\"1\" /><path clip-path=\"url(#clip510)\" d=\"M154.839 1207.2 L162.477 1207.2 L162.477 1180.84 L154.167 1182.5 L154.167 1178.24 L162.431 1176.58 L167.107 1176.58 L167.107 1207.2 L174.746 1207.2 L174.746 1211.14 L154.839 1211.14 L154.839 1207.2 Z\" fill=\"#000000\" fill-rule=\"evenodd\" fill-opacity=\"1\" /><path clip-path=\"url(#clip510)\" d=\"M184.19 1205.26 L189.075 1205.26 L189.075 1211.14 L184.19 1211.14 L184.19 1205.26 Z\" fill=\"#000000\" fill-rule=\"evenodd\" fill-opacity=\"1\" /><path clip-path=\"url(#clip510)\" d=\"M209.26 1179.66 Q205.649 1179.66 203.82 1183.22 Q202.014 1186.76 202.014 1193.89 Q202.014 1201 203.82 1204.56 Q205.649 1208.1 209.26 1208.1 Q212.894 1208.1 214.699 1204.56 Q216.528 1201 216.528 1193.89 Q216.528 1186.76 214.699 1183.22 Q212.894 1179.66 209.26 1179.66 M209.26 1175.95 Q215.07 1175.95 218.125 1180.56 Q221.204 1185.14 221.204 1193.89 Q221.204 1202.62 218.125 1207.23 Q215.07 1211.81 209.26 1211.81 Q203.449 1211.81 200.371 1207.23 Q197.315 1202.62 197.315 1193.89 Q197.315 1185.14 200.371 1180.56 Q203.449 1175.95 209.26 1175.95 Z\" fill=\"#000000\" fill-rule=\"evenodd\" fill-opacity=\"1\" /><path clip-path=\"url(#clip510)\" d=\"M115.256 964.986 L144.931 964.986 L144.931 968.921 L115.256 968.921 L115.256 964.986 Z\" fill=\"#000000\" fill-rule=\"evenodd\" fill-opacity=\"1\" /><path clip-path=\"url(#clip510)\" d=\"M165.024 950.333 Q161.413 950.333 159.584 953.898 Q157.778 957.44 157.778 964.569 Q157.778 971.676 159.584 975.241 Q161.413 978.782 165.024 978.782 Q168.658 978.782 170.464 975.241 Q172.292 971.676 172.292 964.569 Q172.292 957.44 170.464 953.898 Q168.658 950.333 165.024 950.333 M165.024 946.63 Q170.834 946.63 173.889 951.236 Q176.968 955.819 176.968 964.569 Q176.968 973.296 173.889 977.903 Q170.834 982.486 165.024 982.486 Q159.214 982.486 156.135 977.903 Q153.079 973.296 153.079 964.569 Q153.079 955.819 156.135 951.236 Q159.214 946.63 165.024 946.63 Z\" fill=\"#000000\" fill-rule=\"evenodd\" fill-opacity=\"1\" /><path clip-path=\"url(#clip510)\" d=\"M185.186 975.935 L190.07 975.935 L190.07 981.815 L185.186 981.815 L185.186 975.935 Z\" fill=\"#000000\" fill-rule=\"evenodd\" fill-opacity=\"1\" /><path clip-path=\"url(#clip510)\" d=\"M200.301 947.255 L218.658 947.255 L218.658 951.19 L204.584 951.19 L204.584 959.662 Q205.602 959.315 206.621 959.153 Q207.639 958.967 208.658 958.967 Q214.445 958.967 217.824 962.139 Q221.204 965.31 221.204 970.727 Q221.204 976.305 217.732 979.407 Q214.26 982.486 207.94 982.486 Q205.764 982.486 203.496 982.116 Q201.25 981.745 198.843 981.004 L198.843 976.305 Q200.926 977.44 203.149 977.995 Q205.371 978.551 207.848 978.551 Q211.852 978.551 214.19 976.444 Q216.528 974.338 216.528 970.727 Q216.528 967.116 214.19 965.009 Q211.852 962.903 207.848 962.903 Q205.973 962.903 204.098 963.319 Q202.246 963.736 200.301 964.616 L200.301 947.255 Z\" fill=\"#000000\" fill-rule=\"evenodd\" fill-opacity=\"1\" /><path clip-path=\"url(#clip510)\" d=\"M164.028 721.011 Q160.417 721.011 158.589 724.575 Q156.783 728.117 156.783 735.247 Q156.783 742.353 158.589 745.918 Q160.417 749.46 164.028 749.46 Q167.663 749.46 169.468 745.918 Q171.297 742.353 171.297 735.247 Q171.297 728.117 169.468 724.575 Q167.663 721.011 164.028 721.011 M164.028 717.307 Q169.839 717.307 172.894 721.913 Q175.973 726.497 175.973 735.247 Q175.973 743.973 172.894 748.58 Q169.839 753.163 164.028 753.163 Q158.218 753.163 155.14 748.58 Q152.084 743.973 152.084 735.247 Q152.084 726.497 155.14 721.913 Q158.218 717.307 164.028 717.307 Z\" fill=\"#000000\" fill-rule=\"evenodd\" fill-opacity=\"1\" /><path clip-path=\"url(#clip510)\" d=\"M184.19 746.612 L189.075 746.612 L189.075 752.492 L184.19 752.492 L184.19 746.612 Z\" fill=\"#000000\" fill-rule=\"evenodd\" fill-opacity=\"1\" /><path clip-path=\"url(#clip510)\" d=\"M209.26 721.011 Q205.649 721.011 203.82 724.575 Q202.014 728.117 202.014 735.247 Q202.014 742.353 203.82 745.918 Q205.649 749.46 209.26 749.46 Q212.894 749.46 214.699 745.918 Q216.528 742.353 216.528 735.247 Q216.528 728.117 214.699 724.575 Q212.894 721.011 209.26 721.011 M209.26 717.307 Q215.07 717.307 218.125 721.913 Q221.204 726.497 221.204 735.247 Q221.204 743.973 218.125 748.58 Q215.07 753.163 209.26 753.163 Q203.449 753.163 200.371 748.58 Q197.315 743.973 197.315 735.247 Q197.315 726.497 200.371 721.913 Q203.449 717.307 209.26 717.307 Z\" fill=\"#000000\" fill-rule=\"evenodd\" fill-opacity=\"1\" /><path clip-path=\"url(#clip510)\" d=\"M165.024 491.688 Q161.413 491.688 159.584 495.253 Q157.778 498.794 157.778 505.924 Q157.778 513.031 159.584 516.595 Q161.413 520.137 165.024 520.137 Q168.658 520.137 170.464 516.595 Q172.292 513.031 172.292 505.924 Q172.292 498.794 170.464 495.253 Q168.658 491.688 165.024 491.688 M165.024 487.984 Q170.834 487.984 173.889 492.591 Q176.968 497.174 176.968 505.924 Q176.968 514.651 173.889 519.257 Q170.834 523.841 165.024 523.841 Q159.214 523.841 156.135 519.257 Q153.079 514.651 153.079 505.924 Q153.079 497.174 156.135 492.591 Q159.214 487.984 165.024 487.984 Z\" fill=\"#000000\" fill-rule=\"evenodd\" fill-opacity=\"1\" /><path clip-path=\"url(#clip510)\" d=\"M185.186 517.29 L190.07 517.29 L190.07 523.169 L185.186 523.169 L185.186 517.29 Z\" fill=\"#000000\" fill-rule=\"evenodd\" fill-opacity=\"1\" /><path clip-path=\"url(#clip510)\" d=\"M200.301 488.609 L218.658 488.609 L218.658 492.545 L204.584 492.545 L204.584 501.017 Q205.602 500.669 206.621 500.507 Q207.639 500.322 208.658 500.322 Q214.445 500.322 217.824 503.494 Q221.204 506.665 221.204 512.081 Q221.204 517.66 217.732 520.762 Q214.26 523.841 207.94 523.841 Q205.764 523.841 203.496 523.47 Q201.25 523.1 198.843 522.359 L198.843 517.66 Q200.926 518.794 203.149 519.35 Q205.371 519.905 207.848 519.905 Q211.852 519.905 214.19 517.799 Q216.528 515.693 216.528 512.081 Q216.528 508.47 214.19 506.364 Q211.852 504.257 207.848 504.257 Q205.973 504.257 204.098 504.674 Q202.246 505.091 200.301 505.97 L200.301 488.609 Z\" fill=\"#000000\" fill-rule=\"evenodd\" fill-opacity=\"1\" /><path clip-path=\"url(#clip510)\" d=\"M154.839 289.912 L162.477 289.912 L162.477 263.546 L154.167 265.213 L154.167 260.953 L162.431 259.287 L167.107 259.287 L167.107 289.912 L174.746 289.912 L174.746 293.847 L154.839 293.847 L154.839 289.912 Z\" fill=\"#000000\" fill-rule=\"evenodd\" fill-opacity=\"1\" /><path clip-path=\"url(#clip510)\" d=\"M184.19 287.967 L189.075 287.967 L189.075 293.847 L184.19 293.847 L184.19 287.967 Z\" fill=\"#000000\" fill-rule=\"evenodd\" fill-opacity=\"1\" /><path clip-path=\"url(#clip510)\" d=\"M209.26 262.365 Q205.649 262.365 203.82 265.93 Q202.014 269.472 202.014 276.601 Q202.014 283.708 203.82 287.273 Q205.649 290.814 209.26 290.814 Q212.894 290.814 214.699 287.273 Q216.528 283.708 216.528 276.601 Q216.528 269.472 214.699 265.93 Q212.894 262.365 209.26 262.365 M209.26 258.662 Q215.07 258.662 218.125 263.268 Q221.204 267.851 221.204 276.601 Q221.204 285.328 218.125 289.935 Q215.07 294.518 209.26 294.518 Q203.449 294.518 200.371 289.935 Q197.315 285.328 197.315 276.601 Q197.315 267.851 200.371 263.268 Q203.449 258.662 209.26 258.662 Z\" fill=\"#000000\" fill-rule=\"evenodd\" fill-opacity=\"1\" /><path clip-path=\"url(#clip510)\" d=\"M155.834 60.5889 L163.473 60.5889 L163.473 34.2233 L155.163 35.89 L155.163 31.6308 L163.427 29.9641 L168.102 29.9641 L168.102 60.5889 L175.741 60.5889 L175.741 64.5241 L155.834 64.5241 L155.834 60.5889 Z\" fill=\"#000000\" fill-rule=\"evenodd\" fill-opacity=\"1\" /><path clip-path=\"url(#clip510)\" d=\"M185.186 58.6445 L190.07 58.6445 L190.07 64.5241 L185.186 64.5241 L185.186 58.6445 Z\" fill=\"#000000\" fill-rule=\"evenodd\" fill-opacity=\"1\" /><path clip-path=\"url(#clip510)\" d=\"M200.301 29.9641 L218.658 29.9641 L218.658 33.8993 L204.584 33.8993 L204.584 42.3714 Q205.602 42.0242 206.621 41.8622 Q207.639 41.677 208.658 41.677 Q214.445 41.677 217.824 44.8483 Q221.204 48.0196 221.204 53.4362 Q221.204 59.0149 217.732 62.1167 Q214.26 65.1954 207.94 65.1954 Q205.764 65.1954 203.496 64.825 Q201.25 64.4547 198.843 63.7139 L198.843 59.0149 Q200.926 60.1491 203.149 60.7047 Q205.371 61.2602 207.848 61.2602 Q211.852 61.2602 214.19 59.1538 Q216.528 57.0473 216.528 53.4362 Q216.528 49.8251 214.19 47.7186 Q211.852 45.6122 207.848 45.6122 Q205.973 45.6122 204.098 46.0288 Q202.246 46.4455 200.301 47.3251 L200.301 29.9641 Z\" fill=\"#000000\" fill-rule=\"evenodd\" fill-opacity=\"1\" /><path clip-path=\"url(#clip510)\" d=\"M30.8561 720.775 Q31.307 720.775 32.3698 721.064 L57.5548 727.377 Q63.1586 728.762 67.0877 733.27 Q71.0168 737.747 71.0168 742.836 Q71.0168 745.895 69.3743 747.86 Q67.764 749.824 65.2842 749.824 Q63.0942 749.824 62.0314 748.665 Q61.0008 747.505 61.0008 746.121 Q61.0008 745.67 61.1296 745.187 Q61.2584 744.703 61.8059 744.188 Q62.3534 743.673 63.2874 743.673 Q64.8011 743.673 65.9927 744.993 Q66.5402 745.637 66.669 746.249 Q66.7978 746.829 66.7978 747.827 Q67.6996 747.441 68.3115 746.732 Q68.9234 746.024 69.1489 745.219 Q69.4065 744.414 69.4709 743.898 Q69.5675 743.351 69.5675 742.836 Q69.5675 738.713 65.413 735.557 Q64.157 734.623 62.9009 733.947 Q61.6771 733.238 60.1634 732.723 Q58.682 732.208 57.8768 731.982 Q57.0717 731.725 55.2359 731.274 Q58.2311 734.269 58.2311 737.94 Q58.2311 739.486 57.8124 740.871 Q57.3937 742.224 56.5242 743.415 Q55.6224 744.607 54.0443 745.315 Q52.4662 745.992 50.3728 745.992 Q48.1506 745.992 45.1233 745.122 Q42.0959 744.253 36.5243 742.159 Q33.4004 741.032 31.8867 741.032 Q31.146 741.032 30.6951 741.193 Q30.212 741.354 30.051 741.676 Q29.8577 741.998 29.8255 742.191 Q29.7933 742.352 29.7933 742.675 Q29.7933 744.575 31.7257 746.346 Q33.658 748.117 37.9736 749.341 Q38.7787 749.599 38.972 749.76 Q39.1652 749.921 39.1652 750.404 Q39.133 751.209 38.4889 751.209 Q38.2312 751.209 37.2329 750.919 Q36.2023 750.629 34.6886 749.953 Q33.1427 749.245 31.7579 748.278 Q30.3408 747.312 29.3424 745.798 Q28.344 744.253 28.344 742.481 Q28.344 740.066 29.9221 738.584 Q31.468 737.071 33.7546 737.071 Q34.6886 737.071 35.5259 737.328 Q36.3311 737.554 38.4889 738.391 Q47.1845 741.773 51.4356 741.773 Q52.4662 741.773 53.3358 741.612 Q54.1731 741.418 55.0105 741 Q55.8156 740.581 56.2987 739.744 Q56.7496 738.874 56.7496 737.683 Q56.7496 736.169 56.0411 734.752 Q55.3003 733.303 54.302 732.401 Q53.3036 731.467 52.4662 730.919 Q51.5967 730.34 51.1458 730.211 L39.294 727.248 L34.0123 725.927 Q31.146 725.316 30.4374 725.026 Q29.7611 724.639 29.4068 723.963 Q29.0526 723.287 29.0526 722.707 Q29.0526 721.902 29.5357 721.354 Q30.0187 720.775 30.8561 720.775 Z\" fill=\"#000000\" fill-rule=\"evenodd\" fill-opacity=\"1\" /><polyline clip-path=\"url(#clip512)\" style=\"stroke:#ff0000; stroke-linecap:round; stroke-linejoin:round; stroke-width:4; stroke-opacity:1; fill:none\" points=\"\n",
       "  257.204,1412.1 269.678,1411.58 282.151,1411.05 294.625,1410.5 307.098,1409.94 319.572,1409.36 332.045,1408.77 344.519,1408.17 356.992,1407.55 369.466,1406.91 \n",
       "  381.939,1406.26 394.413,1405.59 406.886,1404.9 419.36,1404.19 431.833,1403.46 444.307,1402.71 456.78,1401.94 469.254,1401.14 481.727,1400.33 494.201,1399.48 \n",
       "  506.674,1398.62 519.148,1397.72 531.622,1396.8 544.095,1395.84 556.569,1394.86 569.042,1393.84 581.516,1392.79 593.989,1391.7 606.463,1390.57 618.936,1389.4 \n",
       "  631.41,1388.19 643.883,1386.94 656.357,1385.64 668.83,1384.29 681.304,1382.88 693.777,1381.42 706.251,1379.91 718.724,1378.32 731.198,1376.68 743.671,1374.96 \n",
       "  756.145,1373.16 768.618,1371.29 781.092,1369.32 793.566,1367.27 806.039,1365.12 818.513,1362.86 830.986,1360.48 843.46,1357.99 855.933,1355.36 868.407,1352.59 \n",
       "  880.88,1349.66 893.354,1346.57 905.827,1343.29 918.301,1339.82 930.774,1336.13 943.248,1332.2 955.721,1328.01 968.195,1323.53 980.668,1318.75 993.142,1313.61 \n",
       "  1005.62,1308.08 1018.09,1302.12 1030.56,1295.69 1043.04,1288.71 1055.51,1281.13 1067.98,1272.87 1080.46,1263.83 1092.93,1253.92 1105.4,1243 1117.88,1230.93 \n",
       "  1130.35,1217.55 1142.82,1202.64 1155.3,1185.97 1167.77,1167.26 1180.24,1146.18 1192.72,1122.38 1205.19,1095.43 1217.67,1064.9 1230.14,1030.35 1242.61,991.411 \n",
       "  1255.09,947.862 1267.56,899.76 1280.03,847.57 1292.51,792.247 1304.98,735.212 1317.45,678.177 1329.93,622.854 1342.4,570.664 1354.87,522.562 1367.35,479.013 \n",
       "  1379.82,440.073 1392.29,405.524 1404.77,374.993 1417.24,348.045 1429.72,324.24 1442.19,303.168 1454.66,284.458 1467.14,267.788 1479.61,252.878 1492.08,239.49 \n",
       "  1504.56,227.423 1517.03,216.505 1529.5,206.59 1541.98,197.554 1554.45,189.291 1566.92,181.711 1579.4,174.736 1591.87,168.299 1604.34,162.343 1616.82,156.817 \n",
       "  1629.29,151.679 1641.77,146.889 1654.24,142.415 1666.71,138.226 1679.19,134.298 1691.66,130.607 1704.13,127.132 1716.61,123.856 1729.08,120.762 1741.55,117.836 \n",
       "  1754.03,115.065 1766.5,112.437 1778.97,109.941 1791.45,107.568 1803.92,105.308 1816.39,103.155 1828.87,101.101 1841.34,99.1385 1853.81,97.2626 1866.29,95.4676 \n",
       "  1878.76,93.7482 1891.24,92.0999 1903.71,90.5184 1916.18,88.9997 1928.66,87.5402 1941.13,86.1365 1953.6,84.7856 1966.08,83.4845 1978.55,82.2305 1991.02,81.0211 \n",
       "  2003.5,79.8541 2015.97,78.7272 2028.44,77.6384 2040.92,76.5859 2053.39,75.5678 2065.86,74.5826 2078.34,73.6285 2090.81,72.7043 2103.29,71.8085 2115.76,70.9399 \n",
       "  2128.23,70.0972 2140.71,69.2793 2153.18,68.4851 2165.65,67.7136 2178.13,66.9639 2190.6,66.235 2203.07,65.5261 2215.55,64.8364 2228.02,64.1651 2240.49,63.5116 \n",
       "  2252.97,62.875 2265.44,62.2548 2277.91,61.6503 2290.39,61.061 2302.86,60.4862 2315.34,59.9256 2327.81,59.3784 2340.28,58.8443 2352.76,58.3228 \n",
       "  \"/>\n",
       "<polyline clip-path=\"url(#clip512)\" style=\"stroke:#000000; stroke-linecap:round; stroke-linejoin:round; stroke-width:8; stroke-opacity:1; fill:none\" points=\"\n",
       "  257.204,735.212 269.678,735.212 282.151,735.212 294.625,735.212 307.098,735.212 319.572,735.212 332.045,735.212 344.519,735.212 356.992,735.212 369.466,735.212 \n",
       "  381.939,735.212 394.413,735.212 406.886,735.212 419.36,735.212 431.833,735.212 444.307,735.212 456.78,735.212 469.254,735.212 481.727,735.212 494.201,735.212 \n",
       "  506.674,735.212 519.148,735.212 531.622,735.212 544.095,735.212 556.569,735.212 569.042,735.212 581.516,735.212 593.989,735.212 606.463,735.212 618.936,735.212 \n",
       "  631.41,735.212 643.883,735.212 656.357,735.212 668.83,735.212 681.304,735.212 693.777,735.212 706.251,735.212 718.724,735.212 731.198,735.212 743.671,735.212 \n",
       "  756.145,735.212 768.618,735.212 781.092,735.212 793.566,735.212 806.039,735.212 818.513,735.212 830.986,735.212 843.46,735.212 855.933,735.212 868.407,735.212 \n",
       "  880.88,735.212 893.354,735.212 905.827,735.212 918.301,735.212 930.774,735.212 943.248,735.212 955.721,735.212 968.195,735.212 980.668,735.212 993.142,735.212 \n",
       "  1005.62,735.212 1018.09,735.212 1030.56,735.212 1043.04,735.212 1055.51,735.212 1067.98,735.212 1080.46,735.212 1092.93,735.212 1105.4,735.212 1117.88,735.212 \n",
       "  1130.35,735.212 1142.82,735.212 1155.3,735.212 1167.77,735.212 1180.24,735.212 1192.72,735.212 1205.19,735.212 1217.67,735.212 1230.14,735.212 1242.61,735.212 \n",
       "  1255.09,735.212 1267.56,735.212 1280.03,735.212 1292.51,735.212 1304.98,735.212 1317.45,735.212 1329.93,735.212 1342.4,735.212 1354.87,735.212 1367.35,735.212 \n",
       "  1379.82,735.212 1392.29,735.212 1404.77,735.212 1417.24,735.212 1429.72,735.212 1442.19,735.212 1454.66,735.212 1467.14,735.212 1479.61,735.212 1492.08,735.212 \n",
       "  1504.56,735.212 1517.03,735.212 1529.5,735.212 1541.98,735.212 1554.45,735.212 1566.92,735.212 1579.4,735.212 1591.87,735.212 1604.34,735.212 1616.82,735.212 \n",
       "  1629.29,735.212 1641.77,735.212 1654.24,735.212 1666.71,735.212 1679.19,735.212 1691.66,735.212 1704.13,735.212 1716.61,735.212 1729.08,735.212 1741.55,735.212 \n",
       "  1754.03,735.212 1766.5,735.212 1778.97,735.212 1791.45,735.212 1803.92,735.212 1816.39,735.212 1828.87,735.212 1841.34,735.212 1853.81,735.212 1866.29,735.212 \n",
       "  1878.76,735.212 1891.24,735.212 1903.71,735.212 1916.18,735.212 1928.66,735.212 1941.13,735.212 1953.6,735.212 1966.08,735.212 1978.55,735.212 1991.02,735.212 \n",
       "  2003.5,735.212 2015.97,735.212 2028.44,735.212 2040.92,735.212 2053.39,735.212 2065.86,735.212 2078.34,735.212 2090.81,735.212 2103.29,735.212 2115.76,735.212 \n",
       "  2128.23,735.212 2140.71,735.212 2153.18,735.212 2165.65,735.212 2178.13,735.212 2190.6,735.212 2203.07,735.212 2215.55,735.212 2228.02,735.212 2240.49,735.212 \n",
       "  2252.97,735.212 2265.44,735.212 2277.91,735.212 2290.39,735.212 2302.86,735.212 2315.34,735.212 2327.81,735.212 2340.28,735.212 2352.76,735.212 \n",
       "  \"/>\n",
       "<polyline clip-path=\"url(#clip512)\" style=\"stroke:#0000ff; stroke-linecap:round; stroke-linejoin:round; stroke-width:8; stroke-opacity:1; fill:none\" points=\"\n",
       "  1205.19,821.208 1604.34,821.208 \n",
       "  \"/>\n",
       "<path clip-path=\"url(#clip512)\" d=\"\n",
       "M621.034 735.212 L1404.77 374.993 L1326.39 735.212 L621.034 735.212  Z\n",
       "  \" fill=\"#808080\" fill-rule=\"evenodd\" fill-opacity=\"0.2\"/>\n",
       "<polyline clip-path=\"url(#clip512)\" style=\"stroke:#000000; stroke-linecap:round; stroke-linejoin:round; stroke-width:4; stroke-opacity:0.2; fill:none\" points=\"\n",
       "  621.034,735.212 1404.77,374.993 1326.39,735.212 621.034,735.212 \n",
       "  \"/>\n",
       "<polyline clip-path=\"url(#clip512)\" style=\"stroke:#008000; stroke-linecap:round; stroke-linejoin:round; stroke-width:8; stroke-opacity:1; fill:none\" points=\"\n",
       "  621.034,763.877 1326.39,763.877 \n",
       "  \"/>\n",
       "<polyline clip-path=\"url(#clip512)\" style=\"stroke:#ff0000; stroke-linecap:round; stroke-linejoin:round; stroke-width:8; stroke-opacity:1; fill:none\" points=\"\n",
       "  1205.19,792.543 1326.39,792.543 \n",
       "  \"/>\n",
       "<path clip-path=\"url(#clip512)\" d=\"\n",
       "M1205.19 735.212 L1404.77 374.993 L1326.39 735.212 L1205.19 735.212  Z\n",
       "  \" fill=\"#808080\" fill-rule=\"evenodd\" fill-opacity=\"0.4\"/>\n",
       "<polyline clip-path=\"url(#clip512)\" style=\"stroke:#000000; stroke-linecap:round; stroke-linejoin:round; stroke-width:4; stroke-opacity:0.4; fill:none\" points=\"\n",
       "  1205.19,735.212 1404.77,374.993 1326.39,735.212 1205.19,735.212 \n",
       "  \"/>\n",
       "<polyline clip-path=\"url(#clip512)\" style=\"stroke:#808080; stroke-linecap:round; stroke-linejoin:round; stroke-width:4; stroke-opacity:0.8; fill:none\" stroke-dasharray=\"2, 4\" points=\"\n",
       "  1404.77,821.208 1404.77,374.993 \n",
       "  \"/>\n",
       "<circle clip-path=\"url(#clip512)\" cx=\"1404.77\" cy=\"821.208\" r=\"14.4\" fill=\"#808080\" fill-rule=\"evenodd\" fill-opacity=\"0.8\" stroke=\"#000000\" stroke-opacity=\"0.8\" stroke-width=\"3.2\"/>\n",
       "<circle clip-path=\"url(#clip512)\" cx=\"1404.77\" cy=\"374.993\" r=\"14.4\" fill=\"#808080\" fill-rule=\"evenodd\" fill-opacity=\"0.8\" stroke=\"#000000\" stroke-opacity=\"0.8\" stroke-width=\"3.2\"/>\n",
       "<path clip-path=\"url(#clip510)\" d=\"\n",
       "M327.056 352.309 L801.628 352.309 L801.628 93.1086 L327.056 93.1086  Z\n",
       "  \" fill=\"#ffffff\" fill-rule=\"evenodd\" fill-opacity=\"1\"/>\n",
       "<polyline clip-path=\"url(#clip510)\" style=\"stroke:#000000; stroke-linecap:round; stroke-linejoin:round; stroke-width:4; stroke-opacity:1; fill:none\" points=\"\n",
       "  327.056,352.309 801.628,352.309 801.628,93.1086 327.056,93.1086 327.056,352.309 \n",
       "  \"/>\n",
       "<polyline clip-path=\"url(#clip510)\" style=\"stroke:#ff0000; stroke-linecap:round; stroke-linejoin:round; stroke-width:4; stroke-opacity:1; fill:none\" points=\"\n",
       "  350.34,144.949 490.043,144.949 \n",
       "  \"/>\n",
       "<path clip-path=\"url(#clip510)\" d=\"M535.344 137.875 Q535.344 137.898 535.204 138.741 L529.863 160.032 Q529.582 161.157 528.786 162.281 Q528.013 163.429 526.772 164.412 Q525.554 165.42 523.68 166.029 Q521.829 166.661 519.698 166.661 Q516.302 166.661 514.803 165.935 Q513.327 165.232 513.327 163.733 Q513.327 162.422 514.147 161.672 Q514.967 160.946 515.904 160.946 Q516.794 160.946 517.262 161.461 Q517.73 161.977 517.73 162.632 Q517.73 163.358 517.239 164.085 Q516.747 164.834 515.763 165.115 Q517.332 165.607 519.604 165.607 Q524.406 165.607 526.467 160.524 Q526.514 160.454 526.514 160.431 L528.107 154.083 L528.036 154.036 Q527.638 154.505 527.006 155.044 Q526.397 155.559 525.085 156.191 Q523.773 156.824 522.485 156.824 Q519.792 156.824 517.941 154.762 Q516.114 152.678 516.114 149.235 Q516.114 146.729 517.121 144.222 Q518.152 141.693 519.745 139.842 Q521.361 137.969 523.422 136.797 Q525.507 135.626 527.521 135.626 Q528.926 135.626 530.121 136.47 Q531.315 137.289 531.971 138.648 Q532.088 137.524 532.721 137.055 Q533.377 136.587 533.939 136.587 Q534.571 136.587 534.946 136.938 Q535.344 137.266 535.344 137.875 M531.409 140.803 Q531.409 140.662 531.315 140.287 Q531.222 139.889 530.941 139.257 Q530.683 138.624 530.285 138.062 Q529.887 137.5 529.161 137.102 Q528.458 136.68 527.568 136.68 Q526.116 136.68 524.663 137.898 Q523.211 139.093 522.204 140.943 Q521.267 142.723 520.377 146.166 Q519.511 149.61 519.511 151.366 Q519.511 153.099 520.26 154.435 Q521.01 155.77 522.626 155.77 Q524.5 155.77 526.514 154.036 Q528.598 152.233 528.95 150.687 L531.269 141.529 Q531.409 140.967 531.409 140.803 Z\" fill=\"#000000\" fill-rule=\"evenodd\" fill-opacity=\"1\" /><path clip-path=\"url(#clip510)\" d=\"M541.916 144.831 Q541.916 136.727 544.937 130.192 Q546.225 127.452 548.029 125.156 Q549.833 122.861 551.027 121.854 Q552.222 120.847 552.55 120.847 Q553.018 120.847 553.041 121.315 Q553.041 121.549 552.409 122.135 Q544.68 130.005 544.703 144.831 Q544.703 159.705 552.222 167.27 Q553.041 168.09 553.041 168.347 Q553.041 168.816 552.55 168.816 Q552.222 168.816 551.074 167.856 Q549.926 166.895 548.146 164.694 Q546.366 162.492 545.078 159.798 Q541.916 153.263 541.916 144.831 Z\" fill=\"#000000\" fill-rule=\"evenodd\" fill-opacity=\"1\" /><path clip-path=\"url(#clip510)\" d=\"M580.574 138.788 Q580.574 140.1 579.754 140.85 Q578.935 141.576 577.998 141.576 Q577.108 141.576 576.639 141.06 Q576.171 140.545 576.171 139.889 Q576.171 138.999 576.827 138.226 Q577.482 137.453 578.466 137.289 Q577.506 136.68 576.077 136.68 Q575.14 136.68 574.32 137.172 Q573.524 137.664 573.032 138.296 Q572.564 138.929 572.142 139.842 Q571.744 140.732 571.58 141.271 Q571.439 141.786 571.322 142.349 L569.683 148.907 Q568.886 152.022 568.886 153.123 Q568.886 154.481 569.542 155.395 Q570.198 156.285 571.51 156.285 Q572.025 156.285 572.611 156.144 Q573.196 155.98 573.946 155.559 Q574.719 155.114 575.398 154.458 Q576.1 153.779 576.78 152.631 Q577.459 151.483 577.904 150.008 Q578.045 149.492 578.513 149.492 Q579.099 149.492 579.099 149.961 Q579.099 150.359 578.771 151.202 Q578.466 152.022 577.787 153.099 Q577.131 154.153 576.264 155.114 Q575.398 156.051 574.11 156.707 Q572.821 157.362 571.416 157.362 Q569.402 157.362 568.067 156.285 Q566.732 155.207 566.24 153.708 Q566.123 153.919 565.959 154.2 Q565.795 154.481 565.303 155.114 Q564.834 155.723 564.296 156.191 Q563.757 156.636 562.914 156.988 Q562.094 157.362 561.204 157.362 Q560.08 157.362 559.072 157.034 Q558.089 156.707 557.386 155.957 Q556.683 155.207 556.683 154.177 Q556.683 153.029 557.456 152.233 Q558.253 151.413 559.33 151.413 Q560.009 151.413 560.548 151.811 Q561.11 152.209 561.11 153.076 Q561.11 154.036 560.454 154.762 Q559.798 155.489 558.862 155.676 Q559.822 156.285 561.251 156.285 Q562.797 156.285 564.015 154.926 Q565.232 153.568 565.818 151.296 Q567.27 145.838 567.832 143.403 Q568.395 140.943 568.395 139.889 Q568.395 138.905 568.137 138.226 Q567.879 137.547 567.434 137.242 Q567.013 136.915 566.614 136.797 Q566.24 136.68 565.818 136.68 Q565.115 136.68 564.319 136.961 Q563.546 137.242 562.609 137.898 Q561.696 138.531 560.829 139.842 Q559.962 141.154 559.377 142.958 Q559.26 143.496 558.744 143.496 Q558.182 143.473 558.182 143.004 Q558.182 142.606 558.487 141.786 Q558.815 140.943 559.471 139.889 Q560.15 138.835 561.016 137.898 Q561.906 136.938 563.195 136.282 Q564.506 135.626 565.912 135.626 Q566.544 135.626 567.153 135.767 Q567.786 135.884 568.535 136.235 Q569.308 136.587 569.987 137.36 Q570.666 138.133 571.088 139.257 Q571.369 138.718 571.744 138.203 Q572.142 137.687 572.751 137.055 Q573.383 136.399 574.25 136.024 Q575.14 135.626 576.124 135.626 Q577.084 135.626 578.021 135.884 Q578.958 136.118 579.754 136.891 Q580.574 137.641 580.574 138.788 Z\" fill=\"#000000\" fill-rule=\"evenodd\" fill-opacity=\"1\" /><path clip-path=\"url(#clip510)\" d=\"M585.187 168.347 Q585.187 168.113 585.796 167.528 Q593.525 159.658 593.525 144.831 Q593.525 129.958 586.1 122.439 Q585.187 121.573 585.187 121.315 Q585.187 120.847 585.655 120.847 Q585.983 120.847 587.131 121.807 Q588.302 122.767 590.059 124.969 Q591.839 127.171 593.15 129.864 Q596.312 136.399 596.312 144.831 Q596.312 152.935 593.291 159.47 Q592.003 162.211 590.199 164.506 Q588.396 166.802 587.201 167.809 Q586.006 168.816 585.655 168.816 Q585.187 168.816 585.187 168.347 Z\" fill=\"#000000\" fill-rule=\"evenodd\" fill-opacity=\"1\" /><polyline clip-path=\"url(#clip510)\" style=\"stroke:#0000ff; stroke-linecap:round; stroke-linejoin:round; stroke-width:8; stroke-opacity:1; fill:none\" points=\"\n",
       "  350.34,196.789 490.043,196.789 \n",
       "  \"/>\n",
       "<path clip-path=\"url(#clip510)\" d=\"M513.327 219.317 L513.327 171.348 L520.565 171.348 L520.565 172.449 L516.536 172.449 L516.536 218.216 L520.565 218.216 L520.565 219.317 L513.327 219.317 Z\" fill=\"#000000\" fill-rule=\"evenodd\" fill-opacity=\"1\" /><path clip-path=\"url(#clip510)\" d=\"M550.415 189.289 Q550.415 190.601 549.595 191.35 Q548.775 192.077 547.838 192.077 Q546.948 192.077 546.48 191.561 Q546.012 191.046 546.012 190.39 Q546.012 189.5 546.667 188.727 Q547.323 187.954 548.307 187.79 Q547.347 187.181 545.918 187.181 Q544.981 187.181 544.161 187.673 Q543.365 188.165 542.873 188.797 Q542.404 189.43 541.983 190.343 Q541.585 191.233 541.421 191.772 Q541.28 192.287 541.163 192.849 L539.524 199.408 Q538.727 202.523 538.727 203.624 Q538.727 204.982 539.383 205.896 Q540.039 206.786 541.35 206.786 Q541.866 206.786 542.451 206.645 Q543.037 206.481 543.786 206.06 Q544.559 205.615 545.239 204.959 Q545.941 204.28 546.621 203.132 Q547.3 201.984 547.745 200.509 Q547.885 199.993 548.354 199.993 Q548.939 199.993 548.939 200.462 Q548.939 200.86 548.611 201.703 Q548.307 202.523 547.628 203.6 Q546.972 204.654 546.105 205.615 Q545.239 206.552 543.95 207.207 Q542.662 207.863 541.257 207.863 Q539.242 207.863 537.907 206.786 Q536.572 205.708 536.08 204.209 Q535.963 204.42 535.799 204.701 Q535.635 204.982 535.144 205.615 Q534.675 206.224 534.136 206.692 Q533.598 207.137 532.754 207.489 Q531.935 207.863 531.045 207.863 Q529.92 207.863 528.913 207.535 Q527.929 207.207 527.227 206.458 Q526.524 205.708 526.524 204.678 Q526.524 203.53 527.297 202.734 Q528.093 201.914 529.171 201.914 Q529.85 201.914 530.389 202.312 Q530.951 202.71 530.951 203.577 Q530.951 204.537 530.295 205.263 Q529.639 205.989 528.702 206.177 Q529.663 206.786 531.091 206.786 Q532.637 206.786 533.855 205.427 Q535.073 204.069 535.659 201.797 Q537.111 196.339 537.673 193.903 Q538.235 191.444 538.235 190.39 Q538.235 189.406 537.978 188.727 Q537.72 188.048 537.275 187.743 Q536.853 187.415 536.455 187.298 Q536.08 187.181 535.659 187.181 Q534.956 187.181 534.16 187.462 Q533.387 187.743 532.45 188.399 Q531.536 189.032 530.67 190.343 Q529.803 191.655 529.218 193.458 Q529.101 193.997 528.585 193.997 Q528.023 193.974 528.023 193.505 Q528.023 193.107 528.328 192.287 Q528.655 191.444 529.311 190.39 Q529.991 189.336 530.857 188.399 Q531.747 187.439 533.035 186.783 Q534.347 186.127 535.753 186.127 Q536.385 186.127 536.994 186.268 Q537.626 186.385 538.376 186.736 Q539.149 187.088 539.828 187.861 Q540.507 188.633 540.929 189.758 Q541.21 189.219 541.585 188.704 Q541.983 188.188 542.592 187.556 Q543.224 186.9 544.091 186.525 Q544.981 186.127 545.965 186.127 Q546.925 186.127 547.862 186.385 Q548.799 186.619 549.595 187.392 Q550.415 188.142 550.415 189.289 Z\" fill=\"#000000\" fill-rule=\"evenodd\" fill-opacity=\"1\" /><path clip-path=\"url(#clip510)\" d=\"M555.3 210.406 Q555.3 205.471 556.546 202.782 Q558.284 198.781 562.383 198.781 Q563.252 198.781 564.154 199.027 Q565.072 199.257 566.22 200.158 Q567.384 201.06 568.089 202.536 Q569.433 205.389 569.433 210.406 Q569.433 215.308 568.187 217.98 Q566.367 221.883 562.35 221.883 Q560.842 221.883 559.301 221.112 Q557.776 220.341 556.809 218.489 Q555.3 215.718 555.3 210.406 M558.088 209.996 Q558.088 215.062 558.448 217.079 Q558.858 219.259 559.973 220.21 Q561.104 221.145 562.35 221.145 Q563.695 221.145 564.81 220.145 Q565.941 219.128 566.285 216.948 Q566.663 214.8 566.646 209.996 Q566.646 205.323 566.318 203.454 Q565.876 201.273 564.695 200.404 Q563.531 199.519 562.35 199.519 Q561.908 199.519 561.432 199.65 Q560.973 199.781 560.301 200.158 Q559.629 200.535 559.104 201.47 Q558.596 202.405 558.35 203.815 Q558.088 205.635 558.088 209.996 Z\" fill=\"#000000\" fill-rule=\"evenodd\" fill-opacity=\"1\" /><path clip-path=\"url(#clip510)\" d=\"M574.409 218.216 L578.438 218.216 L578.438 172.449 L574.409 172.449 L574.409 171.348 L581.647 171.348 L581.647 219.317 L574.409 219.317 L574.409 218.216 Z\" fill=\"#000000\" fill-rule=\"evenodd\" fill-opacity=\"1\" /><polyline clip-path=\"url(#clip510)\" style=\"stroke:#008000; stroke-linecap:round; stroke-linejoin:round; stroke-width:8; stroke-opacity:1; fill:none\" points=\"\n",
       "  350.34,248.629 490.043,248.629 \n",
       "  \"/>\n",
       "<path clip-path=\"url(#clip510)\" d=\"M553.707 226.935 Q553.707 227.896 552.888 227.896 Q550.241 227.989 549.163 228.879 Q548.109 229.746 547.711 231.432 L541.012 258.157 Q540.778 259.001 540.638 259.094 Q540.497 259.165 540.239 259.165 Q539.912 259.165 539.724 259.001 Q539.56 258.837 539.326 258.251 L527.381 230.004 Q527.287 229.816 527.17 229.559 Q527.053 229.301 526.959 229.137 L520.611 254.457 Q520.424 255.183 520.424 255.558 Q520.424 256.471 521.056 257.057 Q521.712 257.619 523.586 257.689 Q524.546 257.689 524.546 258.204 Q524.546 259.165 523.68 259.165 Q522.883 259.165 521.22 259.094 Q519.557 259.024 518.738 259.024 Q517.941 259.024 516.325 259.094 Q514.709 259.165 513.936 259.165 Q513.327 259.165 513.327 258.626 Q513.327 258.204 513.491 257.993 Q513.655 257.759 513.795 257.736 Q513.936 257.689 514.147 257.689 Q515.552 257.642 516.512 257.361 Q517.473 257.08 518.012 256.541 Q518.574 256.003 518.831 255.464 Q519.112 254.902 519.323 254.082 L525.741 228.317 Q525.741 227.896 522.485 227.896 Q521.923 227.896 521.689 227.872 Q521.478 227.849 521.314 227.732 Q521.15 227.615 521.15 227.357 Q521.15 226.701 521.431 226.561 Q521.712 226.397 522.532 226.397 L528.973 226.397 Q529.793 226.397 530.004 226.537 Q530.215 226.654 530.496 227.31 L541.106 252.349 L546.47 231.011 Q546.61 230.589 546.61 230.004 Q546.61 229.067 545.908 228.505 Q545.228 227.919 543.355 227.896 Q542.488 227.896 542.488 227.357 Q542.488 226.912 542.652 226.701 Q542.839 226.467 542.98 226.443 Q543.144 226.397 543.355 226.397 Q544.151 226.397 545.791 226.467 Q547.43 226.537 548.25 226.537 Q549.046 226.537 550.662 226.467 Q552.302 226.397 553.098 226.397 Q553.379 226.397 553.52 226.537 Q553.684 226.654 553.707 226.795 L553.707 226.935 Z\" fill=\"#000000\" fill-rule=\"evenodd\" fill-opacity=\"1\" /><path clip-path=\"url(#clip510)\" d=\"M558.561 247.172 Q558.561 239.068 561.582 232.533 Q562.871 229.793 564.674 227.497 Q566.478 225.202 567.672 224.195 Q568.867 223.188 569.195 223.188 Q569.663 223.188 569.687 223.656 Q569.687 223.89 569.054 224.476 Q561.325 232.346 561.348 247.172 Q561.348 262.046 568.867 269.611 Q569.687 270.431 569.687 270.688 Q569.687 271.157 569.195 271.157 Q568.867 271.157 567.719 270.197 Q566.571 269.236 564.791 267.034 Q563.011 264.833 561.723 262.139 Q558.561 255.604 558.561 247.172 Z\" fill=\"#000000\" fill-rule=\"evenodd\" fill-opacity=\"1\" /><path clip-path=\"url(#clip510)\" d=\"M577.936 271.157 L577.936 223.188 L585.174 223.188 L585.174 224.289 L581.145 224.289 L581.145 270.056 L585.174 270.056 L585.174 271.157 L577.936 271.157 Z\" fill=\"#000000\" fill-rule=\"evenodd\" fill-opacity=\"1\" /><path clip-path=\"url(#clip510)\" d=\"M615.024 241.129 Q615.024 242.441 614.205 243.19 Q613.385 243.917 612.448 243.917 Q611.558 243.917 611.089 243.401 Q610.621 242.886 610.621 242.23 Q610.621 241.34 611.277 240.567 Q611.933 239.794 612.916 239.63 Q611.956 239.021 610.527 239.021 Q609.59 239.021 608.771 239.513 Q607.974 240.005 607.482 240.637 Q607.014 241.27 606.592 242.183 Q606.194 243.073 606.03 243.612 Q605.89 244.127 605.772 244.689 L604.133 251.248 Q603.337 254.363 603.337 255.464 Q603.337 256.822 603.992 257.736 Q604.648 258.626 605.96 258.626 Q606.475 258.626 607.061 258.485 Q607.646 258.321 608.396 257.9 Q609.169 257.455 609.848 256.799 Q610.551 256.12 611.23 254.972 Q611.909 253.824 612.354 252.349 Q612.495 251.833 612.963 251.833 Q613.549 251.833 613.549 252.302 Q613.549 252.7 613.221 253.543 Q612.916 254.363 612.237 255.44 Q611.581 256.494 610.715 257.455 Q609.848 258.392 608.56 259.047 Q607.272 259.703 605.866 259.703 Q603.852 259.703 602.517 258.626 Q601.182 257.548 600.69 256.049 Q600.573 256.26 600.409 256.541 Q600.245 256.822 599.753 257.455 Q599.284 258.064 598.746 258.532 Q598.207 258.977 597.364 259.329 Q596.544 259.703 595.654 259.703 Q594.53 259.703 593.523 259.375 Q592.539 259.047 591.836 258.298 Q591.133 257.548 591.133 256.518 Q591.133 255.37 591.906 254.574 Q592.703 253.754 593.78 253.754 Q594.459 253.754 594.998 254.152 Q595.56 254.55 595.56 255.417 Q595.56 256.377 594.904 257.103 Q594.249 257.829 593.312 258.017 Q594.272 258.626 595.701 258.626 Q597.247 258.626 598.465 257.267 Q599.683 255.909 600.268 253.637 Q601.72 248.179 602.283 245.743 Q602.845 243.284 602.845 242.23 Q602.845 241.246 602.587 240.567 Q602.329 239.888 601.884 239.583 Q601.463 239.255 601.065 239.138 Q600.69 239.021 600.268 239.021 Q599.566 239.021 598.769 239.302 Q597.996 239.583 597.059 240.239 Q596.146 240.872 595.279 242.183 Q594.413 243.495 593.827 245.298 Q593.71 245.837 593.195 245.837 Q592.633 245.814 592.633 245.345 Q592.633 244.947 592.937 244.127 Q593.265 243.284 593.921 242.23 Q594.6 241.176 595.467 240.239 Q596.357 239.279 597.645 238.623 Q598.957 237.967 600.362 237.967 Q600.994 237.967 601.603 238.108 Q602.236 238.225 602.985 238.576 Q603.758 238.928 604.437 239.701 Q605.117 240.473 605.538 241.598 Q605.819 241.059 606.194 240.544 Q606.592 240.028 607.201 239.396 Q607.834 238.74 608.7 238.365 Q609.59 237.967 610.574 237.967 Q611.534 237.967 612.471 238.225 Q613.408 238.459 614.205 239.232 Q615.024 239.982 615.024 241.129 Z\" fill=\"#000000\" fill-rule=\"evenodd\" fill-opacity=\"1\" /><path clip-path=\"url(#clip510)\" d=\"M619.91 262.246 Q619.91 257.311 621.156 254.622 Q622.894 250.621 626.993 250.621 Q627.862 250.621 628.763 250.867 Q629.682 251.097 630.829 251.998 Q631.993 252.9 632.698 254.376 Q634.043 257.229 634.043 262.246 Q634.043 267.148 632.797 269.82 Q630.977 273.723 626.96 273.723 Q625.451 273.723 623.91 272.952 Q622.385 272.181 621.418 270.329 Q619.91 267.558 619.91 262.246 M622.697 261.836 Q622.697 266.902 623.058 268.919 Q623.468 271.099 624.582 272.05 Q625.714 272.985 626.96 272.985 Q628.304 272.985 629.419 271.985 Q630.551 270.968 630.895 268.788 Q631.272 266.64 631.256 261.836 Q631.256 257.163 630.928 255.294 Q630.485 253.113 629.304 252.244 Q628.14 251.359 626.96 251.359 Q626.517 251.359 626.042 251.49 Q625.583 251.621 624.91 251.998 Q624.238 252.375 623.714 253.31 Q623.205 254.245 622.959 255.655 Q622.697 257.475 622.697 261.836 Z\" fill=\"#000000\" fill-rule=\"evenodd\" fill-opacity=\"1\" /><path clip-path=\"url(#clip510)\" d=\"M639.019 270.056 L643.047 270.056 L643.047 224.289 L639.019 224.289 L639.019 223.188 L646.256 223.188 L646.256 271.157 L639.019 271.157 L639.019 270.056 Z\" fill=\"#000000\" fill-rule=\"evenodd\" fill-opacity=\"1\" /><path clip-path=\"url(#clip510)\" d=\"M653.752 270.688 Q653.752 270.454 654.361 269.869 Q662.09 261.999 662.09 247.172 Q662.09 232.299 654.665 224.78 Q653.752 223.914 653.752 223.656 Q653.752 223.188 654.22 223.188 Q654.548 223.188 655.696 224.148 Q656.867 225.108 658.624 227.31 Q660.404 229.512 661.715 232.205 Q664.877 238.74 664.877 247.172 Q664.877 255.276 661.856 261.811 Q660.568 264.552 658.764 266.847 Q656.961 269.143 655.766 270.15 Q654.572 271.157 654.22 271.157 Q653.752 271.157 653.752 270.688 Z\" fill=\"#000000\" fill-rule=\"evenodd\" fill-opacity=\"1\" /><polyline clip-path=\"url(#clip510)\" style=\"stroke:#ff0000; stroke-linecap:round; stroke-linejoin:round; stroke-width:8; stroke-opacity:1; fill:none\" points=\"\n",
       "  350.34,300.469 490.043,300.469 \n",
       "  \"/>\n",
       "<path clip-path=\"url(#clip510)\" d=\"M553.707 278.775 Q553.707 279.736 552.888 279.736 Q550.241 279.829 549.163 280.719 Q548.109 281.586 547.711 283.272 L541.012 309.997 Q540.778 310.841 540.638 310.934 Q540.497 311.005 540.239 311.005 Q539.912 311.005 539.724 310.841 Q539.56 310.677 539.326 310.091 L527.381 281.844 Q527.287 281.656 527.17 281.399 Q527.053 281.141 526.959 280.977 L520.611 306.297 Q520.424 307.023 520.424 307.398 Q520.424 308.311 521.056 308.897 Q521.712 309.459 523.586 309.529 Q524.546 309.529 524.546 310.044 Q524.546 311.005 523.68 311.005 Q522.883 311.005 521.22 310.934 Q519.557 310.864 518.738 310.864 Q517.941 310.864 516.325 310.934 Q514.709 311.005 513.936 311.005 Q513.327 311.005 513.327 310.466 Q513.327 310.044 513.491 309.833 Q513.655 309.599 513.795 309.576 Q513.936 309.529 514.147 309.529 Q515.552 309.482 516.512 309.201 Q517.473 308.92 518.012 308.381 Q518.574 307.843 518.831 307.304 Q519.112 306.742 519.323 305.922 L525.741 280.157 Q525.741 279.736 522.485 279.736 Q521.923 279.736 521.689 279.712 Q521.478 279.689 521.314 279.572 Q521.15 279.455 521.15 279.197 Q521.15 278.541 521.431 278.401 Q521.712 278.237 522.532 278.237 L528.973 278.237 Q529.793 278.237 530.004 278.377 Q530.215 278.494 530.496 279.15 L541.106 304.189 L546.47 282.851 Q546.61 282.429 546.61 281.844 Q546.61 280.907 545.908 280.345 Q545.228 279.759 543.355 279.736 Q542.488 279.736 542.488 279.197 Q542.488 278.752 542.652 278.541 Q542.839 278.307 542.98 278.283 Q543.144 278.237 543.355 278.237 Q544.151 278.237 545.791 278.307 Q547.43 278.377 548.25 278.377 Q549.046 278.377 550.662 278.307 Q552.302 278.237 553.098 278.237 Q553.379 278.237 553.52 278.377 Q553.684 278.494 553.707 278.635 L553.707 278.775 Z\" fill=\"#000000\" fill-rule=\"evenodd\" fill-opacity=\"1\" /><path clip-path=\"url(#clip510)\" d=\"M558.561 299.012 Q558.561 290.908 561.582 284.373 Q562.871 281.633 564.674 279.337 Q566.478 277.042 567.672 276.035 Q568.867 275.028 569.195 275.028 Q569.663 275.028 569.687 275.496 Q569.687 275.73 569.054 276.316 Q561.325 284.186 561.348 299.012 Q561.348 313.886 568.867 321.451 Q569.687 322.271 569.687 322.528 Q569.687 322.997 569.195 322.997 Q568.867 322.997 567.719 322.037 Q566.571 321.076 564.791 318.874 Q563.011 316.673 561.723 313.979 Q558.561 307.444 558.561 299.012 Z\" fill=\"#000000\" fill-rule=\"evenodd\" fill-opacity=\"1\" /><path clip-path=\"url(#clip510)\" d=\"M577.936 322.997 L577.936 275.028 L585.174 275.028 L585.174 276.129 L581.145 276.129 L581.145 321.896 L585.174 321.896 L585.174 322.997 L577.936 322.997 Z\" fill=\"#000000\" fill-rule=\"evenodd\" fill-opacity=\"1\" /><path clip-path=\"url(#clip510)\" d=\"M615.024 292.969 Q615.024 294.281 614.205 295.03 Q613.385 295.757 612.448 295.757 Q611.558 295.757 611.089 295.241 Q610.621 294.726 610.621 294.07 Q610.621 293.18 611.277 292.407 Q611.933 291.634 612.916 291.47 Q611.956 290.861 610.527 290.861 Q609.59 290.861 608.771 291.353 Q607.974 291.845 607.482 292.477 Q607.014 293.11 606.592 294.023 Q606.194 294.913 606.03 295.452 Q605.89 295.967 605.772 296.529 L604.133 303.088 Q603.337 306.203 603.337 307.304 Q603.337 308.662 603.992 309.576 Q604.648 310.466 605.96 310.466 Q606.475 310.466 607.061 310.325 Q607.646 310.161 608.396 309.74 Q609.169 309.295 609.848 308.639 Q610.551 307.96 611.23 306.812 Q611.909 305.664 612.354 304.189 Q612.495 303.673 612.963 303.673 Q613.549 303.673 613.549 304.142 Q613.549 304.54 613.221 305.383 Q612.916 306.203 612.237 307.28 Q611.581 308.334 610.715 309.295 Q609.848 310.232 608.56 310.887 Q607.272 311.543 605.866 311.543 Q603.852 311.543 602.517 310.466 Q601.182 309.388 600.69 307.889 Q600.573 308.1 600.409 308.381 Q600.245 308.662 599.753 309.295 Q599.284 309.904 598.746 310.372 Q598.207 310.817 597.364 311.169 Q596.544 311.543 595.654 311.543 Q594.53 311.543 593.523 311.215 Q592.539 310.887 591.836 310.138 Q591.133 309.388 591.133 308.358 Q591.133 307.21 591.906 306.414 Q592.703 305.594 593.78 305.594 Q594.459 305.594 594.998 305.992 Q595.56 306.39 595.56 307.257 Q595.56 308.217 594.904 308.943 Q594.249 309.669 593.312 309.857 Q594.272 310.466 595.701 310.466 Q597.247 310.466 598.465 309.107 Q599.683 307.749 600.268 305.477 Q601.72 300.019 602.283 297.583 Q602.845 295.124 602.845 294.07 Q602.845 293.086 602.587 292.407 Q602.329 291.728 601.884 291.423 Q601.463 291.095 601.065 290.978 Q600.69 290.861 600.268 290.861 Q599.566 290.861 598.769 291.142 Q597.996 291.423 597.059 292.079 Q596.146 292.712 595.279 294.023 Q594.413 295.335 593.827 297.138 Q593.71 297.677 593.195 297.677 Q592.633 297.654 592.633 297.185 Q592.633 296.787 592.937 295.967 Q593.265 295.124 593.921 294.07 Q594.6 293.016 595.467 292.079 Q596.357 291.119 597.645 290.463 Q598.957 289.807 600.362 289.807 Q600.994 289.807 601.603 289.948 Q602.236 290.065 602.985 290.416 Q603.758 290.768 604.437 291.541 Q605.117 292.313 605.538 293.438 Q605.819 292.899 606.194 292.384 Q606.592 291.868 607.201 291.236 Q607.834 290.58 608.7 290.205 Q609.59 289.807 610.574 289.807 Q611.534 289.807 612.471 290.065 Q613.408 290.299 614.205 291.072 Q615.024 291.822 615.024 292.969 Z\" fill=\"#000000\" fill-rule=\"evenodd\" fill-opacity=\"1\" /><path clip-path=\"url(#clip510)\" d=\"M619.91 314.086 Q619.91 309.151 621.156 306.462 Q622.894 302.461 626.993 302.461 Q627.862 302.461 628.763 302.707 Q629.682 302.937 630.829 303.838 Q631.993 304.74 632.698 306.216 Q634.043 309.069 634.043 314.086 Q634.043 318.988 632.797 321.66 Q630.977 325.563 626.96 325.563 Q625.451 325.563 623.91 324.792 Q622.385 324.021 621.418 322.169 Q619.91 319.398 619.91 314.086 M622.697 313.676 Q622.697 318.742 623.058 320.759 Q623.468 322.939 624.582 323.89 Q625.714 324.825 626.96 324.825 Q628.304 324.825 629.419 323.825 Q630.551 322.808 630.895 320.628 Q631.272 318.48 631.256 313.676 Q631.256 309.003 630.928 307.134 Q630.485 304.953 629.304 304.084 Q628.14 303.199 626.96 303.199 Q626.517 303.199 626.042 303.33 Q625.583 303.461 624.91 303.838 Q624.238 304.215 623.714 305.15 Q623.205 306.085 622.959 307.495 Q622.697 309.315 622.697 313.676 Z\" fill=\"#000000\" fill-rule=\"evenodd\" fill-opacity=\"1\" /><path clip-path=\"url(#clip510)\" d=\"M639.019 321.896 L643.047 321.896 L643.047 276.129 L639.019 276.129 L639.019 275.028 L646.256 275.028 L646.256 322.997 L639.019 322.997 L639.019 321.896 Z\" fill=\"#000000\" fill-rule=\"evenodd\" fill-opacity=\"1\" /><path clip-path=\"url(#clip510)\" d=\"M653.752 322.528 Q653.752 322.294 654.361 321.709 Q662.09 313.839 662.09 299.012 Q662.09 284.139 654.665 276.62 Q653.752 275.754 653.752 275.496 Q653.752 275.028 654.22 275.028 Q654.548 275.028 655.696 275.988 Q656.867 276.948 658.624 279.15 Q660.404 281.352 661.715 284.045 Q664.877 290.58 664.877 299.012 Q664.877 307.116 661.856 313.651 Q660.568 316.392 658.764 318.687 Q656.961 320.983 655.766 321.99 Q654.572 322.997 654.22 322.997 Q653.752 322.997 653.752 322.528 Z\" fill=\"#000000\" fill-rule=\"evenodd\" fill-opacity=\"1\" /><path clip-path=\"url(#clip510)\" d=\"M711.658 311.005 Q711.658 311.403 711.377 311.684 Q711.096 311.965 710.698 311.965 Q710.3 311.965 710.019 311.684 Q709.738 311.403 709.738 311.005 L709.738 292.688 Q709.738 289.034 706.459 286.505 Q703.179 283.952 698.565 283.952 Q693.951 283.952 690.672 286.505 Q687.393 289.034 687.393 292.688 L687.393 311.005 Q687.393 311.403 687.112 311.684 Q686.831 311.965 686.432 311.965 Q686.034 311.965 685.753 311.684 Q685.472 311.403 685.472 311.005 L685.472 292.688 Q685.472 290.533 686.503 288.589 Q687.533 286.622 689.266 285.193 Q691.023 283.741 693.459 282.898 Q695.895 282.031 698.565 282.031 Q701.235 282.031 703.671 282.898 Q706.107 283.741 707.84 285.193 Q709.597 286.622 710.628 288.589 Q711.658 290.533 711.658 292.688 L711.658 311.005 Z\" fill=\"#000000\" fill-rule=\"evenodd\" fill-opacity=\"1\" /><path clip-path=\"url(#clip510)\" d=\"M754.35 292.969 Q754.35 294.281 753.53 295.03 Q752.71 295.757 751.773 295.757 Q750.883 295.757 750.415 295.241 Q749.946 294.726 749.946 294.07 Q749.946 293.18 750.602 292.407 Q751.258 291.634 752.242 291.47 Q751.281 290.861 749.853 290.861 Q748.916 290.861 748.096 291.353 Q747.3 291.845 746.808 292.477 Q746.339 293.11 745.918 294.023 Q745.519 294.913 745.356 295.452 Q745.215 295.967 745.098 296.529 L743.458 303.088 Q742.662 306.203 742.662 307.304 Q742.662 308.662 743.318 309.576 Q743.974 310.466 745.285 310.466 Q745.801 310.466 746.386 310.325 Q746.972 310.161 747.721 309.74 Q748.494 309.295 749.173 308.639 Q749.876 307.96 750.555 306.812 Q751.235 305.664 751.68 304.189 Q751.82 303.673 752.289 303.673 Q752.874 303.673 752.874 304.142 Q752.874 304.54 752.546 305.383 Q752.242 306.203 751.562 307.28 Q750.907 308.334 750.04 309.295 Q749.173 310.232 747.885 310.887 Q746.597 311.543 745.192 311.543 Q743.177 311.543 741.842 310.466 Q740.507 309.388 740.015 307.889 Q739.898 308.1 739.734 308.381 Q739.57 308.662 739.078 309.295 Q738.61 309.904 738.071 310.372 Q737.532 310.817 736.689 311.169 Q735.869 311.543 734.979 311.543 Q733.855 311.543 732.848 311.215 Q731.864 310.887 731.162 310.138 Q730.459 309.388 730.459 308.358 Q730.459 307.21 731.232 306.414 Q732.028 305.594 733.106 305.594 Q733.785 305.594 734.324 305.992 Q734.886 306.39 734.886 307.257 Q734.886 308.217 734.23 308.943 Q733.574 309.669 732.637 309.857 Q733.597 310.466 735.026 310.466 Q736.572 310.466 737.79 309.107 Q739.008 307.749 739.594 305.477 Q741.046 300.019 741.608 297.583 Q742.17 295.124 742.17 294.07 Q742.17 293.086 741.912 292.407 Q741.655 291.728 741.21 291.423 Q740.788 291.095 740.39 290.978 Q740.015 290.861 739.594 290.861 Q738.891 290.861 738.095 291.142 Q737.322 291.423 736.385 292.079 Q735.471 292.712 734.605 294.023 Q733.738 295.335 733.152 297.138 Q733.035 297.677 732.52 297.677 Q731.958 297.654 731.958 297.185 Q731.958 296.787 732.262 295.967 Q732.59 295.124 733.246 294.07 Q733.925 293.016 734.792 292.079 Q735.682 291.119 736.97 290.463 Q738.282 289.807 739.687 289.807 Q740.32 289.807 740.929 289.948 Q741.561 290.065 742.311 290.416 Q743.084 290.768 743.763 291.541 Q744.442 292.313 744.864 293.438 Q745.145 292.899 745.519 292.384 Q745.918 291.868 746.527 291.236 Q747.159 290.58 748.026 290.205 Q748.916 289.807 749.899 289.807 Q750.86 289.807 751.797 290.065 Q752.734 290.299 753.53 291.072 Q754.35 291.822 754.35 292.969 Z\" fill=\"#000000\" fill-rule=\"evenodd\" fill-opacity=\"1\" /><path clip-path=\"url(#clip510)\" d=\"M759.235 314.086 Q759.235 309.151 760.481 306.462 Q762.219 302.461 766.318 302.461 Q767.187 302.461 768.089 302.707 Q769.007 302.937 770.155 303.838 Q771.319 304.74 772.024 306.216 Q773.368 309.069 773.368 314.086 Q773.368 318.988 772.122 321.66 Q770.302 325.563 766.285 325.563 Q764.777 325.563 763.236 324.792 Q761.711 324.021 760.744 322.169 Q759.235 319.398 759.235 314.086 M762.022 313.676 Q762.022 318.742 762.383 320.759 Q762.793 322.939 763.908 323.89 Q765.039 324.825 766.285 324.825 Q767.63 324.825 768.745 323.825 Q769.876 322.808 770.22 320.628 Q770.597 318.48 770.581 313.676 Q770.581 309.003 770.253 307.134 Q769.81 304.953 768.63 304.084 Q767.466 303.199 766.285 303.199 Q765.843 303.199 765.367 303.33 Q764.908 303.461 764.236 303.838 Q763.564 304.215 763.039 305.15 Q762.531 306.085 762.285 307.495 Q762.022 309.315 762.022 313.676 Z\" fill=\"#000000\" fill-rule=\"evenodd\" fill-opacity=\"1\" /></svg>\n"
      ]
     },
     "execution_count": 9,
     "metadata": {},
     "output_type": "execute_result"
    }
   ],
   "source": [
    "function N(f, dom)\n",
    "    f′ = ForwardDiff.derivative(f, dom)\n",
    "    @assert 0 ∉ f′\n",
    "    m = midpoint(dom)\n",
    "    md = Intervalo(m)\n",
    "    Nm = md - f(md)/f′\n",
    "    return Nm\n",
    "end\n",
    "\n",
    "plot(dom_tot, g.(dom_tot), label=\"\\$g(x)\\$\", color=:red, legend=:topleft,\n",
    "    xlabel=\"\\$x\\$\", ylabel=\"\\$y\\$\") # f(x)\n",
    "plot!(dom_tot, zero.(dom_tot), label=:none, color=:black, linewidth=2) # eje x\n",
    "xlims!(dom_tot[1], dom_tot[end])\n",
    "ylims!(-1.5, 1.5)\n",
    "\n",
    "#Intervalo [x_0]\n",
    "plot!([dom0.infimo, dom0.supremo], [y0, y0], label=\"\\$[x_0]\\$\", color=:blue,\n",
    "    linewidth=2) # [x_0]\n",
    "\n",
    "#Intervalo K([x_0])\n",
    "xmid = midpoint(dom0)\n",
    "g_xmid = g(xmid)\n",
    "n0 = N(g, dom0) # K([x_0])\n",
    "#Para evitar problemas al dibujar con Inf's\n",
    "if n0.infimo == -Inf\n",
    "    n0 = -1000 .. n0.supremo\n",
    "end\n",
    "if n0.supremo == Inf\n",
    "    n0 = n0.infimo .. 1000\n",
    "end\n",
    "#Posibles intersecciones con el eje x dadas por K([x])\n",
    "polyg = Shape([(n0.infimo, 0.0), (xmid, g_xmid), (n0.supremo, 0.0)])\n",
    "plot!(polyg, fillcolor=:grey, label=nothing, alpha=0.2)\n",
    "\n",
    "#Intervalo [x_1]\n",
    "dom1 = n0 ∩ dom0\n",
    "plot!([n0.infimo, n0.supremo], [y1, y1], label=\"\\$N([x_0])\\$\", color=:green, linewidth=2) # K([x_0])\n",
    "plot!([dom1.infimo, dom1.supremo], [y2, y2], label=\"\\$N([x_0])\\\\cap x_0\\$\", color=:red,\n",
    "    linewidth=2) # [x_1]\n",
    "#Intersecciones con el eje x\n",
    "polyg = Shape([(dom1.infimo, 0.0), (xmid, g_xmid), (dom1.supremo, 0.0)])\n",
    "plot!(polyg, fillcolor=:grey, label=nothing, alpha=0.4) # Posibles intersecciones eje x\n",
    "\n",
    "#Punto medio\n",
    "plot!([xmid, xmid], [y0, g_xmid], color=:gray, linestyle=:dot, markershape=:circle,\n",
    "    label=nothing, alpha=0.8)"
   ]
  },
  {
   "cell_type": "markdown",
   "metadata": {},
   "source": [
    "Si bien a primera vista el método de Krawczyk muestra que su operador correspondiente tiene un intervalo menor al el operador de Newton, al momento de hacer la intersección el método de Newton muestra un intervalo mucho menor, lo que es mejor."
   ]
  },
  {
   "cell_type": "code",
   "execution_count": 10,
   "metadata": {},
   "outputs": [
    {
     "data": {
      "text/plain": [
       "true"
      ]
     },
     "execution_count": 10,
     "metadata": {},
     "output_type": "execute_result"
    }
   ],
   "source": [
    "diam(K(g,dom0)) < diam(N(g,dom0)) #diametro de los operadores: el de Newton es mayor al de Krawczyk"
   ]
  },
  {
   "cell_type": "code",
   "execution_count": 11,
   "metadata": {},
   "outputs": [
    {
     "data": {
      "text/plain": [
       "false"
      ]
     },
     "execution_count": 11,
     "metadata": {},
     "output_type": "execute_result"
    }
   ],
   "source": [
    "diam(K(g,dom0)∩dom0) < diam(N(g,dom0)∩dom0) #Pero el diametro del operador interseccion el dominio es mayor para Krawczyk"
   ]
  },
  {
   "cell_type": "markdown",
   "metadata": {},
   "source": [
    "Ahora evaluemos el tiempo de ejecución que toma cada operador"
   ]
  },
  {
   "cell_type": "code",
   "execution_count": 12,
   "metadata": {},
   "outputs": [
    {
     "data": {
      "text/plain": [
       "1 millisecond"
      ]
     },
     "execution_count": 12,
     "metadata": {},
     "output_type": "execute_result"
    }
   ],
   "source": [
    "#KRAWCZYK\n",
    "\n",
    "tK1 = now()\n",
    "K(g,dom0)\n",
    "tK2 = now()\n",
    "tK2-tK1"
   ]
  },
  {
   "cell_type": "code",
   "execution_count": 13,
   "metadata": {},
   "outputs": [
    {
     "data": {
      "text/plain": [
       "0 milliseconds"
      ]
     },
     "execution_count": 13,
     "metadata": {},
     "output_type": "execute_result"
    }
   ],
   "source": [
    "#NEWTON\n",
    "\n",
    "tN1 = now()\n",
    "N(g,dom0)\n",
    "tN2 = now()\n",
    "tN2-tN1"
   ]
  },
  {
   "cell_type": "code",
   "execution_count": 14,
   "metadata": {
    "scrolled": true
   },
   "outputs": [
    {
     "data": {
      "text/plain": [
       "true"
      ]
     },
     "execution_count": 14,
     "metadata": {},
     "output_type": "execute_result"
    }
   ],
   "source": [
    "tN2-tN1 < tK2-tK1"
   ]
  },
  {
   "cell_type": "markdown",
   "metadata": {},
   "source": [
    "Se ve claramente que el método de Newton es más rápido, esto se debe a su composición, ya que el método de Krawczyk requiere llamar y evaluar más funciones que el de Newton, por lo que, toma más tiempo en regresar un resultado\n",
    "\n",
    "Si bien en este caso la diferencia parece mínima, al usar funciones más complicadas o iterar el operador, este tiempo crecerá de manera importante lo que puede ser un problema en ciertos casos"
   ]
  },
  {
   "cell_type": "markdown",
   "metadata": {},
   "source": [
    "Ahora definamos un método que busque las raíces de la función usando el método de Krawczyk\n",
    "\n",
    "<a id=\"section_5\"></a>\n",
    "\n",
    "# Buscando ceros con Krawczyk"
   ]
  },
  {
   "cell_type": "markdown",
   "metadata": {},
   "source": [
    "Para buscar las raíces con este método, lo combinaremos con el método de bisección, la idea es primero revisar los intervalos para saber si son menores a la tolerancia y contienen una raíz, si no es asi entonces les aplicaremos el operador de Krawczyk para obtener el intervalo candidato, intervalo que bisectaremos y revisaremos cada subintervalo para ver si tiene interseccion con el dominio (raíz) o no, de alli iremos seleccionando los que contengan raíces en una lista de intervalos candidatos, hasta que el diámetro de los subintervalos (que por ser bisección tienen todos el mismo diámetro asi que elegimos el que sea, en este caso el primero) sea menor a la tolerancia.\n",
    "\n",
    "Por el teorema mencionado previamente sabemos que de estar contenido ($\\subseteq$) el intervalo del operador de Krawczyk en el intervalo que este evalúa, la raíz es punica, por lo que definiremos la unicidad como \n",
    "$$\n",
    "K(f,dom) \\subseteq dom\n",
    "$$\n"
   ]
  },
  {
   "cell_type": "code",
   "execution_count": 6,
   "metadata": {},
   "outputs": [
    {
     "data": {
      "text/plain": [
       "bisecta (generic function with 1 method)"
      ]
     },
     "execution_count": 6,
     "metadata": {},
     "output_type": "execute_result"
    }
   ],
   "source": [
    "function bisecta(dom::Intervalo)\n",
    "    m = midpoint(dom)\n",
    "    return Intervalo(dom.infimo, m), Intervalo(m, dom.supremo)\n",
    "end"
   ]
  },
  {
   "cell_type": "code",
   "execution_count": 7,
   "metadata": {},
   "outputs": [
    {
     "data": {
      "text/plain": [
       "Kraw (generic function with 1 method)"
      ]
     },
     "execution_count": 7,
     "metadata": {},
     "output_type": "execute_result"
    }
   ],
   "source": [
    "function Kraw(vdom,f, tol)\n",
    "    for _ in eachindex(vdom)\n",
    "        dom = popfirst!(vdom) # Extraemos y borramos la primer entrada de `vdom`\n",
    "        #print(dom)\n",
    "        vf = f(dom) \n",
    "        0 ∉ vf && continue #si no hay raíz en ese intervalo la desechamos \n",
    "        if diam(dom) < tol #si hay raíz se corre esta parte del código, evaluamos si el diámetro\n",
    "        #del subintervalo es menor a la tolerancia, en cuyo caso lo agregamos a al final de vdom\n",
    "            push!(vdom, dom)   \n",
    "        else #si es mas grande que la tolerancia, aplicamos Newton al subintervalo\n",
    "            new_dom = bisecta(K(f,dom)) #nuevos subintervalos Nm dados por Newton extendido    \n",
    "          #  print(new_dom)\n",
    "            for Nmi in new_dom #revisamos los subintervalos resultantes\n",
    "                new_cand = K(f, Nmi) ∩ dom #sacamos la interseccion de cada subintervalo con el dominio\n",
    "               # print(new_cand)\n",
    "                isempty(new_cand) && continue #si no se intersectan lo desechamos\n",
    "                push!(vdom, new_cand) #si se intersectan lo agregamos a vdom como candidato\n",
    "   # print(vdom)\n",
    "            end\n",
    "        end\n",
    "    end\n",
    "    return nothing\n",
    "end"
   ]
  },
  {
   "cell_type": "code",
   "execution_count": 8,
   "metadata": {},
   "outputs": [
    {
     "data": {
      "text/plain": [
       "ceros_Kraw (generic function with 2 methods)"
      ]
     },
     "execution_count": 8,
     "metadata": {},
     "output_type": "execute_result"
    }
   ],
   "source": [
    "function Kraw_cand(f, dom::Intervalo, tol::AbstractFloat, nmax::Int = 50)\n",
    "    bz = !(0 ∈ f(dom)) #revisamos que haya raíces\n",
    "    v_cand = [dom]  # Vector que incluirá al resultado\n",
    "    its = 0\n",
    "\n",
    "    while !bz && its<nmax #mientras haya una raíz iteramos\n",
    "        Kraw(v_cand, f, tol)\n",
    "       # print(Kraw(v_cand, f, tol))\n",
    "        \n",
    "        bz = diam(v_cand[1]) < tol  #a diferencia de biseccion aqui los intervalos\n",
    "#no siempre tendrán el mismo diámetro, por lo que, se tomará el diámetro máximo de los subintervalos\n",
    "#para evaluar si son menores a la tolerancia dada\n",
    "    end\n",
    "\n",
    "    #Filtra los intervalos que no incluyan al 0 evaluando la función en cada candidato hallado\n",
    "    vind = findall(0 .∈ f.(v_cand))\n",
    "    return v_cand[vind] #regresa los subintervalos que incluyen a 0\n",
    "end\n",
    "\n",
    "function ceros_Kraw(f, dom::Intervalo, tol::AbstractFloat=1/1024)\n",
    "    v_cand = Kraw_cand(f, dom, tol)\n",
    "    if isempty(v_cand)\n",
    "        unicidad = esmonotona.(f, v_cand)\n",
    "    else\n",
    "        unicidad = K(f, v_cand[1]) ⊆ v_cand[1]\n",
    "    end\n",
    "    return Raiz.(v_cand, unicidad)\n",
    "end"
   ]
  },
  {
   "cell_type": "code",
   "execution_count": 40,
   "metadata": {},
   "outputs": [
    {
     "name": "stdout",
     "output_type": "stream",
     "text": [
      "Raiz[Raiz(Intervalo{Float64}(-0.7500000000000003, -0.7499999999999997), true), Raiz(Intervalo{Float64}(-0.7500000000000003, -0.7499999999999997), true)]\n",
      "429 milliseconds"
     ]
    }
   ],
   "source": [
    "h(x) = 4*x + 3\n",
    "\n",
    "thk1 = now()\n",
    "rr = ceros_Kraw(h, Intervalo(-1,0), 0.25)\n",
    "thk2 = now()\n",
    "\n",
    "println(rr)\n",
    "print(thk2-thk1)"
   ]
  },
  {
   "cell_type": "code",
   "execution_count": 46,
   "metadata": {},
   "outputs": [
    {
     "name": "stdout",
     "output_type": "stream",
     "text": [
      "Raiz[Raiz(Intervalo{Float64}(-0.7500000000000003, -0.7499999999999997), true)]\n",
      "447 milliseconds\n",
      "false"
     ]
    }
   ],
   "source": [
    "h(x) = 4*x + 3\n",
    "\n",
    "thn1 = now()\n",
    "rrn = ceros_newton(h, Intervalo(-1,0), 0.25)\n",
    "thn2 = now()\n",
    "\n",
    "\n",
    "\n",
    "println(rrn)\n",
    "println(thn2-thn1)\n",
    "print(0 ∈ ForwardDiff.derivative(h, Intervalo(-1,0)))"
   ]
  },
  {
   "cell_type": "code",
   "execution_count": 32,
   "metadata": {},
   "outputs": [
    {
     "data": {
      "text/plain": [
       "false"
      ]
     },
     "execution_count": 32,
     "metadata": {},
     "output_type": "execute_result"
    }
   ],
   "source": [
    "thn2-thn1 < thk2-thk1"
   ]
  },
  {
   "cell_type": "markdown",
   "metadata": {},
   "source": [
    "Aqui es de hecho más eficiente el método de Krawczyk"
   ]
  },
  {
   "cell_type": "code",
   "execution_count": 28,
   "metadata": {},
   "outputs": [
    {
     "name": "stdout",
     "output_type": "stream",
     "text": [
      "Raiz[]\n",
      "1 millisecond"
     ]
    }
   ],
   "source": [
    "th0k1 = now()\n",
    "r = ceros_Kraw(h, Intervalo(1,2), 0.5)\n",
    "th0k2 = now()\n",
    "\n",
    "println(r)\n",
    "print(th0k2-th0k1)"
   ]
  },
  {
   "cell_type": "code",
   "execution_count": 29,
   "metadata": {},
   "outputs": [
    {
     "name": "stdout",
     "output_type": "stream",
     "text": [
      "Raiz[]\n",
      "0 milliseconds"
     ]
    }
   ],
   "source": [
    "th0n1 = now()\n",
    "rn = ceros_newton(h, Intervalo(1,2), 0.5)\n",
    "th0n2 = now()\n",
    "\n",
    "println(rn)\n",
    "print(th0n2-th0n1)"
   ]
  },
  {
   "cell_type": "code",
   "execution_count": 47,
   "metadata": {},
   "outputs": [
    {
     "data": {
      "text/plain": [
       "true"
      ]
     },
     "execution_count": 47,
     "metadata": {},
     "output_type": "execute_result"
    }
   ],
   "source": [
    "th0n2-th0n1 < th0k2-th0k1"
   ]
  },
  {
   "cell_type": "markdown",
   "metadata": {},
   "source": [
    "Sin embargo en este caso vuelve a perder contra el método de Newton"
   ]
  },
  {
   "cell_type": "markdown",
   "metadata": {},
   "source": [
    "<a id=\"section_6\"></a>\n",
    "# Conclusiones"
   ]
  },
  {
   "cell_type": "markdown",
   "metadata": {},
   "source": [
    "El método de Krawczyk permite no tener que preocuparse por dividir por el intervalo de la derivada de la función, es un método relativamente sencillo, muy similar al de Newton, que en contextos multivariables permite el análisis de funciones no lineales al no crear puntos fijos atractores en caso de que la derivada sea una matriz no singular.\n",
    "\n",
    "Es un método más lento que el de Newton (si bien en la mayoría de los casos esto es verdad, no en todos como se vio previamente), en casi una proporción de 2:1 siendo el doble de lento que el de Newton, debido a la cantidad de funciones que debe llamar y evaluar a diferencia de las 3 funciones que usa Newton, Krawczyk usa alrededor de 6 funciones, 5 de ellas diferentes entre sí, lo que afecta su eficiencia.\n",
    "\n",
    "Si bien no hay que preocuparse porque el 0 se encuentre en el intervalo de la derivada de la función, si hay que tener cuidado con que la derivada de la función evaluada en el punto medio no sea cero, lo cual sigue implicando un problema a considerar"
   ]
  },
  {
   "cell_type": "markdown",
   "metadata": {},
   "source": [
    "<a id=\"section_7\"></a>\n",
    "# Bibliografía"
   ]
  },
  {
   "cell_type": "markdown",
   "metadata": {},
   "source": [
    "- W. Tucker, Validated Numerics: A Short Introduction to Rigorous Computations, Princeton University Press, 2011\n",
    "-  [Interval Krawczyk and Newton method](https://ww2.ii.uj.edu.pl/~zgliczyn/cap07/krawczyk.pdf),  (20 de Febrero de 2007) Recuperado el 01 de Diciembre de 2022 de https://ww2.ii.uj.edu.pl/~zgliczyn/cap07/krawczyk.pdf."
   ]
  },
  {
   "cell_type": "markdown",
   "metadata": {},
   "source": [
    "<a id=\"section_8\"></a>\n",
    "# Anexo\n",
    "## Cosas que no han funcionado"
   ]
  },
  {
   "cell_type": "markdown",
   "metadata": {},
   "source": [
    "Agrego este anexo con pruebas que no funcionaron como modo de fomentar discusión, o bien, corregirlo más adelante\n",
    "\n",
    "Las raíces múltiples no las encuentra, se queda pasmado y no avanza como se puede ver en las barras de progreso\n",
    "\n",
    "Además no logré correr el operador Krawczyk para la función $fn(x) = sin(x)-0.1*x^2 + 1$ sin usar IntervalArithmetic, cosa que preferí no hacer por esta ocasión, sin embargo al probar encontré que al usar la librería si corre y se ve la función, no encontré el problema que no permite que ForwardDiff corra la derivada de la función, ya que funciona con intervalos y la función regresa un intervalo al ser evaluada \n",
    "\n",
    "A continuación se presenta el código usado y sus respectivos errores"
   ]
  },
  {
   "cell_type": "code",
   "execution_count": null,
   "metadata": {},
   "outputs": [
    {
     "name": "stderr",
     "output_type": "stream",
     "text": [
      "\r",
      "0.0%┣                                      ┫ 0/100.0k [00:00<-1:-23:-20, -0s/it]"
     ]
    }
   ],
   "source": [
    "for i in ProgressBar(1:100000)\n",
    "    hn(x) =  (x+5)^2 + x\n",
    "    rr = ceros_Kraw(hn, Intervalo(-8,-2))\n",
    "    \n",
    "end"
   ]
  },
  {
   "cell_type": "code",
   "execution_count": null,
   "metadata": {},
   "outputs": [
    {
     "name": "stderr",
     "output_type": "stream",
     "text": [
      "\r",
      "0.0%┣                                      ┫ 0/100.0k [00:00<-1:-23:-21, -0s/it]"
     ]
    }
   ],
   "source": [
    "for i in ProgressBar(1:100000)\n",
    "# Una raíz múltiple\n",
    "    h4(x) = x*(x^3+1.5^3)^2\n",
    "    rr4 = ceros_Kraw(h4, Intervalo(-10,21), 1/2^20)\n",
    "end"
   ]
  },
  {
   "cell_type": "code",
   "execution_count": 16,
   "metadata": {},
   "outputs": [
    {
     "data": {
      "text/plain": [
       "sin (generic function with 17 methods)"
      ]
     },
     "execution_count": 16,
     "metadata": {},
     "output_type": "execute_result"
    }
   ],
   "source": [
    "import Base: sin\n",
    "sin(x::Intervalo) = Intervalo(min(sin(x.infimo),sin(x.supremo)), max(sin(x.infimo),sin(x.supremo)))"
   ]
  },
  {
   "cell_type": "code",
   "execution_count": 29,
   "metadata": {},
   "outputs": [
    {
     "data": {
      "text/plain": [
       "Intervalo{Float64}(-2.879415498198928, 1.279415498198926)"
      ]
     },
     "execution_count": 29,
     "metadata": {},
     "output_type": "execute_result"
    }
   ],
   "source": [
    "sin(Intervalo(-6,6))-0.1*Intervalo(-6,6)^2+1"
   ]
  },
  {
   "cell_type": "code",
   "execution_count": 40,
   "metadata": {},
   "outputs": [
    {
     "data": {
      "text/plain": [
       "-0.125"
      ]
     },
     "execution_count": 40,
     "metadata": {},
     "output_type": "execute_result"
    }
   ],
   "source": [
    "fn(x) = sin(x)-0.1*x^2 + 1\n",
    "dom_tot = -10:0.125:10\n",
    "dom0n = Intervalo(-6,6)\n",
    "y0 = -3/16\n",
    "y1 = -1/16\n",
    "y2 = -2/16\n"
   ]
  },
  {
   "cell_type": "code",
   "execution_count": 59,
   "metadata": {},
   "outputs": [
    {
     "ename": "LoadError",
     "evalue": "MethodError: no method matching AbstractFloat(::Intervalo{Float64})\n\u001b[0mClosest candidates are:\n\u001b[0m  (::Type{T})(::Real, \u001b[91m::RoundingMode\u001b[39m) where T<:AbstractFloat at rounding.jl:200\n\u001b[0m  (::Type{T})(::T) where T<:Number at boot.jl:772\n\u001b[0m  (::Type{T})(\u001b[91m::AbstractChar\u001b[39m) where T<:Union{AbstractChar, Number} at char.jl:50\n\u001b[0m  ...",
     "output_type": "error",
     "traceback": [
      "MethodError: no method matching AbstractFloat(::Intervalo{Float64})\n\u001b[0mClosest candidates are:\n\u001b[0m  (::Type{T})(::Real, \u001b[91m::RoundingMode\u001b[39m) where T<:AbstractFloat at rounding.jl:200\n\u001b[0m  (::Type{T})(::T) where T<:Number at boot.jl:772\n\u001b[0m  (::Type{T})(\u001b[91m::AbstractChar\u001b[39m) where T<:Union{AbstractChar, Number} at char.jl:50\n\u001b[0m  ...",
      "",
      "Stacktrace:",
      " [1] float(x::Intervalo{Float64})",
      "   @ Base .\\float.jl:269",
      " [2] sincos(x::Intervalo{Float64})",
      "   @ Base.Math .\\special\\trig.jl:205",
      " [3] sin(d::ForwardDiff.Dual{ForwardDiff.Tag{typeof(fn), Intervalo{Float64}}, Intervalo{Float64}, 1})",
      "   @ ForwardDiff C:\\Users\\alici\\.julia\\packages\\ForwardDiff\\pDtsf\\src\\dual.jl:676",
      " [4] fn(x::ForwardDiff.Dual{ForwardDiff.Tag{typeof(fn), Intervalo{Float64}}, Intervalo{Float64}, 1})",
      "   @ Main .\\In[40]:1",
      " [5] derivative(f::typeof(fn), x::Intervalo{Float64})",
      "   @ ForwardDiff C:\\Users\\alici\\.julia\\packages\\ForwardDiff\\pDtsf\\src\\derivative.jl:14",
      " [6] top-level scope",
      "   @ In[59]:1",
      " [7] eval",
      "   @ .\\boot.jl:368 [inlined]",
      " [8] include_string(mapexpr::typeof(REPL.softscope), mod::Module, code::String, filename::String)",
      "   @ Base .\\loading.jl:1428"
     ]
    }
   ],
   "source": [
    "fmi′ = ForwardDiff.derivative(fn, Intervalo(-6,0))\n",
    "# m = midpoint(dom) #Necesita el punto medio del intervalo en forma escalar para la derivada evaluada en ese punto\n",
    "# fm′ = ForwardDiff.derivative(f, m)\n",
    "# r = rad(dom)\n",
    "# rm = Intervalo(-r,r)\n",
    "# md = Intervalo(m)\n",
    "# @assert 0 != fm′\n",
    "# Km = md - f(md)/fm′-(1-(f′/fm′))*rm"
   ]
  },
  {
   "cell_type": "code",
   "execution_count": 18,
   "metadata": {},
   "outputs": [
    {
     "ename": "LoadError",
     "evalue": "MethodError: no method matching AbstractFloat(::Intervalo{Float64})\n\u001b[0mClosest candidates are:\n\u001b[0m  (::Type{T})(::Real, \u001b[91m::RoundingMode\u001b[39m) where T<:AbstractFloat at rounding.jl:200\n\u001b[0m  (::Type{T})(::T) where T<:Number at boot.jl:772\n\u001b[0m  (::Type{T})(\u001b[91m::AbstractChar\u001b[39m) where T<:Union{AbstractChar, Number} at char.jl:50\n\u001b[0m  ...",
     "output_type": "error",
     "traceback": [
      "MethodError: no method matching AbstractFloat(::Intervalo{Float64})\n\u001b[0mClosest candidates are:\n\u001b[0m  (::Type{T})(::Real, \u001b[91m::RoundingMode\u001b[39m) where T<:AbstractFloat at rounding.jl:200\n\u001b[0m  (::Type{T})(::T) where T<:Number at boot.jl:772\n\u001b[0m  (::Type{T})(\u001b[91m::AbstractChar\u001b[39m) where T<:Union{AbstractChar, Number} at char.jl:50\n\u001b[0m  ...",
      "",
      "Stacktrace:",
      " [1] float(x::Intervalo{Float64})",
      "   @ Base .\\float.jl:269",
      " [2] sincos(x::Intervalo{Float64})",
      "   @ Base.Math .\\special\\trig.jl:205",
      " [3] sin(d::ForwardDiff.Dual{ForwardDiff.Tag{typeof(f), Intervalo{Float64}}, Intervalo{Float64}, 1})",
      "   @ ForwardDiff C:\\Users\\alici\\.julia\\packages\\ForwardDiff\\pDtsf\\src\\dual.jl:676",
      " [4] f(x::ForwardDiff.Dual{ForwardDiff.Tag{typeof(f), Intervalo{Float64}}, Intervalo{Float64}, 1})",
      "   @ Main .\\In[17]:1",
      " [5] derivative",
      "   @ C:\\Users\\alici\\.julia\\packages\\ForwardDiff\\pDtsf\\src\\derivative.jl:14 [inlined]",
      " [6] K(f::typeof(f), dom::Intervalo{Float64})",
      "   @ Main .\\In[11]:19",
      " [7] top-level scope",
      "   @ In[18]:14",
      " [8] eval",
      "   @ .\\boot.jl:368 [inlined]",
      " [9] include_string(mapexpr::typeof(REPL.softscope), mod::Module, code::String, filename::String)",
      "   @ Base .\\loading.jl:1428"
     ]
    }
   ],
   "source": [
    "plot(dom_tot, f.(dom_tot), label=\"\\$g(x)\\$\", color=:red, legend=:topleft,\n",
    "    xlabel=\"\\$x\\$\", ylabel=\"\\$y\\$\") # f(x)\n",
    "plot!(dom_tot, zero.(dom_tot), label=:none, color=:black, linewidth=2) # eje x\n",
    "xlims!(dom_tot[1], dom_tot[end])\n",
    "ylims!(-1.5, 1.5)\n",
    "\n",
    "#Intervalo [x_0]\n",
    "plot!([dom0.infimo, dom0.supremo], [y0, y0], label=\"\\$[x_0]\\$\", color=:blue,\n",
    "    linewidth=2) # [x_0]\n",
    "\n",
    "#Intervalo K([x_0])\n",
    "xmid = midpoint(dom0)\n",
    "g_xmid = f(xmid)\n",
    "n0 = K(f, dom0) # K([x_0])\n",
    "#Para evitar problemas al dibujar con Inf's\n",
    "if n0.infimo == -Inf\n",
    "    n0 = -1000 .. n0.supremo\n",
    "end\n",
    "if n0.supremo == Inf\n",
    "    n0 = n0.infimo .. 1000\n",
    "end\n",
    "#Posibles intersecciones con el eje x dadas por K([x])\n",
    "polyg = Shape([(n0.infimo, 0.0), (xmid, g_xmid), (n0.supremo, 0.0)])\n",
    "plot!(polyg, fillcolor=:grey, label=nothing, alpha=0.2)\n",
    "\n",
    "#Intervalo [x_1]\n",
    "dom1 = n0 ∩ dom0\n",
    "plot!([n0.infimo, n0.supremo], [y1, y1], label=\"\\$K([x_0])\\$\", color=:green, linewidth=2) # K([x_0])\n",
    "plot!([dom1.infimo, dom1.supremo], [y2, y2], label=\"\\$K([x_0])\\\\cap x_0\\$\", color=:red,\n",
    "    linewidth=2) # [x_1]\n",
    "#Intersecciones con el eje x\n",
    "polyg = Shape([(dom1.infimo, 0.0), (xmid, g_xmid), (dom1.supremo, 0.0)])\n",
    "plot!(polyg, fillcolor=:grey, label=nothing, alpha=0.4) # Posibles intersecciones eje x\n",
    "\n",
    "#Punto medio\n",
    "plot!([xmid, xmid], [y0, g_xmid], color=:gray, linestyle=:dot, markershape=:circle,\n",
    "    label=nothing, alpha=0.8)"
   ]
  },
  {
   "cell_type": "markdown",
   "metadata": {},
   "source": []
  }
 ],
 "metadata": {
  "kernelspec": {
   "display_name": "Julia 1.8.0",
   "language": "julia",
   "name": "julia-1.8"
  },
  "language_info": {
   "file_extension": ".jl",
   "mimetype": "application/julia",
   "name": "julia",
   "version": "1.8.0"
  }
 },
 "nbformat": 4,
 "nbformat_minor": 4
}
