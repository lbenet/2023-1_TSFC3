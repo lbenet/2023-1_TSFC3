{
 "cells": [
  {
   "cell_type": "markdown",
   "id": "d4b6e7e5",
   "metadata": {},
   "source": [
    "# Cuadratura con intervalos \n",
    "## Luis Eduardo Ramírez Montoya\n",
    "### Temas Temas Selectos de Fı́sica Computacional III\n",
    "### Facultad de Ciencias\n",
    "### Universidad Nacional Autónoma de México\n",
    "#### 7 de diciembre de 2022"
   ]
  },
  {
   "cell_type": "code",
   "execution_count": 4,
   "id": "7cda1d09",
   "metadata": {},
   "outputs": [],
   "source": [
    "using CuadraturaIntervalos"
   ]
  },
  {
   "cell_type": "markdown",
   "id": "93fb3717",
   "metadata": {},
   "source": [
    "# Problema \n",
    "\n",
    "El objetivo es utilizar los conceptos que hemos desarrollado durante el curso para calcular rigurosamente la integral \n",
    "\n",
    "$$\n",
    "    I = \\int_a^b f(x) \\ dx.\n",
    "$$\n",
    "\n",
    "En otras palabras, buscamos un intervalo $\\mathcal{I}$ tal que \n",
    "\n",
    "$$\n",
    "    I = \\int_a^b f(x) \\ dx \\in \\mathcal{I}. \n",
    "$$"
   ]
  },
  {
   "cell_type": "markdown",
   "id": "f9189491",
   "metadata": {},
   "source": [
    "# Método simple \n",
    "\n",
    "La forma más inmediata de calcular $I$ es dividir el dominio de integración en un montón de subintervalos\n",
    "\n",
    "$$\n",
    "    [a, b] = [x_0, x_1]\\cup [x_1, x_2] \\cup \\cdots \\cup [x_{N-1}, x_N].\n",
    "$$\n",
    "\n",
    "y sumar \n",
    "\n",
    "$$\n",
    "    I \\in \\sum_{i=1}^N \\text{diam}([x_{i-1}, x_i])F([x_{i-1}, x_i]),\n",
    "$$\n",
    "\n",
    "donde $\\text{diam}([a, b]) = b - a$ y $F$ es la extensión intervalar de $f$. \n",
    "    \n",
    "Ver la ecuación (5.14) de Tucker, W. (2011). Validated Numerics. Estados Unidos: Princeton University Press."
   ]
  },
  {
   "cell_type": "markdown",
   "id": "318b31b9",
   "metadata": {},
   "source": [
    "```julia\n",
    "@doc raw\"\"\"\n",
    "    cuadratura_simple(f::Function, D::Intervalo, N::Int = 100)\n",
    "\n",
    "Calcula la integral de `f` en `D` usando la ecuación (5.14) de Tucker, W. (2011). Validated \n",
    "Numerics. Estados Unidos: Princeton University Press con `N` pasos de igual longitud. \n",
    "\"\"\"\n",
    "function cuadratura_simple(f::Function, D::Intervalo, N::Int = 100)\n",
    "\n",
    "    @assert isfinite(D) \"Para intervalos con algún extremo infinito usar `cuadratura_infinita`\"\n",
    "\n",
    "    # Iniciamos la suma en 0\n",
    "    quad = zero(D)\n",
    "    # Paso \n",
    "    dt = diam(D)/N\n",
    "    # Iteramos sobre el número de intervalos \n",
    "    for i in 1:N\n",
    "        # Intervalo local \n",
    "        D_0 = Intervalo(D.infimo + (i-1)*dt, D.infimo + i*dt)\n",
    "        # Intervalo ingenuo \n",
    "        quad += diam(D_0) * f(D_0)\n",
    "    end\n",
    "\n",
    "    return quad\n",
    "end\n",
    "```"
   ]
  },
  {
   "cell_type": "markdown",
   "id": "3a39470d",
   "metadata": {},
   "source": [
    "# Método avanzado \n",
    "\n",
    "Para mejorar las cotas podemos expandir $f$ en una serie de Taylor de orden $n$ alrededor del punto medio $\\tilde{x}\\in\\text{mid}(\\mathbf{x})$\n",
    "\n",
    "$$\n",
    "    f(x) = \\sum_{k = 0}^{n-1}f_k(\\tilde{x})(x - \\tilde{x})^k + f_n(\\zeta_x)(x - \\tilde{x})^n,\n",
    "$$\n",
    "\n",
    "donde $\\zeta_x$ es un número real entre $\\tilde{x}$ y $x$ a priori desconocido. \n",
    "    \n",
    "Podemos encerrar el residuo en la expansión anterior mediante \n",
    "\n",
    "$$\n",
    "    \\epsilon_n = \\text{mag}(F_n(\\mathbf{x}) - f_n(\\tilde{x})),\n",
    "$$\n",
    "\n",
    "donde $\\text{mag}([a, b]) = \\max\\lbrace |a|, |b|\\rbrace$ y $F_n(\\mathbf{x})$ es el $n$-ésimo coeficiente de la serie de Taylor (intervalar) de $f$. \n",
    "    \n",
    "Entonces \n",
    "\n",
    "$$\n",
    "    f(x) \\in \\sum_{k = 0}^{n}f_k(\\tilde{x})(x - \\tilde{x})^k + [-\\epsilon_n, \\epsilon_n]|x - \\tilde{x}|^n.\n",
    "$$"
   ]
  },
  {
   "cell_type": "markdown",
   "id": "dac9646a",
   "metadata": {},
   "source": [
    "A continuación, integramos \n",
    "\n",
    "$$\n",
    "    \\begin{split}\n",
    "        \\int_{\\tilde{x}-r}^{\\tilde{x}+r} f(x) \\ dx & \\in \\int_{\\tilde{x}-r}^{\\tilde{x}+r}\\left[\\sum_{k = 0}^{n}f_k(\\tilde{x})(x - \\tilde{x})^k + [-\\epsilon_n, \\epsilon_n]|x - \\tilde{x}|^n\\right] \\ dx \\\\\n",
    "        & = \\sum_{k=0}^n f_k(\\tilde{x})\\int_{-r}^r x^k \\ dx + [-\\epsilon_n, \\epsilon_n] \\int_{-r}^r |x|^n \\ dx \\\\\n",
    "        & = \\sum_{k=0}^{\\lfloor n/2\\rfloor} f_\n",
    "        {2k}(\\tilde{x})\\int_{-r}^r x^{2k} \\ dx + [-\\epsilon_n, \\epsilon_n] \\int_{-r}^r |x|^n \\ dx \\\\\n",
    "        & = 2\\left(\\sum_{k=0}^{\\lfloor n/2\\rfloor}f_{2k}(\\tilde{x})\\frac{r^{2k+1}}{2k+1} + [-\\epsilon_n, \\epsilon_n]\\frac{r^{n+1}}{n+1}\\right).\n",
    "    \\end{split}\n",
    "$$\n",
    "\n",
    "**Nota:** Del segundo al tercer renglón podemos eliminar todos los términos impares de la serie ya que estamos integrando una función impar sobre un intervalo simétrico respecto al origen. Asimismo, podemos convertir las integrales sobre $[-r, r]$ de los términos pares en dos veces las integrales sobre $[0, r]$. Aquí reside la importancia de hacer la serie de Taylor alrededor del punto medio $\\tilde{x} = \\text{mid}(\\mathbf{x})$."
   ]
  },
  {
   "cell_type": "markdown",
   "id": "7d69db76",
   "metadata": {},
   "source": [
    "```julia \n",
    "@doc raw\"\"\"\n",
    "    riemann_term(f::Function, D::Intervalo, order::Int)\n",
    "\n",
    "Calcula el término de Riemman de `f` en `D` usando una serie de Taylor de orden `order`. \n",
    "Ver la ecuación (5.18) de Tucker, W. (2011). Validated Numerics. Estados Unidos: Princeton \n",
    "University Press. \n",
    "\"\"\"\n",
    "function riemann_term(f::Function, D::Intervalo, order::Int)\n",
    "    # Punto medio\n",
    "    x = mid(D)\n",
    "    # Expansión de Taylor (normal)\n",
    "    f_t = taylor_expand(f, x; order = order)\n",
    "    # Expansión de Taylor (intervalar)\n",
    "    F_t = taylor_expand(f, D; order = order)\n",
    "    # Epsilon \n",
    "    ϵ = mag( F_t[order] - f_t[order] )\n",
    "    # Intervalo epsilon\n",
    "    ϵ_I = Intervalo(-ϵ, ϵ)\n",
    "    # Radio \n",
    "    r = rad(D)\n",
    "\n",
    "    term = zero(D)\n",
    "\n",
    "    # Término de Riemann \n",
    "    for k in 0:floor(Int, order/2)\n",
    "        term += f_t[2*k] * r^(2*k + 1) / (2*k + 1)\n",
    "    end\n",
    "    term += ϵ_I * r^(order + 1) / (order + 1)\n",
    "\n",
    "    return 2 * term\n",
    "end\n",
    "```"
   ]
  },
  {
   "cell_type": "markdown",
   "id": "e924f658",
   "metadata": {},
   "source": [
    "Al último renglón de la ecuación anterior le llamaremos el término de Riemann de $\\mathbf{x}$\n",
    "\n",
    "$$\n",
    "    T_n(f, \\mathbf{x}) = 2\\left(\\sum_{k=0}^{\\lfloor n/2\\rfloor}f_{2k}(\\tilde{x})\\frac{r^{2k+1}}{2k+1} + [-\\epsilon_n, \\epsilon_n]\\frac{r^{n+1}}{n+1}\\right).\n",
    "$$\n",
    "    \n",
    "Entonces, la integral está contenida en \n",
    "\n",
    "$$\n",
    "    \\int_a^b f(x) \\ dx \\in \\sum_{i=1}^N T_n(f, \\mathbf{x}_i).\n",
    "$$\n",
    "    \n",
    "Ver la ecuación (5.18) de Tucker, W. (2011). Validated Numerics. Estados Unidos: Princeton University Press."
   ]
  },
  {
   "cell_type": "markdown",
   "id": "dacdff0f",
   "metadata": {},
   "source": [
    "```julia\n",
    "@doc raw\"\"\"\n",
    "    cuadratura_uniforme(f::Function, D::Intervalo, N::Int = 100, order::Int = 10)   \n",
    "\n",
    "Calcula la integral de `f` en `D` usando la ecuación (5.18) de Tucker, W. (2011). Validated \n",
    "Numerics. Estados Unidos: Princeton University Press con `N` pasos de igual longitud. \n",
    "\"\"\"\n",
    "function cuadratura_uniforme(f::Function, D::Intervalo, N::Int = 100, order::Int = 10)\n",
    "    \n",
    "    @assert isfinite(D) \"Para intervalos con algún extremo infinito usar `cuadratura_infinita`\"\n",
    "    \n",
    "    # Iniciamos la suma en 0\n",
    "    quad = zero(D)\n",
    "    # Paso \n",
    "    dt = diam(D)/N\n",
    "    # Iteramos sobre el número de intervalos \n",
    "    for i in 1:N\n",
    "        # Intervalo local \n",
    "        D_0 = Intervalo(D.infimo + (i-1)*dt, D.infimo + i*dt)\n",
    "        # Término de Riemann\n",
    "        quad += riemann_term(f, D_0, order)\n",
    "    end\n",
    "\n",
    "    return quad\n",
    "    \n",
    "end\n",
    "```"
   ]
  },
  {
   "cell_type": "markdown",
   "id": "1012fd9c",
   "metadata": {},
   "source": [
    "# División del dominio \n",
    "\n",
    "- Uniforme:\n",
    "\n",
    "$$\n",
    "    \\mathbf{x}_i = \\left[a + \\frac{i-1}{N}(b-a), a + \\frac{i}{N}(b-a)\\right].\n",
    "$$\n",
    "    \n",
    "- Adaptativa: Bisectamos el dominio recursivamente hasta que cada término de Riemann sea menor que cierta tolerancia $\\tau$.\n",
    "\n",
    "$$\n",
    "    \\begin{array}{l}\n",
    "        T_n(f, [a, b]) \\\\\n",
    "        T_n(f, [a, x_1]) + T_n(f, [x_1, b]) \\\\\n",
    "        T_n(f, [a, x_1]) + T_n(f, [x_1, x_2]) + T_n(f, [x_2, b]) \\\\\n",
    "        \\vdots\n",
    "    \\end{array}\n",
    "$$"
   ]
  },
  {
   "cell_type": "markdown",
   "id": "794a6778",
   "metadata": {},
   "source": [
    "```julia\n",
    "@doc raw\"\"\"\n",
    "    cuadratura_adaptativa(f::Function, D::Intervalo, tol::T = 1e-8, order::Int = 10) where {T <: AbstractFloat}\n",
    "\n",
    "Calcula la integral de `f` en `D` usando la ecuación (5.18) de Tucker, W. (2011). Validated \n",
    "Numerics. Estados Unidos: Princeton University Press con pasos adaptativos. \n",
    "\"\"\"\n",
    "function cuadratura_adaptativa(f::Function, D::Intervalo, tol::T = 1e-8, order::Int = 10) where {T <: AbstractFloat}\n",
    "    \n",
    "    @assert isfinite(D) \"Para intervalos con algún extremo infinito usar `cuadratura_infinita`\"\n",
    "\n",
    "    # Término de Riemann inicial \n",
    "    quad = riemann_term(f, D, order)\n",
    "    \n",
    "    if diam(quad) ≤ tol\n",
    "        # El término de Riemann es más pequeño que tol -> terminar \n",
    "        return quad\n",
    "    else \n",
    "        # Bisectar \n",
    "        left, right = bisecta(D)\n",
    "        # Aplicar cuadratura adaptativa de forma recursiva \n",
    "        return cuadratura_adaptativa(f, left, tol/2, order) + cuadratura_adaptativa(f, right, tol/2, order)\n",
    "    end\n",
    "    \n",
    "end\n",
    "```"
   ]
  },
  {
   "cell_type": "markdown",
   "id": "3deaba6d",
   "metadata": {},
   "source": [
    "# Redondeo \n",
    "\n",
    "- Simple:\n",
    "\n",
    "$$\n",
    "    \\mathbf{x} + \\mathbf{y} = \\left[\\texttt{prevfloat}\\left(\\underline{x}, \\underline{y}\\right), \\texttt{nextfloat}\\left(\\overline{x}, \\overline{y}\\right)\\right],\n",
    "$$\n",
    "\n",
    "por ejemplo \n",
    "\n",
    "$$\n",
    "    [0, 1] + [0, 1] = [-5.0\\times10^{-324}, 2.0000000000000004].\n",
    "$$\n",
    "    \n",
    "- Avanzado: la paquetería `RoundingEmulator.jl` permite tener cotas más ajustadas en ciertos casos \n",
    "\n",
    "$$\n",
    "    \\mathbf{x} + \\mathbf{y} = \\left[\\texttt{add\\_down}\\left(\\underline{x}, \\underline{y}\\right), \\texttt{add\\_up}\\left(\\overline{x}, \\overline{y}\\right)\\right],\n",
    "$$\n",
    "\n",
    "por ejemplo \n",
    "\n",
    "$$\n",
    "    [0, 1] + [0, 1] = [0.0, 2.0].\n",
    "$$"
   ]
  },
  {
   "cell_type": "code",
   "execution_count": 55,
   "id": "c8b5a88e",
   "metadata": {},
   "outputs": [
    {
     "data": {
      "text/plain": [
       "mostrar_integrales (generic function with 1 method)"
      ]
     },
     "execution_count": 55,
     "metadata": {},
     "output_type": "execute_result"
    }
   ],
   "source": [
    "function mostrar_integrales(f, D, N, τ, order)\n",
    "    \n",
    "    I_1 = cuadratura_simple(f, D, N)\n",
    "    I_2 = cuadratura_uniforme(f, D, N, order)\n",
    "    I_3 = cuadratura_adaptativa(f, D, τ, order)\n",
    "    \n",
    "    metodos = Dict(\n",
    "        1 => rpad(\"Simple uniforme: \", 25), \n",
    "        2 => rpad(\"Avanzado uniforme: \", 25), \n",
    "        3 => rpad(\"Avanzado adaptativo: \", 25)\n",
    "    )\n",
    "    Is = [I_1, I_2, I_3]\n",
    "    \n",
    "    for i in 1:3\n",
    "        println(metodos[i], rpad(Is[i], 50), \"diam(I) = \", diam(Is[i]))\n",
    "    end\n",
    "end"
   ]
  },
  {
   "cell_type": "markdown",
   "id": "fe14144c",
   "metadata": {},
   "source": [
    "# Integral sencilla\n",
    "\n",
    "$$\n",
    "    \\int_{-\\pi/2}^{\\pi/2}\\sin(x) \\ dx = 0.\n",
    "$$"
   ]
  },
  {
   "cell_type": "code",
   "execution_count": 56,
   "id": "dd331036",
   "metadata": {},
   "outputs": [
    {
     "data": {
      "text/plain": [
       "[-1.5707963267948966, 1.5707963267948966]"
      ]
     },
     "execution_count": 56,
     "metadata": {},
     "output_type": "execute_result"
    }
   ],
   "source": [
    "N = 1_000\n",
    "order = 20\n",
    "τ = 1e-8\n",
    "\n",
    "f(x) = sin(x)\n",
    "D = -π/2 .. π/2"
   ]
  },
  {
   "cell_type": "code",
   "execution_count": 57,
   "id": "ba058ce4",
   "metadata": {},
   "outputs": [
    {
     "name": "stdout",
     "output_type": "stream",
     "text": [
      "Simple uniforme:         [-0.003141592653633906, 0.003141592653632581]     diam(I) = 0.006283185307266487\n",
      "Avanzado uniforme:       [-4.445445747625065e-14, 4.5811878596202504e-14]  diam(I) = 9.026633607245316e-14\n",
      "Avanzado adaptativo:     [-5.142845785720951e-16, 5.142845785720951e-16]   diam(I) = 1.0285691571441902e-15\n"
     ]
    }
   ],
   "source": [
    "mostrar_integrales(f, D, N, τ, order)"
   ]
  },
  {
   "cell_type": "markdown",
   "id": "fddfe809",
   "metadata": {},
   "source": [
    "# Integral intermedia \n",
    "\n",
    "$$\n",
    "    \\int_{0}^{\\pi} e^x (1 + \\sin(x)) \\ dx = \\frac{3e^\\pi - 1}{2} = 34.211038949168903...\n",
    "$$"
   ]
  },
  {
   "cell_type": "code",
   "execution_count": 58,
   "id": "4fa5cc00",
   "metadata": {},
   "outputs": [
    {
     "data": {
      "text/plain": [
       "[0.0, 3.1415926535897936]"
      ]
     },
     "execution_count": 58,
     "metadata": {},
     "output_type": "execute_result"
    }
   ],
   "source": [
    "N = 1_000\n",
    "order = 20\n",
    "τ = 1e-8\n",
    "\n",
    "f(x) = exp(x) + exp(x)*sin(x)\n",
    "D = 0 .. π"
   ]
  },
  {
   "cell_type": "code",
   "execution_count": 59,
   "id": "ffb942a1",
   "metadata": {},
   "outputs": [
    {
     "name": "stdout",
     "output_type": "stream",
     "text": [
      "Simple uniforme:         [34.13242214467101, 34.28979039722667]            diam(I) = 0.15736825255565634\n",
      "Avanzado uniforme:       [34.21103894916805, 34.21103894916973]            diam(I) = 1.6839862837514374e-12\n",
      "Avanzado adaptativo:     [34.21103894916888, 34.21103894916894]            diam(I) = 5.684341886080802e-14\n"
     ]
    }
   ],
   "source": [
    "mostrar_integrales(f, D, N, τ, order)"
   ]
  },
  {
   "cell_type": "markdown",
   "id": "047043e0",
   "metadata": {},
   "source": [
    "# Integral avanzada \n",
    "\n",
    "$$\n",
    "    \\int_{0}^{1} x^{-x} \\ dx = \\sum_{n=1}^\\infty n^{-n} = 1.29128599706...\n",
    "$$"
   ]
  },
  {
   "cell_type": "code",
   "execution_count": 60,
   "id": "d559c6f8",
   "metadata": {},
   "outputs": [
    {
     "data": {
      "text/plain": [
       "[0.0, 1.0]"
      ]
     },
     "execution_count": 60,
     "metadata": {},
     "output_type": "execute_result"
    }
   ],
   "source": [
    "N = 1_000\n",
    "order = 15\n",
    "τ = 1e-8\n",
    "\n",
    "f(x) = x ^ (-x)\n",
    "D = 0 .. 1"
   ]
  },
  {
   "cell_type": "code",
   "execution_count": 61,
   "id": "e409d7b8",
   "metadata": {},
   "outputs": [
    {
     "name": "stdout",
     "output_type": "stream",
     "text": [
      "Simple uniforme:         [1.2899994602842164, ∞]                           diam(I) = Inf\n",
      "Avanzado uniforme:       [-∞, ∞]                                           diam(I) = Inf\n",
      "Avanzado adaptativo:     [1.291285996955213, 1.2912859971701207]           diam(I) = 2.1490764723353095e-10\n"
     ]
    }
   ],
   "source": [
    "mostrar_integrales(f, D, N, τ, order)"
   ]
  },
  {
   "cell_type": "markdown",
   "id": "82093cc0",
   "metadata": {},
   "source": [
    "# Redondeo simple vs avanzado \n",
    "\n",
    "$$\n",
    "    \\int_{1/2}^{1} 1 + x^5 - x^{10} \\ dx = \\frac{12,913}{22,528} = 0.57319779829545454...\n",
    "$$"
   ]
  },
  {
   "cell_type": "code",
   "execution_count": 62,
   "id": "5f7b9b21",
   "metadata": {},
   "outputs": [
    {
     "data": {
      "text/plain": [
       "[0.5, 1.0]"
      ]
     },
     "execution_count": 62,
     "metadata": {},
     "output_type": "execute_result"
    }
   ],
   "source": [
    "N = 1_000\n",
    "order = 20\n",
    "τ = 1e-8\n",
    "\n",
    "f(x) = 1 + x*x*x*x*x - x*x*x*x*x*x*x*x*x*x\n",
    "D = 1/2 .. 1"
   ]
  },
  {
   "cell_type": "code",
   "execution_count": 66,
   "id": "5a27adcc",
   "metadata": {},
   "outputs": [
    {
     "name": "stdout",
     "output_type": "stream",
     "text": [
      "Simple uniforme:         [0.5727057446659098, 0.5736896313847518]          diam(I) = 0.0009838867188419753\n",
      "Avanzado uniforme:       [0.5731977982954078, 0.573197798295502]           diam(I) = 9.414691248821327e-14\n",
      "Avanzado adaptativo:     [0.5731977982954531, 0.573197798295456]           diam(I) = 2.886579864025407e-15\n"
     ]
    }
   ],
   "source": [
    "redondeo(false)\n",
    "mostrar_integrales(f, D, N, τ, order)"
   ]
  },
  {
   "cell_type": "code",
   "execution_count": 67,
   "id": "d4928409",
   "metadata": {},
   "outputs": [
    {
     "name": "stdout",
     "output_type": "stream",
     "text": [
      "Simple uniforme:         [0.5727057446659319, 0.5736896313847284]          diam(I) = 0.0009838867187964562\n",
      "Avanzado uniforme:       [0.5731977982954319, 0.5731977982954779]          diam(I) = 4.596323321948148e-14\n",
      "Avanzado adaptativo:     [0.5731977982954545, 0.5731977982954546]          diam(I) = 1.1102230246251565e-16\n"
     ]
    }
   ],
   "source": [
    "redondeo(true)\n",
    "mostrar_integrales(f, D, N, τ, order)"
   ]
  },
  {
   "cell_type": "markdown",
   "id": "6332daed",
   "metadata": {},
   "source": [
    "# Integrales impropias \n",
    "\n",
    "Los métodos que hemos presentado hasta ahora funcionan cuando $a$ y $b$ son finitos, pero ¿cómo podemos calcular integrales impropias?\n",
    "    \n",
    "Propuesta: supongamos que queremos acotar \n",
    "\n",
    "$$\n",
    "    \\int_a^\\infty f(x) \\ dx.\n",
    "$$\n",
    "\n",
    "Calculamos \n",
    "\n",
    "$$\n",
    "    \\int_a^{x_1}f(x) \\ dx + \\cdots + \\int_{x_{n-1}}^{x_{n}} f(x) \\ dx \\in \\mathcal{I}_1 + \\cdots \\mathcal{I}_n\n",
    "$$\n",
    "\n",
    "hasta que \n",
    "\n",
    "$$\n",
    "    \\text{diam}(\\mathcal{I}_n) < \\tau.\n",
    "$$"
   ]
  },
  {
   "cell_type": "markdown",
   "id": "06d62876",
   "metadata": {},
   "source": [
    "Entonces, para calcular $\\mathcal{I}$ necesitamos acotar \n",
    "\n",
    "$$\n",
    "    \\int_{x_n}^\\infty f(x) \\ dx.\n",
    "$$\n",
    "    \n",
    "Para que la integral anterior converga, $f(x)$ debe tender a cero conforme $x \\longrightarrow \\infty$\n",
    "\n",
    "$$\n",
    "    \\epsilon_n = \\text{mag}(\\mathcal{I}_n).\n",
    "$$\n",
    "    \n",
    "Así\n",
    "\n",
    "$$\n",
    "    \\int_a^\\infty f(x) \\ dx \\in \\mathcal{I}_1 + \\cdots + \\mathcal{I}_n + [-\\epsilon_n, \\epsilon_n].\n",
    "$$\n",
    "\n",
    "**Nota:** Este método no es riguroso!"
   ]
  },
  {
   "cell_type": "markdown",
   "id": "b2166684",
   "metadata": {},
   "source": [
    "```julia\n",
    "function cuadratura_mas_∞(f::Function, D::Intervalo, tol::T = 1e-8, order::Int = 10) where {T <: AbstractFloat}\n",
    "    \n",
    "    @assert isfinite(D.infimo) && isinf(D.supremo) \"Esta función sólo funciona para intervalos de la forma `[a, ∞]`\"\n",
    "\n",
    "    # Primer intervalo \n",
    "    new_D = Intervalo(D.infimo, D.infimo + 1)\n",
    "    # Primera integral \n",
    "    quad = cuadratura_adaptativa(f, new_D, tol, order)\n",
    "    new_quad = quad\n",
    "    # \"Error\" \n",
    "    ϵ = mag(new_quad)\n",
    "\n",
    "    while ϵ > tol\n",
    "        # Intervalo actual \n",
    "        new_D = Intervalo(new_D.supremo, new_D.supremo + 1)\n",
    "        # Integral actual \n",
    "        new_quad = cuadratura_adaptativa(f, new_D, tol, order)\n",
    "        # \"Error\" \n",
    "        ϵ = mag(new_quad)\n",
    "        # Sumamos \n",
    "        quad += new_quad\n",
    "    end\n",
    "\n",
    "    return quad + Intervalo(-ϵ, ϵ)\n",
    "end\n",
    "```"
   ]
  },
  {
   "cell_type": "code",
   "execution_count": 75,
   "id": "ed134009",
   "metadata": {},
   "outputs": [
    {
     "data": {
      "text/plain": [
       "mostrar_integral_∞ (generic function with 1 method)"
      ]
     },
     "execution_count": 75,
     "metadata": {},
     "output_type": "execute_result"
    }
   ],
   "source": [
    "function mostrar_integral_∞(f, D, N, τ, order)\n",
    "    \n",
    "    I = cuadratura_infinita(f, D, τ, order)\n",
    "    println(rpad(\"Avanzado adaptativo: \", 25), rpad(I, 50), \"diam(I) = \", diam(I))\n",
    "    \n",
    "end"
   ]
  },
  {
   "cell_type": "markdown",
   "id": "22adb6df",
   "metadata": {},
   "source": [
    "$$\n",
    "    \\int_{0}^{\\infty} \\sqrt{x}e^{-x} \\ dx = \\frac{\\pi}{2} = 0.8862269254...\n",
    "$$"
   ]
  },
  {
   "cell_type": "code",
   "execution_count": 76,
   "id": "99b9ceae",
   "metadata": {},
   "outputs": [
    {
     "data": {
      "text/plain": [
       "[0.0, ∞]"
      ]
     },
     "execution_count": 76,
     "metadata": {},
     "output_type": "execute_result"
    }
   ],
   "source": [
    "N = 1_000\n",
    "order = 20\n",
    "τ = 1e-8\n",
    "\n",
    "f(x) = sqrt(x) * exp(-x)\n",
    "D = 0 .. Inf"
   ]
  },
  {
   "cell_type": "code",
   "execution_count": 77,
   "id": "b503c31e",
   "metadata": {},
   "outputs": [
    {
     "name": "stdout",
     "output_type": "stream",
     "text": [
      "Avanzado adaptativo:     [0.8862269157688264, 0.8862269280253979]          diam(I) = 1.2256571535473881e-8\n"
     ]
    }
   ],
   "source": [
    "mostrar_integral_∞(f, D, N, τ, order)"
   ]
  },
  {
   "cell_type": "markdown",
   "id": "08535112",
   "metadata": {},
   "source": [
    "$$\n",
    "    \\int_{0}^{\\infty} x^{z-1}e^{-x} \\ dx \\bigg|_{z = 7/5} = \\Gamma(z)\\bigg|_{z=7/5} = 0.887263817503...\n",
    "$$"
   ]
  },
  {
   "cell_type": "code",
   "execution_count": 78,
   "id": "cf628a47",
   "metadata": {},
   "outputs": [
    {
     "data": {
      "text/plain": [
       "[0.0, ∞]"
      ]
     },
     "execution_count": 78,
     "metadata": {},
     "output_type": "execute_result"
    }
   ],
   "source": [
    "N = 1_000\n",
    "order = 20\n",
    "τ = 1e-8\n",
    "\n",
    "z = 7/5\n",
    "f(x) = x^(z-1) * exp(-x)\n",
    "D = 0 .. Inf"
   ]
  },
  {
   "cell_type": "code",
   "execution_count": 79,
   "id": "4d5772df",
   "metadata": {},
   "outputs": [
    {
     "name": "stdout",
     "output_type": "stream",
     "text": [
      "Avanzado adaptativo:     [0.8872638101178691, 0.8872638196678068]          diam(I) = 9.549937618480442e-9\n"
     ]
    }
   ],
   "source": [
    "mostrar_integral_∞(f, D, N, τ, order)"
   ]
  },
  {
   "cell_type": "code",
   "execution_count": null,
   "id": "820aa8ad",
   "metadata": {},
   "outputs": [],
   "source": []
  }
 ],
 "metadata": {
  "kernelspec": {
   "display_name": "Julia 1.8.0 1.8.0",
   "language": "julia",
   "name": "julia-1.8.0-1.8"
  },
  "language_info": {
   "file_extension": ".jl",
   "mimetype": "application/julia",
   "name": "julia",
   "version": "1.8.0"
  }
 },
 "nbformat": 4,
 "nbformat_minor": 5
}
